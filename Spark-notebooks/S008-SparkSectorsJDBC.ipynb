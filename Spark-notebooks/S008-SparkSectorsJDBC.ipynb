{
 "cells": [
  {
   "cell_type": "code",
   "execution_count": 3,
   "id": "6971f972-013c-4058-ac87-b14018966e54",
   "metadata": {},
   "outputs": [
    {
     "name": "stdout",
     "output_type": "stream",
     "text": [
      "root\n",
      " |-- Company Name: string (nullable = true)\n",
      " |-- Industry: string (nullable = true)\n",
      " |-- Symbol: string (nullable = true)\n",
      " |-- Series: string (nullable = true)\n",
      " |-- ISIN Code: string (nullable = true)\n",
      "\n",
      "+------------------+------------------+----------+------+------------+\n",
      "|      Company Name|          Industry|    Symbol|Series|   ISIN Code|\n",
      "+------------------+------------------+----------+------+------------+\n",
      "|    Axis Bank Ltd.|FINANCIAL SERVICES|  AXISBANK|    EQ|INE238A01034|\n",
      "|Bajaj Finance Ltd.|FINANCIAL SERVICES|BAJFINANCE|    EQ|INE296A01024|\n",
      "+------------------+------------------+----------+------+------------+\n",
      "only showing top 2 rows\n",
      "\n"
     ]
    },
    {
     "data": {
      "text/plain": [
       "sectorDf: org.apache.spark.sql.DataFrame = [Company Name: string, Industry: string ... 3 more fields]\n"
      ]
     },
     "execution_count": 3,
     "metadata": {},
     "output_type": "execute_result"
    }
   ],
   "source": [
    "val sectorDf = spark.read\n",
    "                    .format(\"csv\")\n",
    "                    .option(\"header\", true)\n",
    "                    .option(\"inferSchema\", true)\n",
    "                    .option(\"delimitter\", \",\")\n",
    "                    .load(\"hdfs://localhost:9000/stocks/sectors\")\n",
    "\n",
    "sectorDf.printSchema()\n",
    "sectorDf.show(2)"
   ]
  },
  {
   "cell_type": "code",
   "execution_count": 4,
   "id": "93a8f37a-2d2b-489f-ac71-4722c64e1d02",
   "metadata": {},
   "outputs": [],
   "source": [
    "sectorDf\n",
    ".withColumnRenamed(\"Company Name\", \"Company\")\n",
    ".withColumnRenamed(\"ISIN Code\", \"ISIN\")\n",
    ".write\n",
    ".mode(\"overwrite\")\n",
    ".format(\"jdbc\")\n",
    ".option(\"url\", \"jdbc:mysql://localhost:3306/stockdb\")\n",
    ".option(\"driver\", \"com.mysql.jdbc.Driver\")\n",
    ".option(\"user\", \"team\")\n",
    ".option(\"password\", \"Team1234!\")\n",
    ".option(\"dbtable\", \"sectors\")\n",
    ".save()"
   ]
  },
  {
   "cell_type": "code",
   "execution_count": 5,
   "id": "6f152780-5fcc-4a0b-a715-e6c4d0e3b245",
   "metadata": {},
   "outputs": [
    {
     "name": "stdout",
     "output_type": "stream",
     "text": [
      "root\n",
      " |-- Company: string (nullable = true)\n",
      " |-- Industry: string (nullable = true)\n",
      " |-- Symbol: string (nullable = true)\n",
      " |-- Series: string (nullable = true)\n",
      " |-- ISIN: string (nullable = true)\n",
      "\n",
      "+--------------------+--------------+---------+------+------------+\n",
      "|             Company|      Industry|   Symbol|Series|        ISIN|\n",
      "+--------------------+--------------+---------+------+------------+\n",
      "|Britannia Industr...|CONSUMER GOODS|BRITANNIA|    EQ|INE216A01030|\n",
      "|Colgate Palmolive...|CONSUMER GOODS|   COLPAL|    EQ|INE259A01022|\n",
      "|    Dabur India Ltd.|CONSUMER GOODS|    DABUR|    EQ|INE016A01026|\n",
      "|          Emami Ltd.|CONSUMER GOODS| EMAMILTD|    EQ|INE548C01032|\n",
      "|Godrej Consumer P...|CONSUMER GOODS| GODREJCP|    EQ|INE102D01028|\n",
      "+--------------------+--------------+---------+------+------------+\n",
      "only showing top 5 rows\n",
      "\n"
     ]
    },
    {
     "data": {
      "text/plain": [
       "sectorDataFromMySqlDf: org.apache.spark.sql.DataFrame = [Company: string, Industry: string ... 3 more fields]\n"
      ]
     },
     "execution_count": 5,
     "metadata": {},
     "output_type": "execute_result"
    }
   ],
   "source": [
    "val sectorDataFromMySqlDf = spark.read\n",
    ".format(\"jdbc\")\n",
    ".option(\"url\", \"jdbc:mysql://localhost:3306/stockdb\")\n",
    ".option(\"driver\", \"com.mysql.jdbc.Driver\")\n",
    ".option(\"user\", \"team\")\n",
    ".option(\"password\", \"Team1234!\")\n",
    ".option(\"dbtable\", \"sectors\")\n",
    ".load()\n",
    "\n",
    "\n",
    "sectorDataFromMySqlDf.printSchema()\n",
    "sectorDataFromMySqlDf.show(5)"
   ]
  },
  {
   "cell_type": "code",
   "execution_count": null,
   "id": "76b7261a-6529-43c8-9ff2-345ed5ecf631",
   "metadata": {},
   "outputs": [],
   "source": []
  }
 ],
 "metadata": {
  "kernelspec": {
   "display_name": "spylon-kernel",
   "language": "scala",
   "name": "spylon-kernel"
  },
  "language_info": {
   "codemirror_mode": "text/x-scala",
   "file_extension": ".scala",
   "help_links": [
    {
     "text": "MetaKernel Magics",
     "url": "https://metakernel.readthedocs.io/en/latest/source/README.html"
    }
   ],
   "mimetype": "text/x-scala",
   "name": "scala",
   "pygments_lexer": "scala",
   "version": "0.4.1"
  }
 },
 "nbformat": 4,
 "nbformat_minor": 5
}
