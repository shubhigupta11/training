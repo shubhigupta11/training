{
 "cells": [
  {
   "cell_type": "code",
   "execution_count": 1,
   "id": "096b91f2-ae94-44d0-ad35-3f618b7b2ec9",
   "metadata": {},
   "outputs": [
    {
     "data": {
      "text/plain": [
       "Intitializing Scala interpreter ..."
      ]
     },
     "metadata": {},
     "output_type": "display_data"
    },
    {
     "data": {
      "text/plain": [
       "Spark Web UI available at http://192.168.80.128:4043\n",
       "SparkContext available as 'sc' (version = 3.1.3, master = local[*], app id = local-1648407801753)\n",
       "SparkSession available as 'spark'\n"
      ]
     },
     "metadata": {},
     "output_type": "display_data"
    },
    {
     "data": {
      "text/plain": [
       "import org.apache.spark.sql.types.{DoubleType, IntegerType, LongType, TimestampType, StringType, StructField, StructType}\n",
       "import org.apache.spark.sql.functions._\n"
      ]
     },
     "execution_count": 1,
     "metadata": {},
     "output_type": "execute_result"
    }
   ],
   "source": [
    "import org.apache.spark.sql.types.{DoubleType, IntegerType, LongType, TimestampType,  StringType, StructField, StructType}\n",
    "\n",
    "import  org.apache.spark.sql.functions._"
   ]
  },
  {
   "cell_type": "code",
   "execution_count": 2,
   "id": "58d3f3a5-f326-442d-8161-93b3c2bd7da1",
   "metadata": {},
   "outputs": [
    {
     "data": {
      "text/plain": [
       "intraDayMinParquetDf: org.apache.spark.sql.DataFrame = [Symbol: string, Date: string ... 7 more fields]\n"
      ]
     },
     "execution_count": 2,
     "metadata": {},
     "output_type": "execute_result"
    }
   ],
   "source": [
    "var intraDayMinParquetDf = spark.read\n",
    "    .format(\"parquet\")\n",
    "    .option(\"timestampFormat\", \"yyyyMMdd\") //20200803\n",
    "    .load(\"hdfs://localhost:9000/silver/\")"
   ]
  },
  {
   "cell_type": "code",
   "execution_count": 3,
   "id": "7c6878c2-188b-4300-bc61-6797570c3676",
   "metadata": {},
   "outputs": [
    {
     "data": {
      "text/plain": [
       "res0: Long = 27812025\n"
      ]
     },
     "execution_count": 3,
     "metadata": {},
     "output_type": "execute_result"
    }
   ],
   "source": [
    "intraDayMinParquetDf.count()"
   ]
  },
  {
   "cell_type": "code",
   "execution_count": 4,
   "id": "c9018166-2725-4492-991a-3c0b870a739e",
   "metadata": {},
   "outputs": [
    {
     "data": {
      "text/plain": [
       "intraDayMinParquetDf: org.apache.spark.sql.DataFrame = [Symbol: string, Open: double ... 6 more fields]\n"
      ]
     },
     "execution_count": 4,
     "metadata": {},
     "output_type": "execute_result"
    }
   ],
   "source": [
    "intraDayMinParquetDf = intraDayMinParquetDf.withColumn(\"DateTimeStr\", concat( col(\"Date\"), lit(\" \"), col(\"Time\")))\n",
    "    .withColumn(\"DateTime\", to_timestamp(col(\"DateTimeStr\"), \"yyyyMMdd hh:mm\" ))\n",
    "    .withColumn(\"Date\", to_timestamp(col(\"Date\"), \"yyyyMMdd\" ))\n",
    "    .drop($\"DateTimeStr\")\n",
    "    .drop($\"Time\")\n",
    "    .drop($\"Date\")"
   ]
  },
  {
   "cell_type": "code",
   "execution_count": 5,
   "id": "7fe15354-7dc3-4f98-9c6d-b364e67f359e",
   "metadata": {},
   "outputs": [],
   "source": [
    "intraDayMinParquetDf.withColumn(\"Year\", date_format(col(\"DateTime\"), \"yyyy\"))\n",
    "              .withColumn(\"Month\", date_format(col(\"DateTime\"), \"MM\"))\n",
    "              .withColumn(\"Day\", date_format(col(\"DateTime\"), \"dd\"))\n",
    "                .write\n",
    "                .partitionBy(\"Year\", \"Month\", \"Day\")\n",
    "                .format(\"parquet\")\n",
    "                .mode(\"overwrite\")\n",
    "                .save(\"hdfs://localhost:9000/intraday/\")"
   ]
  },
  {
   "cell_type": "code",
   "execution_count": null,
   "id": "3e37a692-2d9e-4dfc-a13e-dea0c7d9e555",
   "metadata": {},
   "outputs": [],
   "source": []
  }
 ],
 "metadata": {
  "kernelspec": {
   "display_name": "spylon-kernel",
   "language": "scala",
   "name": "spylon-kernel"
  },
  "language_info": {
   "codemirror_mode": "text/x-scala",
   "file_extension": ".scala",
   "help_links": [
    {
     "text": "MetaKernel Magics",
     "url": "https://metakernel.readthedocs.io/en/latest/source/README.html"
    }
   ],
   "mimetype": "text/x-scala",
   "name": "scala",
   "pygments_lexer": "scala",
   "version": "0.4.1"
  }
 },
 "nbformat": 4,
 "nbformat_minor": 5
}
