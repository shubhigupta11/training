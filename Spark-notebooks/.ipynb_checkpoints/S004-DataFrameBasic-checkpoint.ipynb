{
 "cells": [
  {
   "cell_type": "code",
   "execution_count": 1,
   "id": "77dc53e0-b640-4b03-9a5e-2d29de52adcb",
   "metadata": {},
   "outputs": [
    {
     "data": {
      "text/plain": [
       "Intitializing Scala interpreter ..."
      ]
     },
     "metadata": {},
     "output_type": "display_data"
    },
    {
     "data": {
      "text/plain": [
       "Spark Web UI available at http://192.168.80.128:4041\n",
       "SparkContext available as 'sc' (version = 2.4.7, master = local[*], app id = local-1646411606212)\n",
       "SparkSession available as 'spark'\n"
      ]
     },
     "metadata": {},
     "output_type": "display_data"
    },
    {
     "data": {
      "text/plain": [
       "defined class Product\n"
      ]
     },
     "execution_count": 1,
     "metadata": {},
     "output_type": "execute_result"
    }
   ],
   "source": [
    "case class Product(id: Int,  price: Double)"
   ]
  },
  {
   "cell_type": "code",
   "execution_count": 3,
   "id": "ce35f30c-903e-47b9-aa41-f51f493c5e70",
   "metadata": {},
   "outputs": [
    {
     "data": {
      "text/plain": [
       "products: Seq[Product] = List(Product(1,100.0), Product(2,200.0), Product(3,300.9))\n"
      ]
     },
     "execution_count": 3,
     "metadata": {},
     "output_type": "execute_result"
    }
   ],
   "source": [
    "val products = Seq ( Product(1, 100.0),\n",
    "                   Product(2, 200.0),\n",
    "                   Product(3, 300.9)\n",
    "                   )"
   ]
  },
  {
   "cell_type": "code",
   "execution_count": 4,
   "id": "ae1d01ae-2f47-4ee5-9936-ae8179b87a57",
   "metadata": {},
   "outputs": [
    {
     "data": {
      "text/plain": [
       "rdd: org.apache.spark.rdd.RDD[Product] = ParallelCollectionRDD[0] at parallelize at <console>:27\n"
      ]
     },
     "execution_count": 4,
     "metadata": {},
     "output_type": "execute_result"
    }
   ],
   "source": [
    "val rdd = sc.parallelize(products)"
   ]
  },
  {
   "cell_type": "code",
   "execution_count": 5,
   "id": "21868e9a-fed3-4eab-92fa-35745ce29764",
   "metadata": {
    "tags": []
   },
   "outputs": [
    {
     "data": {
      "text/plain": [
       "rdd2: org.apache.spark.rdd.RDD[Product] = MapPartitionsRDD[1] at filter at <console>:26\n"
      ]
     },
     "execution_count": 5,
     "metadata": {},
     "output_type": "execute_result"
    }
   ],
   "source": [
    "val rdd2 = rdd.filter (product => product.price > 150)"
   ]
  },
  {
   "cell_type": "code",
   "execution_count": 6,
   "id": "9c2bd20b-b7f4-495c-8141-d88a3cb29fb5",
   "metadata": {},
   "outputs": [
    {
     "data": {
      "text/plain": [
       "productDf: org.apache.spark.sql.DataFrame = [id: int, price: double]\n"
      ]
     },
     "execution_count": 6,
     "metadata": {},
     "output_type": "execute_result"
    }
   ],
   "source": [
    "val productDf = rdd.toDF()"
   ]
  },
  {
   "cell_type": "code",
   "execution_count": 7,
   "id": "f18e9f5d-99a7-4957-8ee9-695315dbc577",
   "metadata": {},
   "outputs": [
    {
     "name": "stdout",
     "output_type": "stream",
     "text": [
      "root\n",
      " |-- id: integer (nullable = false)\n",
      " |-- price: double (nullable = false)\n",
      "\n"
     ]
    }
   ],
   "source": [
    "productDf.printSchema()"
   ]
  },
  {
   "cell_type": "code",
   "execution_count": null,
   "id": "01f2ea17-4adf-4c85-8056-7c94d35fdd91",
   "metadata": {},
   "outputs": [],
   "source": []
  }
 ],
 "metadata": {
  "kernelspec": {
   "display_name": "spylon-kernel",
   "language": "scala",
   "name": "spylon-kernel"
  },
  "language_info": {
   "codemirror_mode": "text/x-scala",
   "file_extension": ".scala",
   "help_links": [
    {
     "text": "MetaKernel Magics",
     "url": "https://metakernel.readthedocs.io/en/latest/source/README.html"
    }
   ],
   "mimetype": "text/x-scala",
   "name": "scala",
   "pygments_lexer": "scala",
   "version": "0.4.1"
  }
 },
 "nbformat": 4,
 "nbformat_minor": 5
}
