{
 "cells": [
  {
   "cell_type": "code",
   "execution_count": 1,
   "id": "096b91f2-ae94-44d0-ad35-3f618b7b2ec9",
   "metadata": {},
   "outputs": [
    {
     "data": {
      "text/plain": [
       "Intitializing Scala interpreter ..."
      ]
     },
     "metadata": {},
     "output_type": "display_data"
    },
    {
     "data": {
      "text/plain": [
       "Spark Web UI available at http://192.168.80.128:4042\n",
       "SparkContext available as 'sc' (version = 3.1.3, master = local[*], app id = local-1648407653291)\n",
       "SparkSession available as 'spark'\n"
      ]
     },
     "metadata": {},
     "output_type": "display_data"
    },
    {
     "data": {
      "text/plain": [
       "import org.apache.spark.sql.types.{DoubleType, IntegerType, LongType, TimestampType, StringType, StructField, StructType}\n",
       "import org.apache.spark.sql.functions._\n"
      ]
     },
     "execution_count": 1,
     "metadata": {},
     "output_type": "execute_result"
    }
   ],
   "source": [
    "import org.apache.spark.sql.types.{DoubleType, IntegerType, LongType, TimestampType,  StringType, StructField, StructType}\n",
    "\n",
    "import  org.apache.spark.sql.functions._"
   ]
  },
  {
   "cell_type": "code",
   "execution_count": 2,
   "id": "58d3f3a5-f326-442d-8161-93b3c2bd7da1",
   "metadata": {},
   "outputs": [
    {
     "data": {
      "text/plain": [
       "IntraDaySchema: org.apache.spark.sql.types.StructType = StructType(StructField(Symbol,StringType,true), StructField(Date,StringType,true), StructField(Time,StringType,true), StructField(Open,DoubleType,true), StructField(High,DoubleType,true), StructField(Low,DoubleType,true), StructField(Close,DoubleType,true), StructField(Volume,LongType,true), StructField(OI,LongType,true))\n"
      ]
     },
     "execution_count": 2,
     "metadata": {},
     "output_type": "execute_result"
    }
   ],
   "source": [
    "val IntraDaySchema = StructType(\n",
    "    List(\n",
    "      StructField(\"Symbol\", StringType, true),\n",
    "      StructField(\"Date\", StringType, true), // TimestampType with , yyyyMMdd\n",
    "      StructField(\"Time\", StringType, true),\n",
    "      StructField(\"Open\", DoubleType, true),\n",
    "      StructField(\"High\", DoubleType, true),\n",
    "      StructField(\"Low\", DoubleType, true),\n",
    "      StructField(\"Close\", DoubleType, true),\n",
    "      StructField(\"Volume\", LongType, true),\n",
    "      StructField(\"OI\", LongType, true)\n",
    "    )\n",
    "  )"
   ]
  },
  {
   "cell_type": "code",
   "execution_count": 3,
   "id": "7c6878c2-188b-4300-bc61-6797570c3676",
   "metadata": {},
   "outputs": [
    {
     "data": {
      "text/plain": [
       "intraDayMinRawDf: org.apache.spark.sql.DataFrame = [Symbol: string, Date: string ... 7 more fields]\n"
      ]
     },
     "execution_count": 3,
     "metadata": {},
     "output_type": "execute_result"
    }
   ],
   "source": [
    "var intraDayMinRawDf = spark.read\n",
    "    .format(\"csv\")\n",
    "    .option(\"header\",  false)\n",
    "    .option(\"delimitter\", \",\")\n",
    "    //.option(\"timestampFormat\", \"yyyyMMdd\") //20200803\n",
    "    .schema(IntraDaySchema) // use the Schema\n",
    "    .load(\"hdfs://localhost:9000/raw/*/*/*.txt\")"
   ]
  },
  {
   "cell_type": "code",
   "execution_count": 4,
   "id": "bd037c71-4149-4c7f-95dc-043be9aa9fa4",
   "metadata": {},
   "outputs": [
    {
     "data": {
      "text/plain": [
       "res0: Long = 27812025\n"
      ]
     },
     "execution_count": 4,
     "metadata": {},
     "output_type": "execute_result"
    }
   ],
   "source": [
    "intraDayMinRawDf.count()"
   ]
  },
  {
   "cell_type": "code",
   "execution_count": 5,
   "id": "63698fce-b5f5-4b3d-a546-23bf91d82125",
   "metadata": {},
   "outputs": [
    {
     "data": {
      "text/plain": [
       "res1: Array[org.apache.spark.sql.Row] = Array([SILVERMIC_F1,20211201,09:01,62588.0,62707.0,62550.0,62659.0,101,98752], [SILVERMIC_F1,20211201,09:02,62662.0,62679.0,62658.0,62670.0,98,98818])\n"
      ]
     },
     "execution_count": 5,
     "metadata": {},
     "output_type": "execute_result"
    }
   ],
   "source": [
    "intraDayMinRawDf.rdd.take(2)"
   ]
  },
  {
   "cell_type": "code",
   "execution_count": 6,
   "id": "4e78154e-ee1f-4f49-8938-e71af8e02e06",
   "metadata": {},
   "outputs": [
    {
     "data": {
      "text/plain": [
       "res2: Int = 133\n"
      ]
     },
     "execution_count": 6,
     "metadata": {},
     "output_type": "execute_result"
    }
   ],
   "source": [
    "intraDayMinRawDf.rdd.getNumPartitions"
   ]
  },
  {
   "cell_type": "code",
   "execution_count": 7,
   "id": "abb46352-1187-4b49-87f6-2f2c11d194a8",
   "metadata": {},
   "outputs": [],
   "source": [
    "intraDayMinRawDf.write\n",
    "        .format(\"parquet\")\n",
    "        .mode(\"overwrite\")\n",
    "        .save(\"hdfs://localhost:9000/silver\")"
   ]
  },
  {
   "cell_type": "code",
   "execution_count": 9,
   "id": "09ea865f-1f17-4b9d-a0a4-e4aa7b72ac6c",
   "metadata": {},
   "outputs": [
    {
     "name": "stdout",
     "output_type": "stream",
     "text": [
      "root\n",
      " |-- Symbol: string (nullable = true)\n",
      " |-- Date: string (nullable = true)\n",
      " |-- Time: string (nullable = true)\n",
      " |-- Open: double (nullable = true)\n",
      " |-- High: double (nullable = true)\n",
      " |-- Low: double (nullable = true)\n",
      " |-- Close: double (nullable = true)\n",
      " |-- Volume: long (nullable = true)\n",
      " |-- OI: long (nullable = true)\n",
      "\n"
     ]
    }
   ],
   "source": [
    "intraDayMinRawDf.printSchema()"
   ]
  },
  {
   "cell_type": "code",
   "execution_count": null,
   "id": "c9018166-2725-4492-991a-3c0b870a739e",
   "metadata": {},
   "outputs": [],
   "source": []
  }
 ],
 "metadata": {
  "kernelspec": {
   "display_name": "spylon-kernel",
   "language": "scala",
   "name": "spylon-kernel"
  },
  "language_info": {
   "codemirror_mode": "text/x-scala",
   "file_extension": ".scala",
   "help_links": [
    {
     "text": "MetaKernel Magics",
     "url": "https://metakernel.readthedocs.io/en/latest/source/README.html"
    }
   ],
   "mimetype": "text/x-scala",
   "name": "scala",
   "pygments_lexer": "scala",
   "version": "0.4.1"
  }
 },
 "nbformat": 4,
 "nbformat_minor": 5
}
