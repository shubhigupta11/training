{
 "cells": [
  {
   "cell_type": "code",
   "execution_count": 1,
   "id": "7da6bde9-3d36-48fb-8207-01b7b03288a2",
   "metadata": {},
   "outputs": [
    {
     "data": {
      "text/plain": [
       "Intitializing Scala interpreter ..."
      ]
     },
     "metadata": {},
     "output_type": "display_data"
    },
    {
     "data": {
      "text/plain": [
       "Spark Web UI available at http://192.168.80.128:4041\n",
       "SparkContext available as 'sc' (version = 2.4.7, master = local[*], app id = local-1646249233467)\n",
       "SparkSession available as 'spark'\n"
      ]
     },
     "metadata": {},
     "output_type": "display_data"
    },
    {
     "data": {
      "text/plain": [
       "r: Int = 30\n"
      ]
     },
     "execution_count": 1,
     "metadata": {},
     "output_type": "execute_result"
    }
   ],
   "source": [
    "val r = 10 + 20"
   ]
  },
  {
   "cell_type": "code",
   "execution_count": 2,
   "id": "fdda0610-ef32-437a-8bae-c29107952eb9",
   "metadata": {},
   "outputs": [
    {
     "data": {
      "text/plain": [
       "rdd: org.apache.spark.rdd.RDD[Int] = ParallelCollectionRDD[0] at parallelize at <console>:25\n"
      ]
     },
     "execution_count": 2,
     "metadata": {},
     "output_type": "execute_result"
    }
   ],
   "source": [
    "val rdd = sc.parallelize(1 to 10)"
   ]
  },
  {
   "cell_type": "code",
   "execution_count": 3,
   "id": "0535839a-a1b1-4b7c-a33b-e1f1ee4e13ea",
   "metadata": {},
   "outputs": [
    {
     "data": {
      "text/plain": [
       "res0: Array[Int] = Array(1, 2, 3, 4, 5, 6, 7, 8, 9, 10)\n"
      ]
     },
     "execution_count": 3,
     "metadata": {},
     "output_type": "execute_result"
    }
   ],
   "source": [
    "rdd.collect()"
   ]
  },
  {
   "cell_type": "code",
   "execution_count": 5,
   "id": "7ca8f6ab-a9d8-4eb0-beaa-6fc2ee54733f",
   "metadata": {},
   "outputs": [
    {
     "data": {
      "text/plain": [
       "oddNumbers: org.apache.spark.rdd.RDD[Int] = MapPartitionsRDD[1] at filter at <console>:26\n",
       "res1: Array[Int] = Array(1, 3, 5, 7, 9)\n"
      ]
     },
     "execution_count": 5,
     "metadata": {},
     "output_type": "execute_result"
    }
   ],
   "source": [
    "val oddNumbers = rdd.filter (n => n % 2 ==1 )\n",
    "oddNumbers.collect()"
   ]
  },
  {
   "cell_type": "code",
   "execution_count": 6,
   "id": "99981baa-e128-4784-b434-cadfa07c15ca",
   "metadata": {},
   "outputs": [
    {
     "data": {
      "text/plain": [
       "mulRdd: org.apache.spark.rdd.RDD[Int] = MapPartitionsRDD[2] at map at <console>:26\n",
       "res2: Array[Int] = Array(10, 30, 50, 70, 90)\n"
      ]
     },
     "execution_count": 6,
     "metadata": {},
     "output_type": "execute_result"
    }
   ],
   "source": [
    "val mulRdd = oddNumbers.map (n => n * 10)\n",
    "mulRdd.collect()"
   ]
  },
  {
   "cell_type": "code",
   "execution_count": 7,
   "id": "6249c96b-e65b-46b4-8b2f-d38b4e0c2ce9",
   "metadata": {},
   "outputs": [
    {
     "data": {
      "text/plain": [
       "res3: String =\n",
       "(2) MapPartitionsRDD[2] at map at <console>:26 []\n",
       " |  MapPartitionsRDD[1] at filter at <console>:26 []\n",
       " |  ParallelCollectionRDD[0] at parallelize at <console>:25 []\n"
      ]
     },
     "execution_count": 7,
     "metadata": {},
     "output_type": "execute_result"
    }
   ],
   "source": [
    "mulRdd.toDebugString"
   ]
  },
  {
   "cell_type": "code",
   "execution_count": null,
   "id": "e52a09f1-0872-497f-956a-fb95ffa6d79b",
   "metadata": {},
   "outputs": [],
   "source": []
  }
 ],
 "metadata": {
  "kernelspec": {
   "display_name": "spylon-kernel",
   "language": "scala",
   "name": "spylon-kernel"
  },
  "language_info": {
   "codemirror_mode": "text/x-scala",
   "file_extension": ".scala",
   "help_links": [
    {
     "text": "MetaKernel Magics",
     "url": "https://metakernel.readthedocs.io/en/latest/source/README.html"
    }
   ],
   "mimetype": "text/x-scala",
   "name": "scala",
   "pygments_lexer": "scala",
   "version": "0.4.1"
  }
 },
 "nbformat": 4,
 "nbformat_minor": 5
}
