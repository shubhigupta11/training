{
 "cells": [
  {
   "cell_type": "code",
   "execution_count": 1,
   "id": "6eacf95e-4661-412c-8d70-b9794766c64c",
   "metadata": {},
   "outputs": [
    {
     "data": {
      "text/plain": [
       "Intitializing Scala interpreter ..."
      ]
     },
     "metadata": {},
     "output_type": "display_data"
    },
    {
     "data": {
      "text/plain": [
       "Spark Web UI available at http://192.168.80.128:4040\n",
       "SparkContext available as 'sc' (version = 3.1.3, master = local[*], app id = local-1648402585073)\n",
       "SparkSession available as 'spark'\n"
      ]
     },
     "metadata": {},
     "output_type": "display_data"
    },
    {
     "data": {
      "text/plain": [
       "moviesRdd: org.apache.spark.rdd.RDD[String] = hdfs://localhost:9000/movies/movies.csv MapPartitionsRDD[1] at textFile at <console>:25\n",
       "ratingRdd: org.apache.spark.rdd.RDD[String] = hdfs://localhost:9000/ratings/ratings.csv MapPartitionsRDD[3] at textFile at <console>:26\n"
      ]
     },
     "execution_count": 1,
     "metadata": {},
     "output_type": "execute_result"
    }
   ],
   "source": [
    "val moviesRdd = sc.textFile(\"hdfs://localhost:9000/movies/movies.csv\")\n",
    "val ratingRdd = sc.textFile(\"hdfs://localhost:9000/ratings/ratings.csv\")"
   ]
  },
  {
   "cell_type": "code",
   "execution_count": 2,
   "id": "4e0ad9e3-a08d-4da2-b32f-33c09f586047",
   "metadata": {},
   "outputs": [
    {
     "data": {
      "text/plain": [
       "res0: Long = 9743\n"
      ]
     },
     "execution_count": 2,
     "metadata": {},
     "output_type": "execute_result"
    }
   ],
   "source": [
    "moviesRdd.count()"
   ]
  },
  {
   "cell_type": "code",
   "execution_count": 3,
   "id": "727a6743-2d81-4e62-a46d-5bc295fe36a8",
   "metadata": {},
   "outputs": [
    {
     "data": {
      "text/plain": [
       "res1: Long = 100837\n"
      ]
     },
     "execution_count": 3,
     "metadata": {},
     "output_type": "execute_result"
    }
   ],
   "source": [
    "ratingRdd.count()"
   ]
  },
  {
   "cell_type": "code",
   "execution_count": 4,
   "id": "b28db6a8-cd9a-4765-89ea-dc0e1ca59493",
   "metadata": {},
   "outputs": [
    {
     "data": {
      "text/plain": [
       "res2: String = movieId,title,genres\n"
      ]
     },
     "execution_count": 4,
     "metadata": {},
     "output_type": "execute_result"
    }
   ],
   "source": [
    "moviesRdd.first()"
   ]
  },
  {
   "cell_type": "code",
   "execution_count": 5,
   "id": "0c4ddc16-ac6c-490f-b7e3-222c96565215",
   "metadata": {},
   "outputs": [
    {
     "data": {
      "text/plain": [
       "res3: String = userId,movieId,rating,timestamp\n"
      ]
     },
     "execution_count": 5,
     "metadata": {},
     "output_type": "execute_result"
    }
   ],
   "source": [
    "ratingRdd.first()"
   ]
  },
  {
   "cell_type": "code",
   "execution_count": 6,
   "id": "d320020d-7da3-4b99-91f2-91c7c1795f4e",
   "metadata": {},
   "outputs": [
    {
     "data": {
      "text/plain": [
       "header: String = movieId,title,genres\n",
       "moviesContentRdd: org.apache.spark.rdd.RDD[String] = MapPartitionsRDD[4] at filter at <console>:27\n",
       "res4: Array[String] = Array(1,Toy Story (1995),Adventure|Animation|Children|Comedy|Fantasy, 2,Jumanji (1995),Adventure|Children|Fantasy)\n"
      ]
     },
     "execution_count": 6,
     "metadata": {},
     "output_type": "execute_result"
    }
   ],
   "source": [
    "val header = moviesRdd.first()\n",
    "val moviesContentRdd = moviesRdd.filter (line => line != header)\n",
    "moviesContentRdd.take(2)"
   ]
  },
  {
   "cell_type": "code",
   "execution_count": 7,
   "id": "4896fcf6-2781-4b77-8be3-a3892bddc6ce",
   "metadata": {},
   "outputs": [
    {
     "data": {
      "text/plain": [
       "rheader: String = userId,movieId,rating,timestamp\n",
       "ratingsContentRdd: org.apache.spark.rdd.RDD[String] = MapPartitionsRDD[5] at filter at <console>:27\n",
       "res5: Array[String] = Array(1,1,4.0,964982703, 1,3,4.0,964981247)\n"
      ]
     },
     "execution_count": 7,
     "metadata": {},
     "output_type": "execute_result"
    }
   ],
   "source": [
    "val rheader = ratingRdd.first()\n",
    "val ratingsContentRdd = ratingRdd.filter (line => line != rheader)\n",
    "ratingsContentRdd.take(2)"
   ]
  },
  {
   "cell_type": "code",
   "execution_count": 8,
   "id": "f11f26fa-ff67-4b57-a7b9-14dcf2a7738d",
   "metadata": {},
   "outputs": [
    {
     "data": {
      "text/plain": [
       "moviesParsedRdd: org.apache.spark.rdd.RDD[Array[String]] = MapPartitionsRDD[6] at map at <console>:27\n",
       "res6: Array[Array[String]] = Array(Array(1, Toy Story (1995), Adventure|Animation|Children|Comedy|Fantasy), Array(2, Jumanji (1995), Adventure|Children|Fantasy), Array(3, Grumpier Old Men (1995), Comedy|Romance), Array(4, Waiting to Exhale (1995), Comedy|Drama|Romance))\n"
      ]
     },
     "execution_count": 8,
     "metadata": {},
     "output_type": "execute_result"
    }
   ],
   "source": [
    "val moviesParsedRdd = moviesContentRdd\n",
    "                        .map (line => line.split(\",\"))\n",
    "moviesParsedRdd.take(4)"
   ]
  },
  {
   "cell_type": "code",
   "execution_count": 9,
   "id": "de6d9005-65d4-4415-97e8-0dbdc7eb5abf",
   "metadata": {},
   "outputs": [
    {
     "data": {
      "text/plain": [
       "moviesTupleRdd: org.apache.spark.rdd.RDD[(Int, (String, String))] = MapPartitionsRDD[7] at map at <console>:26\n",
       "res7: Array[(Int, (String, String))] = Array((1,(Toy Story (1995),Adventure|Animation|Children|Comedy|Fantasy)), (2,(Jumanji (1995),Adventure|Children|Fantasy)), (3,(Grumpier Old Men (1995),Comedy|Romance)), (4,(Waiting to Exhale (1995),Comedy|Drama|Romance)))\n"
      ]
     },
     "execution_count": 9,
     "metadata": {},
     "output_type": "execute_result"
    }
   ],
   "source": [
    "val moviesTupleRdd = moviesParsedRdd.map (arr => (arr(0).toInt, (arr(1), arr(2))))\n",
    "moviesTupleRdd.take(4)"
   ]
  },
  {
   "cell_type": "code",
   "execution_count": 10,
   "id": "d9baa683-7c22-4a14-abce-8e5f06cdc760",
   "metadata": {},
   "outputs": [],
   "source": [
    "//case class Movie (id: Int, title: String, genres: String)\n",
    "//val moviesDataRdd = moviesTupleRdd.map ( t =>Movie(t._1, t._2, t._3))\n",
    "//moviesDataRdd.take(4)"
   ]
  },
  {
   "cell_type": "code",
   "execution_count": 11,
   "id": "8359c11a-8440-4595-b61d-22e979aa8778",
   "metadata": {},
   "outputs": [
    {
     "data": {
      "text/plain": [
       "ratingParsedRdd: org.apache.spark.rdd.RDD[Array[String]] = MapPartitionsRDD[10] at map at <console>:29\n",
       "res9: Array[Array[String]] = Array(Array(1, 1, 4.0, 964982703), Array(1, 3, 4.0, 964981247), Array(1, 6, 4.0, 964982224), Array(1, 47, 5.0, 964983815))\n"
      ]
     },
     "execution_count": 11,
     "metadata": {},
     "output_type": "execute_result"
    }
   ],
   "source": [
    "val ratingParsedRdd = ratingsContentRdd\n",
    "                        .map (line => line.trim())\n",
    "                        .filter (line => !line.isEmpty())\n",
    "                        .map (line => line.split(\",\"))\n",
    "ratingParsedRdd.take(4)"
   ]
  },
  {
   "cell_type": "code",
   "execution_count": 12,
   "id": "70a0e798-408f-410e-833d-a737a35c8430",
   "metadata": {},
   "outputs": [
    {
     "data": {
      "text/plain": [
       "ratingsTupleRdd: org.apache.spark.rdd.RDD[(Int, (Int, Double, Long))] = MapPartitionsRDD[11] at map at <console>:26\n",
       "res10: Array[(Int, (Int, Double, Long))] = Array((1,(1,4.0,964982703)), (1,(3,4.0,964981247)), (1,(6,4.0,964982224)), (1,(47,5.0,964983815)))\n"
      ]
     },
     "execution_count": 12,
     "metadata": {},
     "output_type": "execute_result"
    }
   ],
   "source": [
    "val ratingsTupleRdd = ratingParsedRdd.map (rating => (rating(0).toInt, \n",
    "                                                      (rating(1).toInt,\n",
    "                                                      rating(2).toDouble,\n",
    "                                                      rating(3).toLong)\n",
    "                                                      ))\n",
    "ratingsTupleRdd.take(4)                               "
   ]
  },
  {
   "cell_type": "code",
   "execution_count": 13,
   "id": "d3ce8468-feca-4a29-a6c8-9029d4887e89",
   "metadata": {},
   "outputs": [
    {
     "data": {
      "text/plain": [
       "outputRdd: org.apache.spark.rdd.RDD[(Int, ((String, String), (Int, Double, Long)))] = MapPartitionsRDD[14] at join at <console>:29\n",
       "res11: Array[(Int, ((String, String), (Int, Double, Long)))] = Array((140,((Up Close and Personal (1996),Drama|Romance),(1,3.0,942924980))), (140,((Up Close and Personal (1996),Drama|Romance),(2,3.5,1085569813))), (140,((Up Close and Personal (1996),Drama|Romance),(6,5.0,942843185))))\n"
      ]
     },
     "execution_count": 13,
     "metadata": {},
     "output_type": "execute_result"
    }
   ],
   "source": [
    "//pair Rdd needs keys and value pair\n",
    "val outputRdd = moviesTupleRdd.join(ratingsTupleRdd)\n",
    "outputRdd.take(3)"
   ]
  },
  {
   "cell_type": "code",
   "execution_count": null,
   "id": "117893cf-4e1f-4eee-a711-656ecc11cd19",
   "metadata": {},
   "outputs": [],
   "source": []
  }
 ],
 "metadata": {
  "kernelspec": {
   "display_name": "spylon-kernel",
   "language": "scala",
   "name": "spylon-kernel"
  },
  "language_info": {
   "codemirror_mode": "text/x-scala",
   "file_extension": ".scala",
   "help_links": [
    {
     "text": "MetaKernel Magics",
     "url": "https://metakernel.readthedocs.io/en/latest/source/README.html"
    }
   ],
   "mimetype": "text/x-scala",
   "name": "scala",
   "pygments_lexer": "scala",
   "version": "0.4.1"
  }
 },
 "nbformat": 4,
 "nbformat_minor": 5
}
