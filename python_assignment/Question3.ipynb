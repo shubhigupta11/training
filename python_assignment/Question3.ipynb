{
 "cells": [
  {
   "cell_type": "markdown",
   "id": "25e34e56-442b-4174-a320-5abf9274d678",
   "metadata": {},
   "source": [
    "**3. Use the Intraday 1 Min data from parquet format, calculate Gain, GainP for every hourly window for each stock. The possible column output should be,\n",
    "“SYMBOL”, “DATEFROM”, “DATETO”, “GAINP” where are DATEFROM and DATETO are timestamp/date columns example, DATEFROM from Feb 01, 2022 10:00 AM to Feb 01, 2022 11:00**"
   ]
  },
  {
   "cell_type": "code",
   "execution_count": null,
   "id": "26f97761-f193-45f0-a52a-8feb9dcfaa75",
   "metadata": {},
   "outputs": [],
   "source": [
    "dailyDf = spark.read.format(\"parquet\")\\\n",
    "                .option(\"header\", True)\\\n",
    "                .option(\"inferSchema\", True)\\\n",
    "                .option(\"timestampFormat\", \"dd-MMM-yyyy\")\\\n",
    "                .load(\"hdfs://localhost:9000/intraday/Year=2022/Month=02/Day=10\")\n",
    "\n",
    "dailyDf.printSchema()\n",
    "dailyDf.show(5)"
   ]
  },
  {
   "cell_type": "code",
   "execution_count": null,
   "id": "ebad1cd3-b12e-4fc4-a269-c7a314baaeea",
   "metadata": {},
   "outputs": [],
   "source": [
    "dailyDf.groupBy(\"Symbol\", F.window(dailyDf.DateTime, \"60 minutes\", \"60 minutes\"))"
   ]
  },
  {
   "cell_type": "code",
   "execution_count": null,
   "id": "05f5c72c-d4a4-4451-87b0-e76caffc2404",
   "metadata": {},
   "outputs": [],
   "source": [
    "from pyspark.sql.window import Window\n",
    "from pyspark.sql.functions import lag\n",
    "\n",
    "windowSpec = Window.partitionBy('Symbol').orderBy('DateTime')\n",
    "\n",
    "dailyDf = dailyDf.withColumn('DATEFROM', lag('DateTime').over(windowSpec))\\\n",
    "                .withColumnRenamed(\"DateTime\", \"DATETO\")\\\n",
    "                .withColumn('GAIN', col('Close') -col('Open'))\\\n",
    "                .withColumn('GAINP', (col('GAIN') / col('Open')) *100)\n",
    "\n",
    "\n",
    "dailyDf.printSch"
   ]
  }
 ],
 "metadata": {
  "kernelspec": {
   "display_name": "Python 3 (ipykernel)",
   "language": "python",
   "name": "python3"
  },
  "language_info": {
   "codemirror_mode": {
    "name": "ipython",
    "version": 3
   },
   "file_extension": ".py",
   "mimetype": "text/x-python",
   "name": "python",
   "nbconvert_exporter": "python",
   "pygments_lexer": "ipython3",
   "version": "3.7.12"
  }
 },
 "nbformat": 4,
 "nbformat_minor": 5
}
