{
 "cells": [
  {
   "cell_type": "code",
   "execution_count": 1,
   "id": "4543a019-dba9-4a28-b3d8-aaf49f24892b",
   "metadata": {},
   "outputs": [],
   "source": [
    "import findspark\n",
    "findspark.init()"
   ]
  },
  {
   "cell_type": "code",
   "execution_count": 2,
   "id": "260da8aa-dcd8-47d3-a44f-8bda24b44c13",
   "metadata": {},
   "outputs": [
    {
     "name": "stderr",
     "output_type": "stream",
     "text": [
      "Warning: Ignoring non-Spark config property: hive.metastore.uris\n",
      "Warning: Ignoring non-Spark config property: hive.metastore.warehouse.dir\n",
      "22/03/08 02:09:31 WARN Utils: Your hostname, ubuntu-virtual-machine resolves to a loopback address: 127.0.1.1; using 192.168.80.128 instead (on interface ens33)\n",
      "22/03/08 02:09:31 WARN Utils: Set SPARK_LOCAL_IP if you need to bind to another address\n",
      "22/03/08 02:09:31 WARN NativeCodeLoader: Unable to load native-hadoop library for your platform... using builtin-java classes where applicable\n",
      "Using Spark's default log4j profile: org/apache/spark/log4j-defaults.properties\n",
      "Setting default log level to \"WARN\".\n",
      "To adjust logging level use sc.setLogLevel(newLevel). For SparkR, use setLogLevel(newLevel).\n",
      "22/03/08 02:09:31 WARN SparkConf: Note that spark.local.dir will be overridden by the value set by the cluster manager (via SPARK_LOCAL_DIRS in mesos/standalone/kubernetes and LOCAL_DIRS in YARN).\n",
      "22/03/08 02:09:32 WARN Utils: Service 'SparkUI' could not bind on port 4040. Attempting port 4041.\n",
      "22/03/08 02:09:32 WARN Utils: Service 'SparkUI' could not bind on port 4041. Attempting port 4042.\n",
      "22/03/08 02:09:32 WARN Utils: Service 'SparkUI' could not bind on port 4042. Attempting port 4043.\n",
      "22/03/08 02:09:32 WARN Utils: Service 'SparkUI' could not bind on port 4043. Attempting port 4044.\n"
     ]
    }
   ],
   "source": [
    "from pyspark.conf import SparkConf\n",
    "config = SparkConf()\n",
    "# config.set(\"property\", \"value\")\n",
    "config.setMaster(\"local\").setAppName(\"MovieLenssql\")\n",
    "\n",
    "config.set(\"spark.local.dir\", \"home/ubuntu/spark-temp\")\n",
    "\n",
    "config.set(\"hive.metastore.uris\", \"thrift://localhost:9083\")\n",
    "config.set(\"hive.metastore.warehouse.dir\", \"hdfs://localhost:9000/user/hive/warehouse\")\n",
    "\n",
    "\n",
    "from pyspark.sql import SparkSession\n",
    "spark =SparkSession.builder\\\n",
    "                    .config(conf=config)\\\n",
    "                    .enableHiveSupport()\\\n",
    "                    .getOrCreate()\n",
    "\n",
    "sc= spark.sparkContext"
   ]
  },
  {
   "cell_type": "code",
   "execution_count": 3,
   "id": "1aebd33d-c08a-410e-a571-ddb642d3ca27",
   "metadata": {},
   "outputs": [
    {
     "name": "stdout",
     "output_type": "stream",
     "text": [
      "+--------+--------------------+--------------------+\n",
      "|movie_id|               title|              genres|\n",
      "+--------+--------------------+--------------------+\n",
      "|    null|               title|              genres|\n",
      "|       1|    Toy Story (1995)|Adventure|Animati...|\n",
      "|       2|      Jumanji (1995)|Adventure|Childre...|\n",
      "|       3|Grumpier Old Men ...|      Comedy|Romance|\n",
      "|       4|Waiting to Exhale...|Comedy|Drama|Romance|\n",
      "+--------+--------------------+--------------------+\n",
      "\n"
     ]
    }
   ],
   "source": [
    "spark.sql(\"\"\"\n",
    "SELECT * FROM moviedb.movies LIMIT 5\n",
    "\"\"\").show()"
   ]
  },
  {
   "cell_type": "code",
   "execution_count": 6,
   "id": "6e80f1f2-ded9-49cf-b9ff-fe588bdde7d4",
   "metadata": {},
   "outputs": [
    {
     "name": "stdout",
     "output_type": "stream",
     "text": [
      "+-------+--------+------+----------------+\n",
      "|user_id|movie_id|rating|rating_timestamp|\n",
      "+-------+--------+------+----------------+\n",
      "|   null|    null|  null|            null|\n",
      "|      1|       1|     4|       964982703|\n",
      "|      1|       3|     4|       964981247|\n",
      "|      1|       6|     4|       964982224|\n",
      "|      1|      47|     5|       964983815|\n",
      "+-------+--------+------+----------------+\n",
      "\n"
     ]
    }
   ],
   "source": [
    "spark.sql(\"\"\"\n",
    "SELECT * FROM moviedb.ratings LIMIT 5\n",
    "\"\"\").show()"
   ]
  },
  {
   "cell_type": "code",
   "execution_count": 7,
   "id": "b97f6fea-5573-43b6-b045-6188eff0065a",
   "metadata": {},
   "outputs": [
    {
     "name": "stdout",
     "output_type": "stream",
     "text": [
      "root\n",
      " |-- movie_id: integer (nullable = true)\n",
      " |-- avg_rating: decimal(14,4) (nullable = true)\n",
      " |-- total_ratings: long (nullable = false)\n",
      "\n"
     ]
    },
    {
     "name": "stderr",
     "output_type": "stream",
     "text": [
      "[Stage 4:>                                                          (0 + 1) / 1]"
     ]
    },
    {
     "name": "stdout",
     "output_type": "stream",
     "text": [
      "+--------+----------+-------------+\n",
      "|movie_id|avg_rating|total_ratings|\n",
      "+--------+----------+-------------+\n",
      "|    1580|    3.6364|          165|\n",
      "|    2366|    3.7200|           25|\n",
      "|    3175|    3.6933|           75|\n",
      "|    1088|    3.5714|           42|\n",
      "|   32460|    4.5000|            4|\n",
      "+--------+----------+-------------+\n",
      "only showing top 5 rows\n",
      "\n"
     ]
    },
    {
     "name": "stderr",
     "output_type": "stream",
     "text": [
      "                                                                                \r"
     ]
    }
   ],
   "source": [
    "popularMoviesDf = spark.sql(\"\"\"\n",
    "SELECT movie_id, avg(rating) as avg_rating, count(user_id) as total_ratings\n",
    "FROM moviedb.ratings\n",
    "WHERE movie_id IS NOT null\n",
    "GROUP BY movie_id\n",
    "\"\"\")\n",
    "\n",
    "popularMoviesDf.printSchema()\n",
    "popularMoviesDf.show(5)"
   ]
  },
  {
   "cell_type": "code",
   "execution_count": 8,
   "id": "dfae410d-e2ac-4bd5-9858-a3afe7d46af6",
   "metadata": {},
   "outputs": [
    {
     "data": {
      "text/plain": [
       "DataFrame[]"
      ]
     },
     "execution_count": 8,
     "metadata": {},
     "output_type": "execute_result"
    }
   ],
   "source": [
    "spark.sql(\"\"\"\n",
    "CREATE OR REPLACE TEMP VIEW popular_movies AS\n",
    "SELECT movie_id, avg(rating) as avg_rating, count(user_id) as total_ratings\n",
    "FROM moviedb.ratings\n",
    "WHERE movie_id IS NOT null\n",
    "GROUP BY movie_id\n",
    "HAVING avg_rating >= 3.5 AND total_ratings >= 100\n",
    "\"\"\")"
   ]
  },
  {
   "cell_type": "code",
   "execution_count": null,
   "id": "925f9695-3b74-4f8d-8f36-b75406078d12",
   "metadata": {},
   "outputs": [],
   "source": [
    "# for dropping a table\n",
    "#spark.sql(\"DROP VIEW populat_movies\")"
   ]
  },
  {
   "cell_type": "code",
   "execution_count": 9,
   "id": "88717c8a-31ea-4f04-9a2d-438765a8b6f0",
   "metadata": {},
   "outputs": [
    {
     "name": "stdout",
     "output_type": "stream",
     "text": [
      "+--------+--------------+-----------+\n",
      "|database|     tableName|isTemporary|\n",
      "+--------+--------------+-----------+\n",
      "| default|        brands|      false|\n",
      "| default|     employees|      false|\n",
      "| default|        movies|      false|\n",
      "| default|      payroles|      false|\n",
      "|        |popular_movies|       true|\n",
      "+--------+--------------+-----------+\n",
      "\n"
     ]
    }
   ],
   "source": [
    "spark.sql(\"SHOW TABLES\").show()"
   ]
  },
  {
   "cell_type": "code",
   "execution_count": 10,
   "id": "bb8eb61a-f4bf-46d7-8fc3-eee3a184dc77",
   "metadata": {},
   "outputs": [
    {
     "name": "stdout",
     "output_type": "stream",
     "text": [
      "+--------+----------+-------------+\n",
      "|movie_id|avg_rating|total_ratings|\n",
      "+--------+----------+-------------+\n",
      "|    1580|    3.6364|          165|\n",
      "|    1721|    3.5571|          140|\n",
      "|     858|    4.3958|          192|\n",
      "|    1270|    4.1696|          171|\n",
      "|    1265|    4.0699|          143|\n",
      "+--------+----------+-------------+\n",
      "only showing top 5 rows\n",
      "\n"
     ]
    }
   ],
   "source": [
    "spark.sql(\"SELECT * FROM popular_movies\").show(5)"
   ]
  },
  {
   "cell_type": "code",
   "execution_count": 11,
   "id": "30709865-c864-4bcf-9e10-d5856e2ddf83",
   "metadata": {},
   "outputs": [
    {
     "name": "stderr",
     "output_type": "stream",
     "text": [
      "22/03/08 02:31:17 WARN LazyStruct: Extra bytes detected at the end of the row! Ignoring similar problems.\n",
      "[Stage 14:===================================================>  (189 + 1) / 200]"
     ]
    },
    {
     "name": "stdout",
     "output_type": "stream",
     "text": [
      "+--------+--------------------+----------+-------------+\n",
      "|movie_id|               title|avg_rating|total_ratings|\n",
      "+--------+--------------------+----------+-------------+\n",
      "|     318|\"Shawshank Redemp...|    4.5300|          317|\n",
      "|   48516|           \"Departed|    4.4673|          107|\n",
      "|    2959|   Fight Club (1999)|    4.4404|          218|\n",
      "|   58559|        \"Dark Knight|    4.4295|          149|\n",
      "|    1213|   Goodfellas (1990)|    4.3968|          126|\n",
      "|     858|          \"Godfather|    4.3958|          192|\n",
      "|    2329|American History ...|    4.3876|          129|\n",
      "|    1197|     \"Princess Bride|    4.3732|          142|\n",
      "|      50|     \"Usual Suspects|    4.3725|          204|\n",
      "|    1221| \"Godfather: Part II|    4.3721|          129|\n",
      "|     912|   Casablanca (1942)|    4.3600|          100|\n",
      "|    7361|Eternal Sunshine ...|    4.3511|          131|\n",
      "|     527|Schindler's List ...|    4.3500|          220|\n",
      "|    1193|One Flew Over the...|    4.3308|          133|\n",
      "|     260|Star Wars: Episod...|    4.3307|          251|\n",
      "|    1208|Apocalypse Now (1...|    4.3271|          107|\n",
      "|    1196|Star Wars: Episod...|    4.3270|          211|\n",
      "|    4226|      Memento (2000)|    4.3208|          159|\n",
      "|    2571|             \"Matrix|    4.3201|          278|\n",
      "|    1198|Raiders of the Lo...|    4.3200|          200|\n",
      "+--------+--------------------+----------+-------------+\n",
      "only showing top 20 rows\n",
      "\n"
     ]
    },
    {
     "name": "stderr",
     "output_type": "stream",
     "text": [
      "                                                                                \r"
     ]
    }
   ],
   "source": [
    "spark.sql(\"\"\"\n",
    "SELECT movies.movie_id, title, avg_rating, total_ratings \n",
    "FROM popular_movies \n",
    "INNER JOIN moviedb.movies movies ON popular_movies.movie_id = movies.movie_id\n",
    "ORDER BY avg_rating DESC\n",
    "\"\"\").show()"
   ]
  },
  {
   "cell_type": "code",
   "execution_count": 12,
   "id": "5e313b0b-9aad-4987-90a8-5add0cbdf769",
   "metadata": {},
   "outputs": [
    {
     "data": {
      "text/plain": [
       "DataFrame[]"
      ]
     },
     "execution_count": 12,
     "metadata": {},
     "output_type": "execute_result"
    }
   ],
   "source": [
    "spark.sql(\"\"\"\n",
    "CREATE OR REPLACE TEMP VIEW most_popular_movies AS \n",
    "SELECT movies.movie_id, title, avg_rating, total_ratings \n",
    "FROM popular_movies \n",
    "INNER JOIN moviedb.movies movies ON popular_movies.movie_id = movies.movie_id\n",
    "ORDER BY avg_rating DESC\n",
    "\"\"\")"
   ]
  },
  {
   "cell_type": "code",
   "execution_count": 13,
   "id": "7a2b12af-e0fd-4064-9b25-d63688dd4480",
   "metadata": {},
   "outputs": [
    {
     "name": "stderr",
     "output_type": "stream",
     "text": [
      "22/03/08 02:31:56 WARN LazyStruct: Extra bytes detected at the end of the row! Ignoring similar problems.\n",
      "[Stage 17:============================================>         (164 + 1) / 200]"
     ]
    },
    {
     "name": "stdout",
     "output_type": "stream",
     "text": [
      "+--------+--------------------+----------+-------------+\n",
      "|movie_id|               title|avg_rating|total_ratings|\n",
      "+--------+--------------------+----------+-------------+\n",
      "|     318|\"Shawshank Redemp...|    4.5300|          317|\n",
      "|   48516|           \"Departed|    4.4673|          107|\n",
      "|    2959|   Fight Club (1999)|    4.4404|          218|\n",
      "|   58559|        \"Dark Knight|    4.4295|          149|\n",
      "|    1213|   Goodfellas (1990)|    4.3968|          126|\n",
      "+--------+--------------------+----------+-------------+\n",
      "only showing top 5 rows\n",
      "\n"
     ]
    },
    {
     "name": "stderr",
     "output_type": "stream",
     "text": [
      "                                                                                \r"
     ]
    }
   ],
   "source": [
    "spark.sql(\"SELECT * FROM most_popular_movies\").show(5)"
   ]
  },
  {
   "cell_type": "code",
   "execution_count": 14,
   "id": "9e9ea5e4-1774-4832-81da-a33dd1bce6c7",
   "metadata": {},
   "outputs": [
    {
     "name": "stderr",
     "output_type": "stream",
     "text": [
      "22/03/08 02:32:17 WARN LazyStruct: Extra bytes detected at the end of the row! Ignoring similar problems.\n",
      "[Stage 23:>                                                       (2 + 1) / 121]22/03/08 02:32:21 WARN DFSClient: Caught exception \n",
      "java.lang.InterruptedException\n",
      "\tat java.lang.Object.wait(Native Method)\n",
      "\tat java.lang.Thread.join(Thread.java:1252)\n",
      "\tat java.lang.Thread.join(Thread.java:1326)\n",
      "\tat org.apache.hadoop.hdfs.DFSOutputStream$DataStreamer.closeResponder(DFSOutputStream.java:609)\n",
      "\tat org.apache.hadoop.hdfs.DFSOutputStream$DataStreamer.closeInternal(DFSOutputStream.java:577)\n",
      "\tat org.apache.hadoop.hdfs.DFSOutputStream$DataStreamer.run(DFSOutputStream.java:573)\n",
      "[Stage 23:====>                                                  (10 + 1) / 121]22/03/08 02:32:22 WARN DFSClient: Caught exception \n",
      "java.lang.InterruptedException\n",
      "\tat java.lang.Object.wait(Native Method)\n",
      "\tat java.lang.Thread.join(Thread.java:1252)\n",
      "\tat java.lang.Thread.join(Thread.java:1326)\n",
      "\tat org.apache.hadoop.hdfs.DFSOutputStream$DataStreamer.closeResponder(DFSOutputStream.java:609)\n",
      "\tat org.apache.hadoop.hdfs.DFSOutputStream$DataStreamer.closeInternal(DFSOutputStream.java:577)\n",
      "\tat org.apache.hadoop.hdfs.DFSOutputStream$DataStreamer.run(DFSOutputStream.java:573)\n",
      "[Stage 23:======================>                                (49 + 1) / 121]22/03/08 02:32:24 WARN DFSClient: Caught exception \n",
      "java.lang.InterruptedException\n",
      "\tat java.lang.Object.wait(Native Method)\n",
      "\tat java.lang.Thread.join(Thread.java:1252)\n",
      "\tat java.lang.Thread.join(Thread.java:1326)\n",
      "\tat org.apache.hadoop.hdfs.DFSOutputStream$DataStreamer.closeResponder(DFSOutputStream.java:609)\n",
      "\tat org.apache.hadoop.hdfs.DFSOutputStream$DataStreamer.endBlock(DFSOutputStream.java:370)\n",
      "\tat org.apache.hadoop.hdfs.DFSOutputStream$DataStreamer.run(DFSOutputStream.java:546)\n",
      "[Stage 23:=========================>                             (56 + 1) / 121]22/03/08 02:32:24 WARN DFSClient: Caught exception \n",
      "java.lang.InterruptedException\n",
      "\tat java.lang.Object.wait(Native Method)\n",
      "\tat java.lang.Thread.join(Thread.java:1252)\n",
      "\tat java.lang.Thread.join(Thread.java:1326)\n",
      "\tat org.apache.hadoop.hdfs.DFSOutputStream$DataStreamer.closeResponder(DFSOutputStream.java:609)\n",
      "\tat org.apache.hadoop.hdfs.DFSOutputStream$DataStreamer.closeInternal(DFSOutputStream.java:577)\n",
      "\tat org.apache.hadoop.hdfs.DFSOutputStream$DataStreamer.run(DFSOutputStream.java:573)\n",
      "22/03/08 02:32:24 WARN DFSClient: Caught exception \n",
      "java.lang.InterruptedException\n",
      "\tat java.lang.Object.wait(Native Method)\n",
      "\tat java.lang.Thread.join(Thread.java:1252)\n",
      "\tat java.lang.Thread.join(Thread.java:1326)\n",
      "\tat org.apache.hadoop.hdfs.DFSOutputStream$DataStreamer.closeResponder(DFSOutputStream.java:609)\n",
      "\tat org.apache.hadoop.hdfs.DFSOutputStream$DataStreamer.endBlock(DFSOutputStream.java:370)\n",
      "\tat org.apache.hadoop.hdfs.DFSOutputStream$DataStreamer.run(DFSOutputStream.java:546)\n",
      "[Stage 23:=================================>                     (74 + 1) / 121]22/03/08 02:32:25 WARN DFSClient: Caught exception \n",
      "java.lang.InterruptedException\n",
      "\tat java.lang.Object.wait(Native Method)\n",
      "\tat java.lang.Thread.join(Thread.java:1252)\n",
      "\tat java.lang.Thread.join(Thread.java:1326)\n",
      "\tat org.apache.hadoop.hdfs.DFSOutputStream$DataStreamer.closeResponder(DFSOutputStream.java:609)\n",
      "\tat org.apache.hadoop.hdfs.DFSOutputStream$DataStreamer.closeInternal(DFSOutputStream.java:577)\n",
      "\tat org.apache.hadoop.hdfs.DFSOutputStream$DataStreamer.run(DFSOutputStream.java:573)\n",
      "[Stage 23:====================================>                  (80 + 1) / 121]22/03/08 02:32:25 WARN DFSClient: Caught exception \n",
      "java.lang.InterruptedException\n",
      "\tat java.lang.Object.wait(Native Method)\n",
      "\tat java.lang.Thread.join(Thread.java:1252)\n",
      "\tat java.lang.Thread.join(Thread.java:1326)\n",
      "\tat org.apache.hadoop.hdfs.DFSOutputStream$DataStreamer.closeResponder(DFSOutputStream.java:609)\n",
      "\tat org.apache.hadoop.hdfs.DFSOutputStream$DataStreamer.endBlock(DFSOutputStream.java:370)\n",
      "\tat org.apache.hadoop.hdfs.DFSOutputStream$DataStreamer.run(DFSOutputStream.java:546)\n",
      "[Stage 23:=======================================>               (87 + 1) / 121]22/03/08 02:32:25 WARN DFSClient: Caught exception \n",
      "java.lang.InterruptedException\n",
      "\tat java.lang.Object.wait(Native Method)\n",
      "\tat java.lang.Thread.join(Thread.java:1252)\n",
      "\tat java.lang.Thread.join(Thread.java:1326)\n",
      "\tat org.apache.hadoop.hdfs.DFSOutputStream$DataStreamer.closeResponder(DFSOutputStream.java:609)\n",
      "\tat org.apache.hadoop.hdfs.DFSOutputStream$DataStreamer.endBlock(DFSOutputStream.java:370)\n",
      "\tat org.apache.hadoop.hdfs.DFSOutputStream$DataStreamer.run(DFSOutputStream.java:546)\n",
      "22/03/08 02:32:25 WARN DFSClient: Caught exception \n",
      "java.lang.InterruptedException\n",
      "\tat java.lang.Object.wait(Native Method)\n",
      "\tat java.lang.Thread.join(Thread.java:1252)\n",
      "\tat java.lang.Thread.join(Thread.java:1326)\n",
      "\tat org.apache.hadoop.hdfs.DFSOutputStream$DataStreamer.closeResponder(DFSOutputStream.java:609)\n",
      "\tat org.apache.hadoop.hdfs.DFSOutputStream$DataStreamer.endBlock(DFSOutputStream.java:370)\n",
      "\tat org.apache.hadoop.hdfs.DFSOutputStream$DataStreamer.run(DFSOutputStream.java:546)\n",
      "22/03/08 02:32:25 WARN DFSClient: Caught exception \n",
      "java.lang.InterruptedException\n",
      "\tat java.lang.Object.wait(Native Method)\n",
      "\tat java.lang.Thread.join(Thread.java:1252)\n",
      "\tat java.lang.Thread.join(Thread.java:1326)\n",
      "\tat org.apache.hadoop.hdfs.DFSOutputStream$DataStreamer.closeResponder(DFSOutputStream.java:609)\n",
      "\tat org.apache.hadoop.hdfs.DFSOutputStream$DataStreamer.endBlock(DFSOutputStream.java:370)\n",
      "\tat org.apache.hadoop.hdfs.DFSOutputStream$DataStreamer.run(DFSOutputStream.java:546)\n",
      "[Stage 23:==========================================>            (93 + 1) / 121]22/03/08 02:32:26 WARN DFSClient: Caught exception \n",
      "java.lang.InterruptedException\n",
      "\tat java.lang.Object.wait(Native Method)\n",
      "\tat java.lang.Thread.join(Thread.java:1252)\n",
      "\tat java.lang.Thread.join(Thread.java:1326)\n",
      "\tat org.apache.hadoop.hdfs.DFSOutputStream$DataStreamer.closeResponder(DFSOutputStream.java:609)\n",
      "\tat org.apache.hadoop.hdfs.DFSOutputStream$DataStreamer.endBlock(DFSOutputStream.java:370)\n",
      "\tat org.apache.hadoop.hdfs.DFSOutputStream$DataStreamer.run(DFSOutputStream.java:546)\n",
      "22/03/08 02:32:28 WARN LazyStruct: Extra bytes detected at the end of the row! Ignoring similar problems.\n",
      "[Stage 26:==========================================>           (156 + 2) / 200]"
     ]
    },
    {
     "name": "stdout",
     "output_type": "stream",
     "text": [
      "+--------+--------------------+----------+-------------+\n",
      "|movie_id|               title|avg_rating|total_ratings|\n",
      "+--------+--------------------+----------+-------------+\n",
      "|     318|\"Shawshank Redemp...|    4.5300|          317|\n",
      "|   48516|           \"Departed|    4.4673|          107|\n",
      "|    2959|   Fight Club (1999)|    4.4404|          218|\n",
      "|   58559|        \"Dark Knight|    4.4295|          149|\n",
      "|    1213|   Goodfellas (1990)|    4.3968|          126|\n",
      "+--------+--------------------+----------+-------------+\n",
      "only showing top 5 rows\n",
      "\n"
     ]
    },
    {
     "name": "stderr",
     "output_type": "stream",
     "text": [
      "                                                                                \r"
     ]
    }
   ],
   "source": [
    "mostPopularMoviesDf = spark.table(\"most_popular_movies\")\n",
    "\n",
    "mostPopularMoviesDf.write\\\n",
    "                    .mode('overwrite')\\\n",
    "                    .saveAsTable(\"moviedb.most_popular_movies2\")\n",
    "\n",
    "mostPopularMoviesDf.show(5)"
   ]
  },
  {
   "cell_type": "code",
   "execution_count": 15,
   "id": "057f8045-44b6-44a7-8099-008f07ee136b",
   "metadata": {},
   "outputs": [
    {
     "name": "stdout",
     "output_type": "stream",
     "text": [
      "+--------+--------------------+----------+-------------+\n",
      "|movie_id|               title|avg_rating|total_ratings|\n",
      "+--------+--------------------+----------+-------------+\n",
      "|    4896|Harry Potter and ...|    3.9533|          107|\n",
      "|    1198|Raiders of the Lo...|    4.3200|          200|\n",
      "|     293|Léon: The Profess...|    4.1429|          133|\n",
      "|    6539|Pirates of the Ca...|    3.9664|          149|\n",
      "|     253|Interview with th...|    3.5596|          109|\n",
      "+--------+--------------------+----------+-------------+\n",
      "only showing top 5 rows\n",
      "\n"
     ]
    }
   ],
   "source": [
    "spark.sql(\"SELECT * FROM moviedb.most_popular_movies2\").show(5)"
   ]
  },
  {
   "cell_type": "code",
   "execution_count": 16,
   "id": "db4907ca-b667-4b13-b7dd-1d91d91cc698",
   "metadata": {},
   "outputs": [
    {
     "name": "stdout",
     "output_type": "stream",
     "text": [
      "+--------+--------------------+-----------+\n",
      "|database|           tableName|isTemporary|\n",
      "+--------+--------------------+-----------+\n",
      "| moviedb|               links|      false|\n",
      "| moviedb| most_popular_movies|      false|\n",
      "| moviedb|most_popular_movies2|      false|\n",
      "| moviedb|              movies|      false|\n",
      "| moviedb|             ratings|      false|\n",
      "| moviedb|             reviews|      false|\n",
      "| moviedb|                tags|      false|\n",
      "|        | most_popular_movies|       true|\n",
      "|        |      popular_movies|       true|\n",
      "+--------+--------------------+-----------+\n",
      "\n"
     ]
    }
   ],
   "source": [
    "spark.sql(\"SHOW TABLES IN moviedb\").show()"
   ]
  },
  {
   "cell_type": "code",
   "execution_count": null,
   "id": "52be3ee5-ee0f-4199-9691-9c1eb0771eb3",
   "metadata": {},
   "outputs": [],
   "source": []
  }
 ],
 "metadata": {
  "kernelspec": {
   "display_name": "Python 3 (ipykernel)",
   "language": "python",
   "name": "python3"
  },
  "language_info": {
   "codemirror_mode": {
    "name": "ipython",
    "version": 3
   },
   "file_extension": ".py",
   "mimetype": "text/x-python",
   "name": "python",
   "nbconvert_exporter": "python",
   "pygments_lexer": "ipython3",
   "version": "3.7.12"
  }
 },
 "nbformat": 4,
 "nbformat_minor": 5
}
