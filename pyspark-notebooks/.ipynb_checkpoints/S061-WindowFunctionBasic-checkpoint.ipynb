{
 "cells": [
  {
   "cell_type": "code",
   "execution_count": 1,
   "id": "c2a519df-46be-4266-ae66-7f6d3ec4d7f2",
   "metadata": {},
   "outputs": [],
   "source": [
    "import findspark\n",
    "findspark.init()"
   ]
  },
  {
   "cell_type": "code",
   "execution_count": 2,
   "id": "18a94ac4-1ef8-44fa-8f51-f687cafae245",
   "metadata": {},
   "outputs": [
    {
     "name": "stderr",
     "output_type": "stream",
     "text": [
      "22/03/08 19:50:36 WARN Utils: Your hostname, ubuntu-virtual-machine resolves to a loopback address: 127.0.1.1; using 192.168.80.128 instead (on interface ens33)\n",
      "22/03/08 19:50:36 WARN Utils: Set SPARK_LOCAL_IP if you need to bind to another address\n",
      "22/03/08 19:50:37 WARN NativeCodeLoader: Unable to load native-hadoop library for your platform... using builtin-java classes where applicable\n",
      "Using Spark's default log4j profile: org/apache/spark/log4j-defaults.properties\n",
      "Setting default log level to \"WARN\".\n",
      "To adjust logging level use sc.setLogLevel(newLevel). For SparkR, use setLogLevel(newLevel).\n",
      "22/03/08 19:50:38 WARN Utils: Service 'SparkUI' could not bind on port 4040. Attempting port 4041.\n",
      "22/03/08 19:50:38 WARN Utils: Service 'SparkUI' could not bind on port 4041. Attempting port 4042.\n",
      "22/03/08 19:50:38 WARN Utils: Service 'SparkUI' could not bind on port 4042. Attempting port 4043.\n",
      "22/03/08 19:50:38 WARN Utils: Service 'SparkUI' could not bind on port 4043. Attempting port 4044.\n",
      "22/03/08 19:50:38 WARN Utils: Service 'SparkUI' could not bind on port 4044. Attempting port 4045.\n",
      "22/03/08 19:50:38 WARN Utils: Service 'SparkUI' could not bind on port 4045. Attempting port 4046.\n"
     ]
    }
   ],
   "source": [
    "from pyspark.conf import SparkConf\n",
    "config = SparkConf()\n",
    "# config.set(\"property\", \"value\")\n",
    "config.setMaster(\"local[4]\").setAppName(\"WindowFunction\")\n",
    "\n",
    "from pyspark.sql import SparkSession\n",
    "# spark Session, entry point for Spark SQL, DataFrame\n",
    "spark = SparkSession.builder\\\n",
    "                    .config(conf=config)\\\n",
    "                    .getOrCreate()\n",
    "\n",
    "sc = spark.sparkContext"
   ]
  },
  {
   "cell_type": "code",
   "execution_count": 4,
   "id": "5919adf9-715d-4214-b3db-8c824fba0413",
   "metadata": {},
   "outputs": [
    {
     "name": "stdout",
     "output_type": "stream",
     "text": [
      "root\n",
      " |-- name: string (nullable = true)\n",
      " |-- dept: string (nullable = true)\n",
      " |-- salary: long (nullable = true)\n",
      "\n",
      "+-------+---------+------+\n",
      "|   name|     dept|salary|\n",
      "+-------+---------+------+\n",
      "|  James|    Sales|  3000|\n",
      "|Michael|    Sales|  4600|\n",
      "| Robert|    Sales|  4100|\n",
      "|  Maria|  Finance|  3000|\n",
      "|  James|    Sales|  3000|\n",
      "|  Scott|  Finance|  3300|\n",
      "|    Jen|  Finance|  3900|\n",
      "|   Jeff|Marketing|  3000|\n",
      "|  Kumar|Marketing|  2000|\n",
      "|   Saif|    Sales|  4100|\n",
      "+-------+---------+------+\n",
      "\n"
     ]
    },
    {
     "data": {
      "text/plain": [
       "4"
      ]
     },
     "execution_count": 4,
     "metadata": {},
     "output_type": "execute_result"
    }
   ],
   "source": [
    "data = [ (\"James\", \"Sales\", 3000),\n",
    "    (\"Michael\", \"Sales\", 4600),\n",
    "    (\"Robert\", \"Sales\", 4100),\n",
    "    (\"Maria\", \"Finance\", 3000),\n",
    "    (\"James\", \"Sales\", 3000),\n",
    "    (\"Scott\", \"Finance\", 3300),\n",
    "    (\"Jen\", \"Finance\", 3900),\n",
    "    (\"Jeff\", \"Marketing\", 3000),\n",
    "    (\"Kumar\", \"Marketing\", 2000),\n",
    "    (\"Saif\", \"Sales\", 4100)\n",
    "   ]\n",
    "\n",
    "empDf = spark.createDataFrame(data=data, schema=['name', 'dept', 'salary'])\n",
    "empDf.printSchema()\n",
    "empDf.show()\n",
    "\n",
    "empDf.rdd.getNumPartitions()"
   ]
  },
  {
   "cell_type": "code",
   "execution_count": 6,
   "id": "2bf012d4-cf4f-4876-a80b-2e532a84def3",
   "metadata": {},
   "outputs": [
    {
     "data": {
      "text/plain": [
       "[[Row(name='James', dept='Sales', salary=3000),\n",
       "  Row(name='Michael', dept='Sales', salary=4600)],\n",
       " [Row(name='Robert', dept='Sales', salary=4100),\n",
       "  Row(name='Maria', dept='Finance', salary=3000)],\n",
       " [Row(name='James', dept='Sales', salary=3000),\n",
       "  Row(name='Scott', dept='Finance', salary=3300)],\n",
       " [Row(name='Jen', dept='Finance', salary=3900),\n",
       "  Row(name='Jeff', dept='Marketing', salary=3000),\n",
       "  Row(name='Kumar', dept='Marketing', salary=2000),\n",
       "  Row(name='Saif', dept='Sales', salary=4100)]]"
      ]
     },
     "execution_count": 6,
     "metadata": {},
     "output_type": "execute_result"
    }
   ],
   "source": [
    "empDf.rdd.glom().collect()"
   ]
  },
  {
   "cell_type": "code",
   "execution_count": 7,
   "id": "2f0bf0eb-e26a-4d34-b440-91b150208e53",
   "metadata": {},
   "outputs": [
    {
     "name": "stderr",
     "output_type": "stream",
     "text": [
      "                                                                                \r"
     ]
    }
   ],
   "source": [
    "empDf.write.option(\"header\", True)\\\n",
    "        .partitionBy(\"dept\")\\\n",
    "        .csv(\"/home/ubuntu/employees\")"
   ]
  },
  {
   "cell_type": "code",
   "execution_count": 9,
   "id": "19711d04-b444-49dc-9770-f51810066012",
   "metadata": {},
   "outputs": [
    {
     "name": "stdout",
     "output_type": "stream",
     "text": [
      "root\n",
      " |-- name: string (nullable = true)\n",
      " |-- dept: string (nullable = true)\n",
      " |-- salary: long (nullable = true)\n",
      " |-- row_number: integer (nullable = true)\n",
      "\n"
     ]
    },
    {
     "name": "stderr",
     "output_type": "stream",
     "text": [
      "                                                                                \r"
     ]
    },
    {
     "name": "stdout",
     "output_type": "stream",
     "text": [
      "+-------+---------+------+----------+\n",
      "|   name|     dept|salary|row_number|\n",
      "+-------+---------+------+----------+\n",
      "|  James|    Sales|  3000|         1|\n",
      "|  James|    Sales|  3000|         2|\n",
      "| Robert|    Sales|  4100|         3|\n",
      "|   Saif|    Sales|  4100|         4|\n",
      "|Michael|    Sales|  4600|         5|\n",
      "|  Maria|  Finance|  3000|         1|\n",
      "|  Scott|  Finance|  3300|         2|\n",
      "|    Jen|  Finance|  3900|         3|\n",
      "|  Kumar|Marketing|  2000|         1|\n",
      "|   Jeff|Marketing|  3000|         2|\n",
      "+-------+---------+------+----------+\n",
      "\n"
     ]
    }
   ],
   "source": [
    "from pyspark.sql.window import Window\n",
    "from pyspark.sql.functions import row_number\n",
    "\n",
    "windowSpec = Window.partitionBy(\"dept\").orderBy(\"salary\")\n",
    "\n",
    "df = empDf.withColumn(\"row_number\", row_number().over(windowSpec))\n",
    "\n",
    "df.printSchema()\n",
    "df.show()"
   ]
  },
  {
   "cell_type": "code",
   "execution_count": 10,
   "id": "c3b3411a-75c4-4d19-8eb1-856a266a9f80",
   "metadata": {},
   "outputs": [
    {
     "name": "stdout",
     "output_type": "stream",
     "text": [
      "+-------+---------+------+----+\n",
      "|   name|     dept|salary|rank|\n",
      "+-------+---------+------+----+\n",
      "|  James|    Sales|  3000|   1|\n",
      "|  James|    Sales|  3000|   1|\n",
      "| Robert|    Sales|  4100|   3|\n",
      "|   Saif|    Sales|  4100|   3|\n",
      "|Michael|    Sales|  4600|   5|\n",
      "|  Maria|  Finance|  3000|   1|\n",
      "|  Scott|  Finance|  3300|   2|\n",
      "|    Jen|  Finance|  3900|   3|\n",
      "|  Kumar|Marketing|  2000|   1|\n",
      "|   Jeff|Marketing|  3000|   2|\n",
      "+-------+---------+------+----+\n",
      "\n"
     ]
    }
   ],
   "source": [
    "from pyspark.sql.window import Window\n",
    "from pyspark.sql.functions import rank\n",
    "\n",
    "windowSpec = Window.partitionBy(\"dept\").orderBy(\"salary\")\n",
    "\n",
    "df =empDf.withColumn(\"rank\", rank().over(windowSpec))\n",
    "#spec =rank().over(windowSpec)\n",
    "\n",
    "df.show()"
   ]
  },
  {
   "cell_type": "code",
   "execution_count": 13,
   "id": "389faf39-33a6-45ba-8253-18bdc8d7c773",
   "metadata": {},
   "outputs": [
    {
     "name": "stderr",
     "output_type": "stream",
     "text": [
      "                                                                                \r"
     ]
    },
    {
     "name": "stdout",
     "output_type": "stream",
     "text": [
      "+-------+---------+------+----+\n",
      "|   name|     dept|salary|rank|\n",
      "+-------+---------+------+----+\n",
      "|Michael|    Sales|  4600|   1|\n",
      "| Robert|    Sales|  4100|   2|\n",
      "|   Saif|    Sales|  4100|   2|\n",
      "|  James|    Sales|  3000|   3|\n",
      "|  James|    Sales|  3000|   3|\n",
      "|    Jen|  Finance|  3900|   1|\n",
      "|  Scott|  Finance|  3300|   2|\n",
      "|  Maria|  Finance|  3000|   3|\n",
      "|   Jeff|Marketing|  3000|   1|\n",
      "|  Kumar|Marketing|  2000|   2|\n",
      "+-------+---------+------+----+\n",
      "\n"
     ]
    }
   ],
   "source": [
    "from pyspark.sql.window import Window\n",
    "from pyspark.sql.functions import dense_rank, desc\n",
    "\n",
    "windowSpec = Window.partitionBy(\"dept\").orderBy(desc(\"salary\"))\n",
    "\n",
    "df =empDf.withColumn(\"rank\", dense_rank().over(windowSpec))\n",
    "df.show()"
   ]
  },
  {
   "cell_type": "code",
   "execution_count": 14,
   "id": "33168299-9d03-4a73-8457-9f3ea8c8a257",
   "metadata": {},
   "outputs": [
    {
     "name": "stdout",
     "output_type": "stream",
     "text": [
      "+-------+---------+------+----+\n",
      "|   name|     dept|salary|rank|\n",
      "+-------+---------+------+----+\n",
      "|Michael|    Sales|  4600| 0.0|\n",
      "| Robert|    Sales|  4100|0.25|\n",
      "|   Saif|    Sales|  4100|0.25|\n",
      "|  James|    Sales|  3000|0.75|\n",
      "|  James|    Sales|  3000|0.75|\n",
      "|    Jen|  Finance|  3900| 0.0|\n",
      "|  Scott|  Finance|  3300| 0.5|\n",
      "|  Maria|  Finance|  3000| 1.0|\n",
      "|   Jeff|Marketing|  3000| 0.0|\n",
      "|  Kumar|Marketing|  2000| 1.0|\n",
      "+-------+---------+------+----+\n",
      "\n"
     ]
    }
   ],
   "source": [
    "from pyspark.sql.window import Window\n",
    "from pyspark.sql.functions import percent_rank, desc\n",
    "\n",
    "windowSpec = Window.partitionBy(\"dept\").orderBy(desc(\"salary\"))\n",
    "\n",
    "df =empDf.withColumn(\"rank\", percent_rank().over(windowSpec))\n",
    "df.show()"
   ]
  },
  {
   "cell_type": "code",
   "execution_count": 15,
   "id": "353a70bb-1418-4060-8ba6-daee0ce11896",
   "metadata": {},
   "outputs": [
    {
     "name": "stdout",
     "output_type": "stream",
     "text": [
      "+-------+---------+------+----+\n",
      "|   name|     dept|salary|rank|\n",
      "+-------+---------+------+----+\n",
      "|Michael|    Sales|  4600|   1|\n",
      "| Robert|    Sales|  4100|   2|\n",
      "|   Saif|    Sales|  4100|   3|\n",
      "|  James|    Sales|  3000|   4|\n",
      "|  James|    Sales|  3000|   5|\n",
      "|    Jen|  Finance|  3900|   1|\n",
      "|  Scott|  Finance|  3300|   2|\n",
      "|  Maria|  Finance|  3000|   3|\n",
      "|   Jeff|Marketing|  3000|   1|\n",
      "|  Kumar|Marketing|  2000|   2|\n",
      "+-------+---------+------+----+\n",
      "\n"
     ]
    }
   ],
   "source": [
    "from pyspark.sql.window import Window\n",
    "from pyspark.sql.functions import ntile, desc\n",
    "\n",
    "windowSpec = Window.partitionBy(\"dept\").orderBy(desc(\"salary\"))\n",
    "\n",
    "df =empDf.withColumn(\"rank\", ntile(5).over(windowSpec))\n",
    "df.show()"
   ]
  },
  {
   "cell_type": "code",
   "execution_count": 16,
   "id": "5942ca89-01e4-40ca-99ff-692d51c1638d",
   "metadata": {},
   "outputs": [
    {
     "name": "stdout",
     "output_type": "stream",
     "text": [
      "+-------+---------+------+------------------+\n",
      "|   name|     dept|salary|         cume_dist|\n",
      "+-------+---------+------+------------------+\n",
      "|Michael|    Sales|  4600|               0.2|\n",
      "| Robert|    Sales|  4100|               0.6|\n",
      "|   Saif|    Sales|  4100|               0.6|\n",
      "|  James|    Sales|  3000|               1.0|\n",
      "|  James|    Sales|  3000|               1.0|\n",
      "|    Jen|  Finance|  3900|0.3333333333333333|\n",
      "|  Scott|  Finance|  3300|0.6666666666666666|\n",
      "|  Maria|  Finance|  3000|               1.0|\n",
      "|   Jeff|Marketing|  3000|               0.5|\n",
      "|  Kumar|Marketing|  2000|               1.0|\n",
      "+-------+---------+------+------------------+\n",
      "\n"
     ]
    }
   ],
   "source": [
    "from pyspark.sql.window import Window\n",
    "from pyspark.sql.functions import cume_dist, desc\n",
    "\n",
    "windowSpec = Window.partitionBy(\"dept\").orderBy(desc(\"salary\"))\n",
    "\n",
    "df =empDf.withColumn(\"cume_dist\", cume_dist().over(windowSpec))\n",
    "df.show()"
   ]
  },
  {
   "cell_type": "code",
   "execution_count": 17,
   "id": "9b7b3bdd-6763-467f-abd8-56a72072ecbf",
   "metadata": {},
   "outputs": [
    {
     "name": "stdout",
     "output_type": "stream",
     "text": [
      "+-------+---------+------+----+\n",
      "|   name|     dept|salary| lag|\n",
      "+-------+---------+------+----+\n",
      "|Michael|    Sales|  4600|null|\n",
      "| Robert|    Sales|  4100|4600|\n",
      "|   Saif|    Sales|  4100|4100|\n",
      "|  James|    Sales|  3000|4100|\n",
      "|  James|    Sales|  3000|3000|\n",
      "|    Jen|  Finance|  3900|null|\n",
      "|  Scott|  Finance|  3300|3900|\n",
      "|  Maria|  Finance|  3000|3300|\n",
      "|   Jeff|Marketing|  3000|null|\n",
      "|  Kumar|Marketing|  2000|3000|\n",
      "+-------+---------+------+----+\n",
      "\n"
     ]
    }
   ],
   "source": [
    "from pyspark.sql.window import Window\n",
    "from pyspark.sql.functions import lag, desc\n",
    "\n",
    "windowSpec = Window.partitionBy(\"dept\").orderBy(desc(\"salary\"))\n",
    "\n",
    "df =empDf.withColumn(\"lag\", lag(\"salary\",1).over(windowSpec))\n",
    "df.show()"
   ]
  },
  {
   "cell_type": "code",
   "execution_count": 19,
   "id": "fd920d66-d88d-487e-ba5f-959c321f5a53",
   "metadata": {},
   "outputs": [
    {
     "name": "stdout",
     "output_type": "stream",
     "text": [
      "+-------+---------+------+----+\n",
      "|   name|     dept|salary|lead|\n",
      "+-------+---------+------+----+\n",
      "|  James|    Sales|  3000|3000|\n",
      "|  James|    Sales|  3000|4100|\n",
      "| Robert|    Sales|  4100|4100|\n",
      "|   Saif|    Sales|  4100|4600|\n",
      "|Michael|    Sales|  4600|null|\n",
      "|  Maria|  Finance|  3000|3300|\n",
      "|  Scott|  Finance|  3300|3900|\n",
      "|    Jen|  Finance|  3900|null|\n",
      "|  Kumar|Marketing|  2000|3000|\n",
      "|   Jeff|Marketing|  3000|null|\n",
      "+-------+---------+------+----+\n",
      "\n"
     ]
    }
   ],
   "source": [
    "from pyspark.sql.window import Window\n",
    "from pyspark.sql.functions import lead, desc\n",
    "\n",
    "windowSpec = Window.partitionBy(\"dept\").orderBy(\"salary\")\n",
    "\n",
    "df =empDf.withColumn(\"lead\", lead(\"salary\",1).over(windowSpec))\n",
    "df.show()"
   ]
  },
  {
   "cell_type": "code",
   "execution_count": 20,
   "id": "dae73f67-b1be-4546-8d42-a237d505f7f4",
   "metadata": {},
   "outputs": [
    {
     "name": "stderr",
     "output_type": "stream",
     "text": [
      "                                                                                \r"
     ]
    },
    {
     "name": "stdout",
     "output_type": "stream",
     "text": [
      "+-------+---------+------+----+----+------+-----+-----+\n",
      "|   name|     dept|salary| min| max|   avg|count|  sum|\n",
      "+-------+---------+------+----+----+------+-----+-----+\n",
      "|  James|    Sales|  3000|3000|4600|3760.0|    5|18800|\n",
      "|Michael|    Sales|  4600|3000|4600|3760.0|    5|18800|\n",
      "| Robert|    Sales|  4100|3000|4600|3760.0|    5|18800|\n",
      "|  James|    Sales|  3000|3000|4600|3760.0|    5|18800|\n",
      "|   Saif|    Sales|  4100|3000|4600|3760.0|    5|18800|\n",
      "|  Maria|  Finance|  3000|3000|3900|3400.0|    3|10200|\n",
      "|  Scott|  Finance|  3300|3000|3900|3400.0|    3|10200|\n",
      "|    Jen|  Finance|  3900|3000|3900|3400.0|    3|10200|\n",
      "|   Jeff|Marketing|  3000|2000|3000|2500.0|    2| 5000|\n",
      "|  Kumar|Marketing|  2000|2000|3000|2500.0|    2| 5000|\n",
      "+-------+---------+------+----+----+------+-----+-----+\n",
      "\n"
     ]
    }
   ],
   "source": [
    "from pyspark.sql.window import Window\n",
    "from pyspark.sql.functions import avg, sum, min, max, count, col\n",
    "\n",
    "windowSpec = Window.partitionBy(\"dept\")\n",
    "\n",
    "df =empDf.withColumn(\"min\", min(col(\"salary\")).over(windowSpec))\\\n",
    "            .withColumn(\"max\", max(col(\"salary\")).over(windowSpec))\\\n",
    "            .withColumn(\"avg\", avg(col(\"salary\")).over(windowSpec))\\\n",
    "            .withColumn(\"count\", count(col(\"salary\")).over(windowSpec))\\\n",
    "            .withColumn(\"sum\", sum(col(\"salary\")).over(windowSpec))\\\n",
    "\n",
    "df.show()"
   ]
  },
  {
   "cell_type": "code",
   "execution_count": 22,
   "id": "0c3e3d77-dbaa-4e66-bfa6-4bacdf0f6dec",
   "metadata": {},
   "outputs": [
    {
     "name": "stderr",
     "output_type": "stream",
     "text": [
      "                                                                                \r"
     ]
    },
    {
     "name": "stdout",
     "output_type": "stream",
     "text": [
      "+---------+------+----------+----+----+-----------------+-----+-----+\n",
      "|     dept|salary|row_number| min| max|              avg|count|  sum|\n",
      "+---------+------+----------+----+----+-----------------+-----+-----+\n",
      "|    Sales|  4600|         1|4600|4600|           4600.0|    1| 4600|\n",
      "|    Sales|  4100|         2|4100|4600|4266.666666666667|    3|12800|\n",
      "|    Sales|  4100|         3|4100|4600|4266.666666666667|    3|12800|\n",
      "|    Sales|  3000|         4|3000|4600|           3760.0|    5|18800|\n",
      "|    Sales|  3000|         5|3000|4600|           3760.0|    5|18800|\n",
      "|  Finance|  3900|         1|3900|3900|           3900.0|    1| 3900|\n",
      "|  Finance|  3300|         2|3300|3900|           3600.0|    2| 7200|\n",
      "|  Finance|  3000|         3|3000|3900|           3400.0|    3|10200|\n",
      "|Marketing|  3000|         1|3000|3000|           3000.0|    1| 3000|\n",
      "|Marketing|  2000|         2|2000|3000|           2500.0|    2| 5000|\n",
      "+---------+------+----------+----+----+-----------------+-----+-----+\n",
      "\n"
     ]
    }
   ],
   "source": [
    "from pyspark.sql.window import Window\n",
    "from pyspark.sql.functions import avg, sum, min, max, count, col\n",
    "# FIXME\n",
    "windowSpec = Window.partitionBy(\"dept\").orderBy(desc(\"salary\"))\n",
    "\n",
    "df = empDf.drop(\"name\")\\\n",
    "          .withColumn(\"row_number\",  row_number().over(windowSpec))\\\n",
    "          .withColumn(\"min\", min(col(\"salary\")).over(windowSpec))\\\n",
    "          .withColumn(\"max\", max(col(\"salary\")).over(windowSpec))\\\n",
    "          .withColumn(\"avg\", avg(col(\"salary\")).over(windowSpec))\\\n",
    "          .withColumn(\"count\", count(col(\"salary\")).over(windowSpec))\\\n",
    "          .withColumn(\"sum\", sum(col(\"salary\")).over(windowSpec))\\\n",
    "          \n",
    "\n",
    "df.show()"
   ]
  },
  {
   "cell_type": "code",
   "execution_count": null,
   "id": "39470707-8285-414c-8e3f-06029cde3cb3",
   "metadata": {},
   "outputs": [],
   "source": []
  }
 ],
 "metadata": {
  "kernelspec": {
   "display_name": "Python 3 (ipykernel)",
   "language": "python",
   "name": "python3"
  },
  "language_info": {
   "codemirror_mode": {
    "name": "ipython",
    "version": 3
   },
   "file_extension": ".py",
   "mimetype": "text/x-python",
   "name": "python",
   "nbconvert_exporter": "python",
   "pygments_lexer": "ipython3",
   "version": "3.7.12"
  }
 },
 "nbformat": 4,
 "nbformat_minor": 5
}
