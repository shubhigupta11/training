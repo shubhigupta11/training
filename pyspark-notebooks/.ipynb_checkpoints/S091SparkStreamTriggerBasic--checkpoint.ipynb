{
 "cells": [
  {
   "cell_type": "code",
   "execution_count": 1,
   "id": "a277dc64-56eb-4613-9791-23c9d7ccc5bb",
   "metadata": {},
   "outputs": [],
   "source": [
    "import findspark\n",
    "findspark.init()"
   ]
  },
  {
   "cell_type": "code",
   "execution_count": 2,
   "id": "a6ec40cc-5a97-4ee0-8eda-b4b51ce8e08c",
   "metadata": {},
   "outputs": [
    {
     "name": "stderr",
     "output_type": "stream",
     "text": [
      "22/03/14 20:15:36 WARN Utils: Your hostname, ubuntu-virtual-machine resolves to a loopback address: 127.0.1.1; using 192.168.80.128 instead (on interface ens33)\n",
      "22/03/14 20:15:36 WARN Utils: Set SPARK_LOCAL_IP if you need to bind to another address\n",
      "22/03/14 20:15:37 WARN NativeCodeLoader: Unable to load native-hadoop library for your platform... using builtin-java classes where applicable\n",
      "Using Spark's default log4j profile: org/apache/spark/log4j-defaults.properties\n",
      "Setting default log level to \"WARN\".\n",
      "To adjust logging level use sc.setLogLevel(newLevel). For SparkR, use setLogLevel(newLevel).\n"
     ]
    }
   ],
   "source": [
    "from pyspark.conf import SparkConf\n",
    "config = SparkConf()\n",
    "# config.set(\"property\", \"value\")\n",
    "config.setMaster(\"local\").setAppName(\"SparkStreamTrigger\")\n",
    "\n",
    "from pyspark.sql import SparkSession\n",
    "# spark Session, entry point for Spark SQL, DataFrame\n",
    "spark = SparkSession.builder\\\n",
    "                    .config(conf=config)\\\n",
    "                    .getOrCreate()\n",
    "\n",
    "sc = spark.sparkContext"
   ]
  },
  {
   "cell_type": "code",
   "execution_count": 3,
   "id": "3d2c8fa8-1bed-4492-9bc7-94d7a8f7f788",
   "metadata": {},
   "outputs": [
    {
     "name": "stderr",
     "output_type": "stream",
     "text": [
      "22/03/14 20:15:48 WARN TextSocketSourceProvider: The socket source should not be used for production applications! It does not support recovery.\n"
     ]
    }
   ],
   "source": [
    "lineStreamDf = spark\\\n",
    "                .readStream\\\n",
    "                .format(\"socket\")\\\n",
    "                .option(\"host\", \"localhost\")\\\n",
    "                .option(\"port\", 9999)\\\n",
    "                .load()"
   ]
  },
  {
   "cell_type": "code",
   "execution_count": 4,
   "id": "a77d935b-c8f4-4ebe-9f5f-be5af1b23e91",
   "metadata": {},
   "outputs": [
    {
     "name": "stdout",
     "output_type": "stream",
     "text": [
      "root\n",
      " |-- value: string (nullable = true)\n",
      "\n"
     ]
    }
   ],
   "source": [
    "lineStreamDf.printSchema()"
   ]
  },
  {
   "cell_type": "code",
   "execution_count": 5,
   "id": "181940a4-6343-478c-ad43-f32819072a3b",
   "metadata": {},
   "outputs": [
    {
     "name": "stderr",
     "output_type": "stream",
     "text": [
      "22/03/14 20:16:13 WARN StreamingQueryManager: Temporary checkpoint location created which is deleted normally when the query didn't fail: /tmp/temporary-d493e5d5-6526-4816-af5f-72d3f6ebc1a4. If it's required to delete it under any circumstances, please set spark.sql.streaming.forceDeleteTempCheckpointLocation to true. Important to know deleting temp checkpoint folder is best effort.\n",
      "                                                                                \r"
     ]
    },
    {
     "name": "stdout",
     "output_type": "stream",
     "text": [
      "-------------------------------------------\n",
      "Batch: 0\n",
      "-------------------------------------------\n",
      "+-----+\n",
      "|value|\n",
      "+-----+\n",
      "+-----+\n",
      "\n"
     ]
    }
   ],
   "source": [
    "echoOnconsole = lineStreamDf\\\n",
    "                .writeStream\\\n",
    "                .outputMode(\"append\")\\\n",
    "                .format(\"console\")\\\n",
    "                .trigger(processingTime='10 seconds')\\\n",
    "                .start()\n"
   ]
  },
  {
   "cell_type": "code",
   "execution_count": 6,
   "id": "c7c24285-2d1b-4a79-aff9-6b052c6bf9d5",
   "metadata": {},
   "outputs": [
    {
     "data": {
      "text/plain": [
       "'9d748a54-3968-43fa-a86f-518e04422929'"
      ]
     },
     "execution_count": 6,
     "metadata": {},
     "output_type": "execute_result"
    }
   ],
   "source": [
    "echoOnconsole.id"
   ]
  },
  {
   "cell_type": "code",
   "execution_count": 7,
   "id": "feb1067c-cb64-4757-8d26-dda9db6933fb",
   "metadata": {},
   "outputs": [],
   "source": [
    "echoOnconsole.name "
   ]
  },
  {
   "cell_type": "code",
   "execution_count": 8,
   "id": "800793ba-98a1-42ae-8b9b-1cb5e6037072",
   "metadata": {},
   "outputs": [
    {
     "data": {
      "text/plain": [
       "<bound method StreamingQuery.exception of <pyspark.sql.streaming.StreamingQuery object at 0x7ffa684374d0>>"
      ]
     },
     "execution_count": 8,
     "metadata": {},
     "output_type": "execute_result"
    }
   ],
   "source": [
    "echoOnconsole.exception"
   ]
  },
  {
   "cell_type": "code",
   "execution_count": 9,
   "id": "246bda86-7820-48fa-9394-a6968b8f37a2",
   "metadata": {},
   "outputs": [
    {
     "data": {
      "text/plain": [
       "[{'id': '9d748a54-3968-43fa-a86f-518e04422929',\n",
       "  'runId': 'cb78bd59-016d-4a3b-94a6-20b55815f090',\n",
       "  'name': None,\n",
       "  'timestamp': '2022-03-14T14:46:13.478Z',\n",
       "  'batchId': 0,\n",
       "  'numInputRows': 0,\n",
       "  'inputRowsPerSecond': 0.0,\n",
       "  'processedRowsPerSecond': 0.0,\n",
       "  'durationMs': {'addBatch': 1762,\n",
       "   'getBatch': 3,\n",
       "   'latestOffset': 0,\n",
       "   'queryPlanning': 352,\n",
       "   'triggerExecution': 2239,\n",
       "   'walCommit': 66},\n",
       "  'stateOperators': [],\n",
       "  'sources': [{'description': 'TextSocketV2[host: localhost, port: 9999]',\n",
       "    'startOffset': None,\n",
       "    'endOffset': -1,\n",
       "    'numInputRows': 0,\n",
       "    'inputRowsPerSecond': 0.0,\n",
       "    'processedRowsPerSecond': 0.0}],\n",
       "  'sink': {'description': 'org.apache.spark.sql.execution.streaming.ConsoleTable$@44e6524e',\n",
       "   'numOutputRows': 0}},\n",
       " {'id': '9d748a54-3968-43fa-a86f-518e04422929',\n",
       "  'runId': 'cb78bd59-016d-4a3b-94a6-20b55815f090',\n",
       "  'name': None,\n",
       "  'timestamp': '2022-03-14T14:46:30.000Z',\n",
       "  'batchId': 1,\n",
       "  'numInputRows': 0,\n",
       "  'inputRowsPerSecond': 0.0,\n",
       "  'processedRowsPerSecond': 0.0,\n",
       "  'durationMs': {'latestOffset': 0, 'triggerExecution': 0},\n",
       "  'stateOperators': [],\n",
       "  'sources': [{'description': 'TextSocketV2[host: localhost, port: 9999]',\n",
       "    'startOffset': -1,\n",
       "    'endOffset': -1,\n",
       "    'numInputRows': 0,\n",
       "    'inputRowsPerSecond': 0.0,\n",
       "    'processedRowsPerSecond': 0.0}],\n",
       "  'sink': {'description': 'org.apache.spark.sql.execution.streaming.ConsoleTable$@44e6524e',\n",
       "   'numOutputRows': 0}},\n",
       " {'id': '9d748a54-3968-43fa-a86f-518e04422929',\n",
       "  'runId': 'cb78bd59-016d-4a3b-94a6-20b55815f090',\n",
       "  'name': None,\n",
       "  'timestamp': '2022-03-14T14:46:40.002Z',\n",
       "  'batchId': 1,\n",
       "  'numInputRows': 0,\n",
       "  'inputRowsPerSecond': 0.0,\n",
       "  'processedRowsPerSecond': 0.0,\n",
       "  'durationMs': {'latestOffset': 0, 'triggerExecution': 0},\n",
       "  'stateOperators': [],\n",
       "  'sources': [{'description': 'TextSocketV2[host: localhost, port: 9999]',\n",
       "    'startOffset': -1,\n",
       "    'endOffset': -1,\n",
       "    'numInputRows': 0,\n",
       "    'inputRowsPerSecond': 0.0,\n",
       "    'processedRowsPerSecond': 0.0}],\n",
       "  'sink': {'description': 'org.apache.spark.sql.execution.streaming.ConsoleTable$@44e6524e',\n",
       "   'numOutputRows': 0}}]"
      ]
     },
     "execution_count": 9,
     "metadata": {},
     "output_type": "execute_result"
    }
   ],
   "source": [
    "echoOnconsole.recentProgress"
   ]
  },
  {
   "cell_type": "code",
   "execution_count": null,
   "id": "7703af14-204a-476a-92ea-e46d93639859",
   "metadata": {},
   "outputs": [],
   "source": [
    "echoOnconsole.awaitTermination()\n",
    "print(\"await after\") "
   ]
  },
  {
   "cell_type": "code",
   "execution_count": null,
   "id": "1bcb710a-405d-48f3-86ea-c52ca4fde731",
   "metadata": {},
   "outputs": [],
   "source": []
  }
 ],
 "metadata": {
  "kernelspec": {
   "display_name": "Python 3 (ipykernel)",
   "language": "python",
   "name": "python3"
  },
  "language_info": {
   "codemirror_mode": {
    "name": "ipython",
    "version": 3
   },
   "file_extension": ".py",
   "mimetype": "text/x-python",
   "name": "python",
   "nbconvert_exporter": "python",
   "pygments_lexer": "ipython3",
   "version": "3.7.12"
  }
 },
 "nbformat": 4,
 "nbformat_minor": 5
}
