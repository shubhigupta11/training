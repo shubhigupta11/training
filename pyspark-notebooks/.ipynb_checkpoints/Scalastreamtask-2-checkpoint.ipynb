{
 "cells": [
  {
   "cell_type": "code",
   "execution_count": 1,
   "id": "86089728-e78b-40b4-ba01-d22e5b7060d4",
   "metadata": {},
   "outputs": [
    {
     "data": {
      "text/plain": [
       "Intitializing Scala interpreter ..."
      ]
     },
     "metadata": {},
     "output_type": "display_data"
    },
    {
     "data": {
      "text/plain": [
       "Spark Web UI available at http://192.168.80.128:4043\n",
       "SparkContext available as 'sc' (version = 3.1.3, master = local[*], app id = local-1647893264014)\n",
       "SparkSession available as 'spark'\n"
      ]
     },
     "metadata": {},
     "output_type": "display_data"
    },
    {
     "data": {
      "text/plain": [
       "import org.apache.spark.sql.types.{DoubleType, IntegerType, LongType, TimestampType, StringType, StructField, StructType}\n",
       "import org.apache.spark.sql._\n",
       "import org.apache.spark.sql.functions._\n"
      ]
     },
     "execution_count": 1,
     "metadata": {},
     "output_type": "execute_result"
    }
   ],
   "source": [
    "import org.apache.spark.sql.types.{DoubleType, IntegerType, LongType, TimestampType,  StringType, StructField, StructType}\n",
    "import  org.apache.spark.sql._\n",
    "import  org.apache.spark.sql.functions._"
   ]
  },
  {
   "cell_type": "code",
   "execution_count": 2,
   "id": "98870e5b-5495-4361-9924-fec95027a07e",
   "metadata": {},
   "outputs": [
    {
     "data": {
      "text/plain": [
       "kafkaDf: org.apache.spark.sql.DataFrame = [key: binary, value: binary ... 5 more fields]\n"
      ]
     },
     "execution_count": 2,
     "metadata": {},
     "output_type": "execute_result"
    }
   ],
   "source": [
    "val kafkaDf = spark.readStream.format(\"kafka\")\n",
    "  .option(\"kafka.bootstrap.servers\", \"hadoop-vm:9092\")\n",
    "  .option(\"subscribe\", \"stock-ticks\")\n",
    "  .option(\"group.id\", \"stock-ticks-group-sg5\")\n",
    "  .load()"
   ]
  },
  {
   "cell_type": "code",
   "execution_count": 3,
   "id": "6dcb6dad-fb4a-4bba-aebc-b578c22bc919",
   "metadata": {},
   "outputs": [
    {
     "name": "stdout",
     "output_type": "stream",
     "text": [
      "root\n",
      " |-- key: binary (nullable = true)\n",
      " |-- value: binary (nullable = true)\n",
      " |-- topic: string (nullable = true)\n",
      " |-- partition: integer (nullable = true)\n",
      " |-- offset: long (nullable = true)\n",
      " |-- timestamp: timestamp (nullable = true)\n",
      " |-- timestampType: integer (nullable = true)\n",
      "\n"
     ]
    }
   ],
   "source": [
    "kafkaDf.printSchema()"
   ]
  },
  {
   "cell_type": "code",
   "execution_count": 4,
   "id": "de9a5983-9a32-4672-803e-89f72dd04f12",
   "metadata": {},
   "outputs": [
    {
     "name": "stdout",
     "output_type": "stream",
     "text": [
      "root\n",
      " |-- value: string (nullable = true)\n",
      " |-- timestamp: timestamp (nullable = true)\n",
      "\n"
     ]
    },
    {
     "data": {
      "text/plain": [
       "ticksDf: org.apache.spark.sql.DataFrame = [value: string, timestamp: timestamp]\n"
      ]
     },
     "execution_count": 4,
     "metadata": {},
     "output_type": "execute_result"
    }
   ],
   "source": [
    "val ticksDf = kafkaDf.selectExpr(\"CAST(value AS STRING)\", \"timestamp\")\n",
    "\n",
    "ticksDf.printSchema() "
   ]
  },
  {
   "cell_type": "code",
   "execution_count": 5,
   "id": "f7c047a7-b8b2-465d-8a5b-8394fb7c6521",
   "metadata": {},
   "outputs": [
    {
     "data": {
      "text/plain": [
       "schema: org.apache.spark.sql.types.StructType = StructType(StructField(symbol,StringType,true), StructField(price,DoubleType,true), StructField(volume,LongType,true), StructField(timestamp,LongType,true))\n"
      ]
     },
     "execution_count": 5,
     "metadata": {},
     "output_type": "execute_result"
    }
   ],
   "source": [
    "val schema = StructType(\n",
    "    List(\n",
    "    StructField(\"symbol\", StringType, true),\n",
    "    StructField(\"price\", DoubleType, true),\n",
    "    StructField(\"volume\", LongType, true),\n",
    "    StructField(\"timestamp\", LongType, true)\n",
    "))"
   ]
  },
  {
   "cell_type": "code",
   "execution_count": 6,
   "id": "fc5c01ed-b7cf-44cf-a00c-b9697f6b09d6",
   "metadata": {},
   "outputs": [
    {
     "name": "stdout",
     "output_type": "stream",
     "text": [
      "root\n",
      " |-- value: struct (nullable = true)\n",
      " |    |-- symbol: string (nullable = true)\n",
      " |    |-- price: double (nullable = true)\n",
      " |    |-- volume: long (nullable = true)\n",
      " |    |-- timestamp: long (nullable = true)\n",
      " |-- timestamp: timestamp (nullable = true)\n",
      "\n"
     ]
    },
    {
     "data": {
      "text/plain": [
       "jsonDf: org.apache.spark.sql.DataFrame = [value: struct<symbol: string, price: double ... 2 more fields>, timestamp: timestamp]\n"
      ]
     },
     "execution_count": 6,
     "metadata": {},
     "output_type": "execute_result"
    }
   ],
   "source": [
    "val jsonDf = ticksDf.withColumn(\"value\", from_json($\"value\", schema))\n",
    "\n",
    "jsonDf.printSchema()"
   ]
  },
  {
   "cell_type": "code",
   "execution_count": 8,
   "id": "293918b5-ccb8-4117-9d76-aaea7a86d582",
   "metadata": {},
   "outputs": [
    {
     "name": "stdout",
     "output_type": "stream",
     "text": [
      "root\n",
      " |-- symbol: string (nullable = true)\n",
      " |-- price: double (nullable = true)\n",
      " |-- volume: long (nullable = true)\n",
      " |-- timestamp: long (nullable = true)\n",
      "\n"
     ]
    },
    {
     "data": {
      "text/plain": [
       "stockTickDf: org.apache.spark.sql.DataFrame = [symbol: string, price: double ... 2 more fields]\n"
      ]
     },
     "execution_count": 8,
     "metadata": {},
     "output_type": "execute_result"
    }
   ],
   "source": [
    "val stockTickDf = jsonDf.select (col(\"value.*\"))\n",
    "stockTickDf.printSchema()"
   ]
  },
  {
   "cell_type": "code",
   "execution_count": 9,
   "id": "3e8a3143-72d2-4567-8395-22a2206e8139",
   "metadata": {},
   "outputs": [
    {
     "data": {
      "text/plain": [
       "stockTickDf1: org.apache.spark.sql.DataFrame = [symbol: string, price: double ... 2 more fields]\n"
      ]
     },
     "execution_count": 9,
     "metadata": {},
     "output_type": "execute_result"
    }
   ],
   "source": [
    "val stockTickDf1 = stockTickDf\n",
    "                .withColumn(\"timestampTemp\", (col(\"timestamp\") / 1000).cast(\"timestamp\"))\n",
    "                .withColumn(\"trade_time\", date_trunc(\"minute\", col(\"timestampTemp\")))\n",
    "                .drop(\"timestamp\")\n",
    "                .drop(\"timestampTemp\")\n",
    "                .withColumnRenamed(\"trade_time\", \"timestamp\")"
   ]
  },
  {
   "cell_type": "code",
   "execution_count": 11,
   "id": "66b64535-10d8-4096-9341-08acacbcfbb4",
   "metadata": {},
   "outputs": [
    {
     "data": {
      "text/plain": [
       "import org.apache.spark.sql.streaming.Trigger\n",
       "res6: org.apache.spark.sql.streaming.StreamingQuery = org.apache.spark.sql.execution.streaming.StreamingQueryWrapper@1315bad8\n"
      ]
     },
     "execution_count": 11,
     "metadata": {},
     "output_type": "execute_result"
    }
   ],
   "source": [
    "import org.apache.spark.sql.streaming.Trigger\n",
    "\n",
    "(stockTickDf1.withColumn(\"year\", date_format(col(\"timestamp\"), \"yyyy\"))\n",
    "            .withColumn(\"month\", date_format(col(\"timestamp\"), \"MM\"))\n",
    "            .withColumn(\"day\", date_format(col(\"timestamp\"), \"dd\"))\n",
    "            .withColumn(\"hour\",date_format(col(\"timestamp\"), \"HH\"))\n",
    "            .withColumn(\"SYMBOL\", col(\"symbol\"))\n",
    "            .writeStream\n",
    "            .trigger(Trigger.ProcessingTime(\"65 seconds\"))\n",
    "            .queryName(\"write to csv\")\n",
    "            .format(\"csv\")\n",
    "            .option(\"path\", \"hdfs://localhost:9000/dump-1min-scala\")\n",
    "            .option(\"header\", true)\n",
    "            .option(\"checkpointLocation\", \"hdfs://localhost:9000/checkpoint/tickscsvtohdfs6\")\n",
    "            .partitionBy(\"year\", \"month\", \"day\", \"hour\", \"SYMBOL\")\n",
    "            .option(\"truncate\", false)\n",
    "            .start()\n",
    ")"
   ]
  },
  {
   "cell_type": "code",
   "execution_count": null,
   "id": "fc7819c5-d92f-49cd-b779-7b508ae9d58e",
   "metadata": {},
   "outputs": [],
   "source": [
    "// def processBatchData(candleBatchDf, batch_id: Long)= {\n",
    "//     print (\"process batch called\", batch_id, \"writing \", candleBatchDf.count())\n",
    "//      val candleBatchDf = (candleBatchDf\n",
    "//          .coalesce(1)\n",
    "//          .write\n",
    "//          .mode(\"append\")\n",
    "//          .partitionBy(\"year\", \"month\", \"day\", \"hour\", \"SYMBOL\")\n",
    "//          .option(\"header\", true)\n",
    "//          .save(\"hdfs://localhost:9000/dump-1min-scala\")\n",
    "//                           )\n",
    "//  } \n",
    "// stockTickDf1Min.writeStream.foreachBatch(processBatchData_).outputMode(\"append\").start()"
   ]
  }
 ],
 "metadata": {
  "kernelspec": {
   "display_name": "spylon-kernel",
   "language": "scala",
   "name": "spylon-kernel"
  },
  "language_info": {
   "codemirror_mode": "text/x-scala",
   "file_extension": ".scala",
   "help_links": [
    {
     "text": "MetaKernel Magics",
     "url": "https://metakernel.readthedocs.io/en/latest/source/README.html"
    }
   ],
   "mimetype": "text/x-scala",
   "name": "scala",
   "pygments_lexer": "scala",
   "version": "0.4.1"
  }
 },
 "nbformat": 4,
 "nbformat_minor": 5
}
