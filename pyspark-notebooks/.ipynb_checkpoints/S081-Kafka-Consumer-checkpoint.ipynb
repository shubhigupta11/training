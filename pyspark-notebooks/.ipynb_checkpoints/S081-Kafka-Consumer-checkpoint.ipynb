{
 "cells": [
  {
   "cell_type": "code",
   "execution_count": null,
   "id": "9007e947-dc3b-416a-ae32-37cd5249e7aa",
   "metadata": {},
   "outputs": [
    {
     "name": "stdout",
     "output_type": "stream",
     "text": [
      "Received message: hello kafka\n",
      "Received message: greetings\n",
      "Received message: good afternoon\n",
      "Received message: happy learning\n",
      "Received message: fifth message\n",
      "Received message: sixth message\n",
      "Received message: seventh msg\n",
      "Received message: hello world\n",
      "Received message: good afternoon\n",
      "Received message: hello world\n",
      "Received message: good afternoon\n"
     ]
    }
   ],
   "source": [
    "from confluent_kafka import Consumer\n",
    "\n",
    "\n",
    "c = Consumer({\n",
    "    'bootstrap.servers': 'localhost:9092',\n",
    "    'group.id': 'mygroup',\n",
    "    'auto.offset.reset': 'earliest'\n",
    "})\n",
    "\n",
    "c.subscribe(['test'])\n",
    "\n",
    "while True:\n",
    "    msg = c.poll(1.0)\n",
    "\n",
    "    if msg is None:\n",
    "        continue\n",
    "    if msg.error():\n",
    "        print(\"Consumer error: {}\".format(msg.error()))\n",
    "        continue\n",
    "\n",
    "    print('Received message: {}'.format(msg.value().decode('utf-8')))\n",
    "\n",
    "c.close()"
   ]
  },
  {
   "cell_type": "code",
   "execution_count": null,
   "id": "65b5f051-2f6a-4f8f-a92a-aff9465cd86a",
   "metadata": {},
   "outputs": [],
   "source": []
  }
 ],
 "metadata": {
  "kernelspec": {
   "display_name": "Python 3 (ipykernel)",
   "language": "python",
   "name": "python3"
  },
  "language_info": {
   "codemirror_mode": {
    "name": "ipython",
    "version": 3
   },
   "file_extension": ".py",
   "mimetype": "text/x-python",
   "name": "python",
   "nbconvert_exporter": "python",
   "pygments_lexer": "ipython3",
   "version": "3.7.12"
  }
 },
 "nbformat": 4,
 "nbformat_minor": 5
}
