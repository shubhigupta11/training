{
 "cells": [
  {
   "cell_type": "code",
   "execution_count": 1,
   "id": "c80f3e5a-595e-4738-92b5-6ee057b48d65",
   "metadata": {},
   "outputs": [],
   "source": [
    "import findspark\n",
    "findspark.init()"
   ]
  },
  {
   "cell_type": "code",
   "execution_count": 2,
   "id": "ea53c687-cdd0-4cd4-8f9e-f581652fac9d",
   "metadata": {},
   "outputs": [
    {
     "name": "stderr",
     "output_type": "stream",
     "text": [
      "22/03/02 01:47:44 WARN Utils: Your hostname, ubuntu-virtual-machine resolves to a loopback address: 127.0.1.1; using 192.168.80.128 instead (on interface ens33)\n",
      "22/03/02 01:47:44 WARN Utils: Set SPARK_LOCAL_IP if you need to bind to another address\n",
      "22/03/02 01:47:45 WARN NativeCodeLoader: Unable to load native-hadoop library for your platform... using builtin-java classes where applicable\n",
      "Using Spark's default log4j profile: org/apache/spark/log4j-defaults.properties\n",
      "Setting default log level to \"WARN\".\n",
      "To adjust logging level use sc.setLogLevel(newLevel). For SparkR, use setLogLevel(newLevel).\n",
      "22/03/02 01:47:46 WARN Utils: Service 'SparkUI' could not bind on port 4040. Attempting port 4041.\n",
      "22/03/02 01:47:46 WARN Utils: Service 'SparkUI' could not bind on port 4041. Attempting port 4042.\n",
      "22/03/02 01:47:46 WARN Utils: Service 'SparkUI' could not bind on port 4042. Attempting port 4043.\n",
      "22/03/02 01:47:46 WARN Utils: Service 'SparkUI' could not bind on port 4043. Attempting port 4044.\n",
      "22/03/02 01:47:46 WARN Utils: Service 'SparkUI' could not bind on port 4044. Attempting port 4045.\n",
      "22/03/02 01:47:46 WARN Utils: Service 'SparkUI' could not bind on port 4045. Attempting port 4046.\n"
     ]
    }
   ],
   "source": [
    "from pyspark import SparkContext\n",
    "sc = SparkContext(\"local\", \"Fold\")"
   ]
  },
  {
   "cell_type": "code",
   "execution_count": 9,
   "id": "47431dba-f696-4012-b074-a8f263749e15",
   "metadata": {},
   "outputs": [],
   "source": [
    "def add (acc, value):\n",
    "    result = acc +value\n",
    "    print(\"acc\", acc, \"value\", value, \"output\", result)\n",
    "    return result"
   ]
  },
  {
   "cell_type": "code",
   "execution_count": 10,
   "id": "5b3142ff-3af8-4d1d-a40d-6a57108bebe2",
   "metadata": {},
   "outputs": [],
   "source": [
    "rdd = sc.parallelize([10,20,30,40,50])"
   ]
  },
  {
   "cell_type": "code",
   "execution_count": 11,
   "id": "3d468793-9a33-4211-b77d-04b2a4796dd8",
   "metadata": {},
   "outputs": [
    {
     "name": "stdout",
     "output_type": "stream",
     "text": [
      "acc 0 value 150 output 150\n"
     ]
    },
    {
     "name": "stderr",
     "output_type": "stream",
     "text": [
      "acc 0 value 10 output 10\n",
      "acc 10 value 20 output 30\n",
      "acc 30 value 30 output 60\n",
      "acc 60 value 40 output 100\n",
      "acc 100 value 50 output 150\n"
     ]
    },
    {
     "data": {
      "text/plain": [
       "150"
      ]
     },
     "execution_count": 11,
     "metadata": {},
     "output_type": "execute_result"
    }
   ],
   "source": [
    "rdd.fold (0, add)"
   ]
  },
  {
   "cell_type": "code",
   "execution_count": 13,
   "id": "6efd1986-1285-40fc-b32f-d466ee999518",
   "metadata": {},
   "outputs": [],
   "source": [
    "rdd = sc.parallelize([10,20,30,40,50], 2)"
   ]
  },
  {
   "cell_type": "code",
   "execution_count": 14,
   "id": "e2a5eb4f-7920-4aa6-aa83-c65ca2747757",
   "metadata": {},
   "outputs": [
    {
     "data": {
      "text/plain": [
       "[[10, 20], [30, 40, 50]]"
      ]
     },
     "execution_count": 14,
     "metadata": {},
     "output_type": "execute_result"
    }
   ],
   "source": [
    "rdd.glom().collect()"
   ]
  },
  {
   "cell_type": "code",
   "execution_count": 15,
   "id": "48aa851b-f889-495f-a197-3fb78bf8aa09",
   "metadata": {},
   "outputs": [
    {
     "name": "stdout",
     "output_type": "stream",
     "text": [
      "acc 0 value 30 output 30\n",
      "acc 30 value 120 output 150\n"
     ]
    },
    {
     "name": "stderr",
     "output_type": "stream",
     "text": [
      "acc 0 value 10 output 10\n",
      "acc 10 value 20 output 30\n",
      "acc 0 value 30 output 30\n",
      "acc 30 value 40 output 70\n",
      "acc 70 value 50 output 120\n"
     ]
    },
    {
     "data": {
      "text/plain": [
       "150"
      ]
     },
     "execution_count": 15,
     "metadata": {},
     "output_type": "execute_result"
    }
   ],
   "source": [
    "rdd.fold(0,add)"
   ]
  },
  {
   "cell_type": "code",
   "execution_count": 17,
   "id": "f22f50dd-7f63-41bd-bd0a-b516f0eaa515",
   "metadata": {},
   "outputs": [
    {
     "name": "stderr",
     "output_type": "stream",
     "text": [
      "acc 0 value 200 200 output 200\n",
      "acc 0 value 50 50 output 50\n",
      "acc 0 value 20 20 output 20\n",
      "acc 200 value 100 100 output 300\n",
      "acc 50 value 25 25 output 75\n"
     ]
    },
    {
     "data": {
      "text/plain": [
       "[('INFY', 300), ('TSLA', 75), ('EMR', 20)]"
      ]
     },
     "execution_count": 17,
     "metadata": {},
     "output_type": "execute_result"
    }
   ],
   "source": [
    "orders = [\n",
    "    # symbol, qty\n",
    "    ('INFY', 200),\n",
    "    ('TSLA', 50),\n",
    "    ('EMR', 20),\n",
    "    ('INFY', 100),\n",
    "    ('TSLA', 25)\n",
    "]\n",
    "\n",
    "def add (acc, value):\n",
    "    output =acc +value\n",
    "    print(\"acc\", acc, \"value\", value, value, \"output\", output)\n",
    "    return output\n",
    "\n",
    "orderRdd = sc.parallelize(orders)\n",
    "orderRdd.foldByKey(0, add).collect()"
   ]
  },
  {
   "cell_type": "code",
   "execution_count": null,
   "id": "d91549a7-b230-4190-a0cf-3a7fb121d3fa",
   "metadata": {},
   "outputs": [],
   "source": []
  }
 ],
 "metadata": {
  "kernelspec": {
   "display_name": "Python 3 (ipykernel)",
   "language": "python",
   "name": "python3"
  },
  "language_info": {
   "codemirror_mode": {
    "name": "ipython",
    "version": 3
   },
   "file_extension": ".py",
   "mimetype": "text/x-python",
   "name": "python",
   "nbconvert_exporter": "python",
   "pygments_lexer": "ipython3",
   "version": "3.7.12"
  }
 },
 "nbformat": 4,
 "nbformat_minor": 5
}
