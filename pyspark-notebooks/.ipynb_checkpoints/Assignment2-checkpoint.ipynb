{
 "cells": [
  {
   "cell_type": "markdown",
   "id": "efa8d78e-1e80-497f-9c60-91b94a93e435",
   "metadata": {},
   "source": [
    "**1. Convert Daily Stock data in CSV format to Parquet format with Partitions “Year”, “Month”, “Day” refer NSE website historical data set Bhavcopy, the file name appear like cm04MAR2022bhav.csv.zip , Download at least 10 days data**"
   ]
  },
  {
   "cell_type": "code",
   "execution_count": 1,
   "id": "6432795b-1b73-4c50-96e9-6f9b03a81e4d",
   "metadata": {},
   "outputs": [],
   "source": [
    "import findspark\n",
    "findspark.init()"
   ]
  },
  {
   "cell_type": "code",
   "execution_count": 2,
   "id": "8e2738de-5814-4f46-a944-1cc8fe2ec4de",
   "metadata": {},
   "outputs": [
    {
     "name": "stderr",
     "output_type": "stream",
     "text": [
      "22/03/12 06:16:42 WARN Utils: Your hostname, ubuntu-virtual-machine resolves to a loopback address: 127.0.1.1; using 192.168.80.128 instead (on interface ens33)\n",
      "22/03/12 06:16:42 WARN Utils: Set SPARK_LOCAL_IP if you need to bind to another address\n",
      "22/03/12 06:16:43 WARN NativeCodeLoader: Unable to load native-hadoop library for your platform... using builtin-java classes where applicable\n",
      "Using Spark's default log4j profile: org/apache/spark/log4j-defaults.properties\n",
      "Setting default log level to \"WARN\".\n",
      "To adjust logging level use sc.setLogLevel(newLevel). For SparkR, use setLogLevel(newLevel).\n",
      "22/03/12 06:16:44 WARN Utils: Service 'SparkUI' could not bind on port 4040. Attempting port 4041.\n",
      "22/03/12 06:16:44 WARN Utils: Service 'SparkUI' could not bind on port 4041. Attempting port 4042.\n",
      "22/03/12 06:16:44 WARN Utils: Service 'SparkUI' could not bind on port 4042. Attempting port 4043.\n"
     ]
    }
   ],
   "source": [
    "from pyspark.conf import SparkConf\n",
    "config = SparkConf()\n",
    "\n",
    "config.setMaster(\"local\").setAppName(\"Stockdata\")\n",
    "\n",
    "from pyspark.sql import SparkSession\n",
    "spark =SparkSession.builder\\\n",
    "                    .config(conf=config)\\\n",
    "                    .getOrCreate()\n",
    "\n",
    "sc= spark.sparkContext"
   ]
  },
  {
   "cell_type": "code",
   "execution_count": 3,
   "id": "25c586de-daba-4da3-bd03-b605868d4d70",
   "metadata": {},
   "outputs": [
    {
     "name": "stderr",
     "output_type": "stream",
     "text": [
      "                                                                                \r"
     ]
    },
    {
     "name": "stdout",
     "output_type": "stream",
     "text": [
      "root\n",
      " |-- SYMBOL: string (nullable = true)\n",
      " |-- SERIES: string (nullable = true)\n",
      " |-- OPEN: double (nullable = true)\n",
      " |-- HIGH: double (nullable = true)\n",
      " |-- LOW: double (nullable = true)\n",
      " |-- CLOSE: double (nullable = true)\n",
      " |-- LAST: double (nullable = true)\n",
      " |-- PREVCLOSE: double (nullable = true)\n",
      " |-- TOTTRDQTY: integer (nullable = true)\n",
      " |-- TOTTRDVAL: double (nullable = true)\n",
      " |-- TIMESTAMP: timestamp (nullable = true)\n",
      " |-- TOTALTRADES: integer (nullable = true)\n",
      " |-- ISIN: string (nullable = true)\n",
      " |-- _c13: string (nullable = true)\n",
      "\n",
      "+----------+------+-----+-----+-----+-----+-----+---------+---------+---------+-------------------+-----------+------------+----+\n",
      "|    SYMBOL|SERIES| OPEN| HIGH|  LOW|CLOSE| LAST|PREVCLOSE|TOTTRDQTY|TOTTRDVAL|          TIMESTAMP|TOTALTRADES|        ISIN|_c13|\n",
      "+----------+------+-----+-----+-----+-----+-----+---------+---------+---------+-------------------+-----------+------------+----+\n",
      "| 20MICRONS|    EQ|69.95| 71.0|68.45| 69.8| 70.4|     71.6|   140616|9823167.1|2022-03-07 00:00:00|       1742|INE144J01027|null|\n",
      "|21STCENMGM|    EQ|27.95|27.95|27.95|27.95|27.95|     28.5|      793| 22164.35|2022-03-07 00:00:00|         34|INE253B01015|null|\n",
      "+----------+------+-----+-----+-----+-----+-----+---------+---------+---------+-------------------+-----------+------------+----+\n",
      "only showing top 2 rows\n",
      "\n"
     ]
    },
    {
     "name": "stderr",
     "output_type": "stream",
     "text": [
      "22/03/12 06:15:22 WARN CSVHeaderChecker: CSV header does not conform to the schema.\n",
      " Header: SYMBOL, SERIES, OPEN, HIGH, LOW, CLOSE, LAST, PREVCLOSE, TOTTRDQTY, TOTTRDVAL, TIMESTAMP, TOTALTRADES, ISIN, \n",
      " Schema: SYMBOL, SERIES, OPEN, HIGH, LOW, CLOSE, LAST, PREVCLOSE, TOTTRDQTY, TOTTRDVAL, TIMESTAMP, TOTALTRADES, ISIN, _c13\n",
      "Expected: _c13 but found: \n",
      "CSV file: hdfs://localhost:9000/stock1/daily1/cm07MAR2022bhav.csv\n"
     ]
    }
   ],
   "source": [
    "stockDf = spark.read.format(\"csv\")\\\n",
    "                .option(\"header\", True)\\\n",
    "                .option(\"inferSchema\", True)\\\n",
    "                .option(\"timestampFormat\", \"dd-MMM-yyyy\")\\\n",
    "                .load(\"hdfs://localhost:9000/stock1/daily1\")\n",
    "\n",
    "stockDf.printSchema()\n",
    "stockDf.show(2)"
   ]
  },
  {
   "cell_type": "code",
   "execution_count": 5,
   "id": "6082214d-066a-44cf-a395-bbc30a0e83bd",
   "metadata": {},
   "outputs": [],
   "source": [
    "stockDf = stockDf.drop('_c13')"
   ]
  },
  {
   "cell_type": "code",
   "execution_count": 7,
   "id": "07235216-946f-476b-8758-01526d366be7",
   "metadata": {},
   "outputs": [
    {
     "name": "stdout",
     "output_type": "stream",
     "text": [
      "root\n",
      " |-- SYMBOL: string (nullable = true)\n",
      " |-- SERIES: string (nullable = true)\n",
      " |-- OPEN: double (nullable = true)\n",
      " |-- HIGH: double (nullable = true)\n",
      " |-- LOW: double (nullable = true)\n",
      " |-- CLOSE: double (nullable = true)\n",
      " |-- LAST: double (nullable = true)\n",
      " |-- PREVCLOSE: double (nullable = true)\n",
      " |-- TOTTRDQTY: integer (nullable = true)\n",
      " |-- TOTTRDVAL: double (nullable = true)\n",
      " |-- TIMESTAMP: timestamp (nullable = true)\n",
      " |-- TOTALTRADES: integer (nullable = true)\n",
      " |-- ISIN: string (nullable = true)\n",
      " |-- YEAR: string (nullable = true)\n",
      " |-- MONTH: string (nullable = true)\n",
      " |-- DAY: string (nullable = true)\n",
      "\n",
      "+----------+------+-----+-----+-----+-----+-----+---------+---------+---------+-------------------+-----------+------------+----+-----+---+\n",
      "|    SYMBOL|SERIES| OPEN| HIGH|  LOW|CLOSE| LAST|PREVCLOSE|TOTTRDQTY|TOTTRDVAL|          TIMESTAMP|TOTALTRADES|        ISIN|YEAR|MONTH|DAY|\n",
      "+----------+------+-----+-----+-----+-----+-----+---------+---------+---------+-------------------+-----------+------------+----+-----+---+\n",
      "| 20MICRONS|    EQ|69.95| 71.0|68.45| 69.8| 70.4|     71.6|   140616|9823167.1|2022-03-07 00:00:00|       1742|INE144J01027|2022|   03| 07|\n",
      "|21STCENMGM|    EQ|27.95|27.95|27.95|27.95|27.95|     28.5|      793| 22164.35|2022-03-07 00:00:00|         34|INE253B01015|2022|   03| 07|\n",
      "+----------+------+-----+-----+-----+-----+-----+---------+---------+---------+-------------------+-----------+------------+----+-----+---+\n",
      "only showing top 2 rows\n",
      "\n"
     ]
    }
   ],
   "source": [
    "from pyspark.sql.functions import col\n",
    "from  pyspark.sql.functions import *\n",
    "\n",
    "stockDf = stockDf.withColumn(\"YEAR\", date_format(\"TIMESTAMP\", \"yyyy\"))\\\n",
    "                 .withColumn(\"MONTH\", date_format(\"TIMESTAMP\", \"MM\"))\\\n",
    "                 .withColumn(\"DAY\", date_format(\"TIMESTAMP\", \"dd\"))   \n",
    "\n",
    "stockDf.printSchema()\n",
    "stockDf.show(2)"
   ]
  },
  {
   "cell_type": "code",
   "execution_count": 6,
   "id": "953f7fe5-09f5-47da-ad38-a606209377da",
   "metadata": {},
   "outputs": [
    {
     "name": "stderr",
     "output_type": "stream",
     "text": [
      "                                                                                \r"
     ]
    }
   ],
   "source": [
    "stockDf.write.mode(\"overwrite\")\\\n",
    "            .parquet(\"hdfs://localhost:9000/stockDf-parquet\")"
   ]
  },
  {
   "cell_type": "code",
   "execution_count": 7,
   "id": "64830ee0-8b26-4b36-b3a9-88080515d7f8",
   "metadata": {},
   "outputs": [
    {
     "name": "stdout",
     "output_type": "stream",
     "text": [
      "root\n",
      " |-- SYMBOL: string (nullable = true)\n",
      " |-- SERIES: string (nullable = true)\n",
      " |-- OPEN: double (nullable = true)\n",
      " |-- HIGH: double (nullable = true)\n",
      " |-- LOW: double (nullable = true)\n",
      " |-- CLOSE: double (nullable = true)\n",
      " |-- LAST: double (nullable = true)\n",
      " |-- PREVCLOSE: double (nullable = true)\n",
      " |-- TOTTRDQTY: integer (nullable = true)\n",
      " |-- TOTTRDVAL: double (nullable = true)\n",
      " |-- TIMESTAMP: timestamp (nullable = true)\n",
      " |-- TOTALTRADES: integer (nullable = true)\n",
      " |-- ISIN: string (nullable = true)\n",
      " |-- Year: string (nullable = true)\n",
      " |-- Month: string (nullable = true)\n",
      " |-- Day: string (nullable = true)\n",
      "\n",
      "+----------+------+-----+-----+-----+-----+-----+---------+---------+---------+-------------------+-----------+------------+----+-----+---+\n",
      "|    SYMBOL|SERIES| OPEN| HIGH|  LOW|CLOSE| LAST|PREVCLOSE|TOTTRDQTY|TOTTRDVAL|          TIMESTAMP|TOTALTRADES|        ISIN|Year|Month|Day|\n",
      "+----------+------+-----+-----+-----+-----+-----+---------+---------+---------+-------------------+-----------+------------+----+-----+---+\n",
      "| 20MICRONS|    EQ|69.95| 71.0|68.45| 69.8| 70.4|     71.6|   140616|9823167.1|2022-03-07 00:00:00|       1742|INE144J01027|2022|   03| 07|\n",
      "|21STCENMGM|    EQ|27.95|27.95|27.95|27.95|27.95|     28.5|      793| 22164.35|2022-03-07 00:00:00|         34|INE253B01015|2022|   03| 07|\n",
      "+----------+------+-----+-----+-----+-----+-----+---------+---------+---------+-------------------+-----------+------------+----+-----+---+\n",
      "only showing top 2 rows\n",
      "\n"
     ]
    }
   ],
   "source": [
    "stockparquetDf = spark.read.format(\"parquet\")\\\n",
    "                .load(\"hdfs://localhost:9000/stockDf-parquet\")\n",
    "\n",
    "stockparquetDf.printSchema()\n",
    "stockparquetDf.show(2)"
   ]
  },
  {
   "cell_type": "markdown",
   "id": "db718228-d721-40a2-b075-091a3775ddf0",
   "metadata": {},
   "source": [
    "**2. Find the PriceGain, PriceGainP, VolumeGain, VolumeGainP of each stock for 10 days [Refer Point 1] from historical data, write the results to JSON, Parquet, ORC, CSV format in Hadoop. The column should be “Date”, “Symbol”, “PriceGain”, “PriceGainP”, “VolumnGain”, “VolumnGainP”, sorted by PriceGainP in descending order**\n",
    "\n",
    "volume gain = yesterdays volume and todays volume, lag , traded quantity volume"
   ]
  },
  {
   "cell_type": "code",
   "execution_count": 8,
   "id": "b299bfbd-42ca-4599-a5c2-bca6f58366c8",
   "metadata": {},
   "outputs": [
    {
     "name": "stdout",
     "output_type": "stream",
     "text": [
      "root\n",
      " |-- SYMBOL: string (nullable = true)\n",
      " |-- SERIES: string (nullable = true)\n",
      " |-- OPEN: double (nullable = true)\n",
      " |-- HIGH: double (nullable = true)\n",
      " |-- LOW: double (nullable = true)\n",
      " |-- CLOSE: double (nullable = true)\n",
      " |-- LAST: double (nullable = true)\n",
      " |-- PREVCLOSE: double (nullable = true)\n",
      " |-- TOTTRDQTY: integer (nullable = true)\n",
      " |-- TOTTRDVAL: double (nullable = true)\n",
      " |-- TIMESTAMP: timestamp (nullable = true)\n",
      " |-- TOTALTRADES: integer (nullable = true)\n",
      " |-- ISIN: string (nullable = true)\n",
      " |-- YEAR: string (nullable = true)\n",
      " |-- MONTH: string (nullable = true)\n",
      " |-- DAY: string (nullable = true)\n",
      " |-- PRICEGAIN: double (nullable = true)\n",
      " |-- PRICEGAINP: double (nullable = true)\n",
      "\n",
      "+----------+------+--------+--------+-------+--------+-------+---------+---------+--------------+-------------------+-----------+------------+----+-----+---+--------------------+--------------------+\n",
      "|    SYMBOL|SERIES|    OPEN|    HIGH|    LOW|   CLOSE|   LAST|PREVCLOSE|TOTTRDQTY|     TOTTRDVAL|          TIMESTAMP|TOTALTRADES|        ISIN|YEAR|MONTH|DAY|           PRICEGAIN|          PRICEGAINP|\n",
      "+----------+------+--------+--------+-------+--------+-------+---------+---------+--------------+-------------------+-----------+------------+----+-----+---+--------------------+--------------------+\n",
      "| 20MICRONS|    EQ|   69.95|    71.0|  68.45|    69.8|   70.4|     71.6|   140616|     9823167.1|2022-03-07 00:00:00|       1742|INE144J01027|2022|   03| 07|-0.15000000000000568|-0.21443888491780658|\n",
      "|21STCENMGM|    EQ|   27.95|   27.95|  27.95|   27.95|  27.95|     28.5|      793|      22164.35|2022-03-07 00:00:00|         34|INE253B01015|2022|   03| 07|                 0.0|                 0.0|\n",
      "| 3IINFOLTD|    EQ|   52.25|    55.1|   51.0|    55.1|   55.1|     52.5|  1209245| 6.554553075E7|2022-03-07 00:00:00|       6644|INE748C01038|2022|   03| 07|  2.8500000000000014|   5.454545454545457|\n",
      "|   3MINDIA|    EQ|20199.35|20199.35|19600.0|19925.95|19935.0| 20379.35|    15772|3.1509127765E8|2022-03-07 00:00:00|       2416|INE470A01017|2022|   03| 07|  -273.3999999999978| -1.3535089000388518|\n",
      "|    3PLAND|    BE|    15.6|   15.85|   14.9|   15.05|  15.05|     15.6|     3548|      54210.25|2022-03-07 00:00:00|         51|INE105C01023|2022|   03| 07| -0.5499999999999989| -3.5256410256410184|\n",
      "+----------+------+--------+--------+-------+--------+-------+---------+---------+--------------+-------------------+-----------+------------+----+-----+---+--------------------+--------------------+\n",
      "only showing top 5 rows\n",
      "\n"
     ]
    }
   ],
   "source": [
    "from pyspark.sql.functions import col\n",
    "\n",
    "stockDf = stockDf.withColumn('PRICEGAIN', col('CLOSE') -col('OPEN'))\\\n",
    "                .withColumn('PRICEGAINP', (col('PRICEGAIN') / col('OPEN')) *100)\n",
    "\n",
    "\n",
    "stockDf.printSchema()\n",
    "stockDf.show(5)"
   ]
  },
  {
   "cell_type": "code",
   "execution_count": 9,
   "id": "46c407fa-2f42-4def-b565-f2943ac909c4",
   "metadata": {},
   "outputs": [
    {
     "name": "stdout",
     "output_type": "stream",
     "text": [
      "root\n",
      " |-- SYMBOL: string (nullable = true)\n",
      " |-- SERIES: string (nullable = true)\n",
      " |-- OPEN: double (nullable = true)\n",
      " |-- HIGH: double (nullable = true)\n",
      " |-- LOW: double (nullable = true)\n",
      " |-- CLOSE: double (nullable = true)\n",
      " |-- LAST: double (nullable = true)\n",
      " |-- PREVCLOSE: double (nullable = true)\n",
      " |-- TOTTRDQTY: integer (nullable = true)\n",
      " |-- TOTTRDVAL: double (nullable = true)\n",
      " |-- TIMESTAMP: timestamp (nullable = true)\n",
      " |-- TOTALTRADES: integer (nullable = true)\n",
      " |-- ISIN: string (nullable = true)\n",
      " |-- YEAR: string (nullable = true)\n",
      " |-- MONTH: string (nullable = true)\n",
      " |-- DAY: string (nullable = true)\n",
      " |-- PRICEGAIN: double (nullable = true)\n",
      " |-- PRICEGAINP: double (nullable = true)\n",
      " |-- LAG: integer (nullable = true)\n",
      "\n"
     ]
    },
    {
     "name": "stderr",
     "output_type": "stream",
     "text": [
      "[Stage 6:>                                                          (0 + 1) / 1]\r"
     ]
    },
    {
     "name": "stdout",
     "output_type": "stream",
     "text": [
      "+----------+------+----+-----+----+-----+----+---------+---------+---------+-------------------+-----------+------------+----+-----+---+-------------------+-----------------+-----+\n",
      "|    SYMBOL|SERIES|OPEN| HIGH| LOW|CLOSE|LAST|PREVCLOSE|TOTTRDQTY|TOTTRDVAL|          TIMESTAMP|TOTALTRADES|        ISIN|YEAR|MONTH|DAY|          PRICEGAIN|       PRICEGAINP|  LAG|\n",
      "+----------+------+----+-----+----+-----+----+---------+---------+---------+-------------------+-----------+------------+----+-----+---+-------------------+-----------------+-----+\n",
      "|AMBICAAGAR|    EQ|27.9| 27.9|27.2| 27.2|27.2|     28.6|    25187| 686620.2|2022-03-07 00:00:00|        242|INE792B01012|2022|   03| 07|-0.6999999999999993| -2.5089605734767| null|\n",
      "|AMBICAAGAR|    EQ|26.4|27.45|26.2| 26.9|26.9|     27.2|    39877|1062675.5|2022-03-08 00:00:00|        517|INE792B01012|2022|   03| 08|                0.5|1.893939393939394|25187|\n",
      "+----------+------+----+-----+----+-----+----+---------+---------+---------+-------------------+-----------+------------+----+-----+---+-------------------+-----------------+-----+\n",
      "only showing top 2 rows\n",
      "\n"
     ]
    },
    {
     "name": "stderr",
     "output_type": "stream",
     "text": [
      "                                                                                \r"
     ]
    }
   ],
   "source": [
    "from pyspark.sql.window import Window\n",
    "from pyspark.sql.functions import lag\n",
    "\n",
    "windowSpec = Window.partitionBy('SYMBOL').orderBy('TOTTRDQTY')\n",
    "\n",
    "stockDf = stockDf.withColumn('LAG', lag('TOTTRDQTY').over(windowSpec))\n",
    "\n",
    "\n",
    "stockDf.printSchema()\n",
    "stockDf.show(2)      "
   ]
  },
  {
   "cell_type": "code",
   "execution_count": 10,
   "id": "0e12f691-7bda-4521-9904-81b288846b2e",
   "metadata": {},
   "outputs": [
    {
     "name": "stdout",
     "output_type": "stream",
     "text": [
      "root\n",
      " |-- SYMBOL: string (nullable = true)\n",
      " |-- SERIES: string (nullable = true)\n",
      " |-- OPEN: double (nullable = true)\n",
      " |-- HIGH: double (nullable = true)\n",
      " |-- LOW: double (nullable = true)\n",
      " |-- CLOSE: double (nullable = true)\n",
      " |-- LAST: double (nullable = true)\n",
      " |-- PREVCLOSE: double (nullable = true)\n",
      " |-- TOTTRDQTY: integer (nullable = true)\n",
      " |-- TOTTRDVAL: double (nullable = true)\n",
      " |-- TIMESTAMP: timestamp (nullable = true)\n",
      " |-- TOTALTRADES: integer (nullable = true)\n",
      " |-- ISIN: string (nullable = true)\n",
      " |-- YEAR: string (nullable = true)\n",
      " |-- MONTH: string (nullable = true)\n",
      " |-- DAY: string (nullable = true)\n",
      " |-- PRICEGAIN: double (nullable = true)\n",
      " |-- PRICEGAINP: double (nullable = true)\n",
      " |-- LAG: integer (nullable = true)\n",
      " |-- VOLUMEGAIN: integer (nullable = true)\n",
      " |-- VOLUMEGAINP: double (nullable = true)\n",
      "\n",
      "+----------+------+-----+-----+-----+-----+-----+---------+---------+----------+-------------------+-----------+------------+----+-----+---+-------------------+------------------+-----+----------+------------------+\n",
      "|    SYMBOL|SERIES| OPEN| HIGH|  LOW|CLOSE| LAST|PREVCLOSE|TOTTRDQTY| TOTTRDVAL|          TIMESTAMP|TOTALTRADES|        ISIN|YEAR|MONTH|DAY|          PRICEGAIN|        PRICEGAINP|  LAG|VOLUMEGAIN|       VOLUMEGAINP|\n",
      "+----------+------+-----+-----+-----+-----+-----+---------+---------+----------+-------------------+-----------+------------+----+-----+---+-------------------+------------------+-----+----------+------------------+\n",
      "|AMBICAAGAR|    EQ| 27.9| 27.9| 27.2| 27.2| 27.2|     28.6|    25187|  686620.2|2022-03-07 00:00:00|        242|INE792B01012|2022|   03| 07|-0.6999999999999993|  -2.5089605734767| null|      null|              null|\n",
      "|AMBICAAGAR|    EQ| 26.4|27.45| 26.2| 26.9| 26.9|     27.2|    39877| 1062675.5|2022-03-08 00:00:00|        517|INE792B01012|2022|   03| 08|                0.5| 1.893939393939394|25187|     14690| 58.32373843649502|\n",
      "|AMBICAAGAR|    EQ| 30.4|30.45|28.45| 28.6|28.75|     29.9|    54456|1578917.65|2022-03-04 00:00:00|        458|INE792B01012|2022|   03| 04|-1.7999999999999972|-5.921052631578938|39877|     14579| 36.55992175941019|\n",
      "|AMBICAAGAR|    EQ|27.65| 28.2| 26.3| 28.2| 28.2|     26.9|    57730| 1603035.7|2022-02-28 00:00:00|        456|INE792B01012|2022|   02| 28| 0.5500000000000007| 1.989150090415916|54456|      3274| 6.012193330395181|\n",
      "|AMBICAAGAR|    EQ|25.85| 28.3|25.25| 28.3| 28.3|    25.75|    59810| 1641541.4|2022-02-23 00:00:00|        327|INE792B01012|2022|   02| 23| 2.4499999999999993|  9.47775628626692|57730|      2080|3.6029793868006235|\n",
      "+----------+------+-----+-----+-----+-----+-----+---------+---------+----------+-------------------+-----------+------------+----+-----+---+-------------------+------------------+-----+----------+------------------+\n",
      "only showing top 5 rows\n",
      "\n"
     ]
    }
   ],
   "source": [
    "from pyspark.sql.functions import col\n",
    "\n",
    "stockDf = stockDf.withColumn('VOLUMEGAIN', col('TOTTRDQTY') -col('LAG'))\\\n",
    "                .withColumn('VOLUMEGAINP', (col('VOLUMEGAIN') / col('LAG')) *100)\n",
    "\n",
    "\n",
    "stockDf.printSchema()\n",
    "stockDf.show(5)"
   ]
  },
  {
   "cell_type": "code",
   "execution_count": 12,
   "id": "4805adce-58ed-4c67-bbd9-447388a78624",
   "metadata": {},
   "outputs": [
    {
     "name": "stdout",
     "output_type": "stream",
     "text": [
      "root\n",
      " |-- SYMBOL: string (nullable = true)\n",
      " |-- SERIES: string (nullable = true)\n",
      " |-- OPEN: double (nullable = true)\n",
      " |-- HIGH: double (nullable = true)\n",
      " |-- LOW: double (nullable = true)\n",
      " |-- CLOSE: double (nullable = true)\n",
      " |-- LAST: double (nullable = true)\n",
      " |-- PREVCLOSE: double (nullable = true)\n",
      " |-- TOTTRDQTY: integer (nullable = true)\n",
      " |-- TOTTRDVAL: double (nullable = true)\n",
      " |-- TIMESTAMP: timestamp (nullable = true)\n",
      " |-- TOTALTRADES: integer (nullable = true)\n",
      " |-- ISIN: string (nullable = true)\n",
      " |-- YEAR: string (nullable = true)\n",
      " |-- MONTH: string (nullable = true)\n",
      " |-- DAY: string (nullable = true)\n",
      " |-- PRICEGAIN: double (nullable = true)\n",
      " |-- PRICEGAINP: double (nullable = true)\n",
      " |-- LAG: integer (nullable = true)\n",
      " |-- VOLUMEGAIN: integer (nullable = true)\n",
      " |-- VOLUMEGAINP: double (nullable = true)\n",
      "\n"
     ]
    },
    {
     "name": "stderr",
     "output_type": "stream",
     "text": [
      "[Stage 13:==============================================>       (171 + 1) / 200]\r"
     ]
    },
    {
     "name": "stdout",
     "output_type": "stream",
     "text": [
      "+----------+------+-----+-----+-----+-----+-----+---------+---------+---------+-------------------+-----------+------------+----+-----+---+-------------------+-----------------+----+----------+-----------+\n",
      "|    SYMBOL|SERIES| OPEN| HIGH|  LOW|CLOSE| LAST|PREVCLOSE|TOTTRDQTY|TOTTRDVAL|          TIMESTAMP|TOTALTRADES|        ISIN|YEAR|MONTH|DAY|          PRICEGAIN|       PRICEGAINP| LAG|VOLUMEGAIN|VOLUMEGAINP|\n",
      "+----------+------+-----+-----+-----+-----+-----+---------+---------+---------+-------------------+-----------+------------+----+-----+---+-------------------+-----------------+----+----------+-----------+\n",
      "|  ATNINTER|    BE| 0.15|  0.2| 0.15|  0.2|  0.2|      0.2|    49980|   8507.0|2022-03-07 00:00:00|         31|INE803A01027|2022|   03| 07|0.05000000000000002|33.33333333333335|null|      null|       null|\n",
      "|SREIBNPNCD|    NP|125.0|165.0|125.0|165.0|165.0|    155.0|      165|  21225.0|2022-02-25 00:00:00|          4|INE881J08581|2022|   02| 25|               40.0|             32.0| 165|         0|        0.0|\n",
      "+----------+------+-----+-----+-----+-----+-----+---------+---------+---------+-------------------+-----------+------------+----+-----+---+-------------------+-----------------+----+----------+-----------+\n",
      "only showing top 2 rows\n",
      "\n"
     ]
    },
    {
     "name": "stderr",
     "output_type": "stream",
     "text": [
      "                                                                                \r"
     ]
    }
   ],
   "source": [
    "from pyspark.sql.functions import desc\n",
    "\n",
    "stockDf = stockDf.sort(col('PRICEGAINP').desc())\n",
    "\n",
    "stockDf.printSchema()\n",
    "stockDf.show(2)                    "
   ]
  },
  {
   "cell_type": "code",
   "execution_count": 19,
   "id": "1beb0992-b63e-41ee-a9c0-f6f6ee9bb2bd",
   "metadata": {},
   "outputs": [
    {
     "name": "stderr",
     "output_type": "stream",
     "text": [
      "[Stage 17:===================================================>  (192 + 2) / 200]\r"
     ]
    },
    {
     "name": "stdout",
     "output_type": "stream",
     "text": [
      "+---+-----+----+----------+-------------------+------------------+----------+------------------+\n",
      "|DAY|MONTH|YEAR|    SYMBOL|          PRICEGAIN|        PRICEGAINP|VOLUMEGAIN|       VOLUMEGAINP|\n",
      "+---+-----+----+----------+-------------------+------------------+----------+------------------+\n",
      "| 07|   03|2022|  ATNINTER|0.05000000000000002| 33.33333333333335|      null|              null|\n",
      "| 25|   02|2022|SREIBNPNCD|               40.0|              32.0|         0|               0.0|\n",
      "| 25|   02|2022|      RHFL|  67.69999999999999|28.771780705482357|        31| 6.042884990253411|\n",
      "| 28|   02|2022|    FELDVR| 2.3499999999999996| 22.59615384615384|      7389|3.6315828275133315|\n",
      "| 28|   02|2022|  MODISNME| 13.399999999999999|22.558922558922557|      3378|  5.72658845866956|\n",
      "| 22|   02|2022|  STEELCAS|  53.30000000000001| 22.39495798319328|       284| 8.234270803131343|\n",
      "| 25|   02|2022|  FILDF2GP|0.21999999999999997| 22.22222222222222|      1835| 176.1036468330134|\n",
      "| 02|   03|2022|KOTHARIPRO|  19.35000000000001| 21.96367763904655|     74480| 145.5426583812092|\n",
      "| 24|   02|2022|  ATALREAL|  24.05000000000001|21.666666666666675|      1600|             100.0|\n",
      "| 23|   02|2022|  VAISHALI|  9.350000000000001|20.085929108485505|     90840| 6.078388731828903|\n",
      "| 07|   03|2022|IBULHSGFIN|              163.0|19.662243667068758|         3| 8.108108108108109|\n",
      "| 08|   03|2022| UNITEDTEA|  58.89999999999998|19.633333333333326|      5951|184.69894475481067|\n",
      "| 22|   02|2022|     KIOCL|  40.35000000000002| 19.38040345821327|    160282|27.915668840838435|\n",
      "| 03|   03|2022| OSIAHYPER|               40.5|19.194312796208532|         0|               0.0|\n",
      "| 25|   02|2022|       MCL|  4.400000000000002| 18.96551724137932|     76553| 94.83888551642117|\n",
      "| 03|   03|2022|  STCINDIA|              17.25|             18.75|    464798| 392.8512263975523|\n",
      "| 08|   03|2022| MAWANASUG| 22.450000000000003|18.584437086092716|   2306398|115.82489654895343|\n",
      "| 23|   02|2022|GANGESSECU| 18.650000000000006|18.557213930348265|    113554|45.379125138870016|\n",
      "| 28|   02|2022|   MAANALU|               21.5|18.399657680787335|    101886|   39.249420230675|\n",
      "| 23|   02|2022|      DSSL| 32.150000000000006|18.371428571428574|     62587|32.503440575420015|\n",
      "+---+-----+----+----------+-------------------+------------------+----------+------------------+\n",
      "only showing top 20 rows\n",
      "\n"
     ]
    },
    {
     "name": "stderr",
     "output_type": "stream",
     "text": [
      "                                                                                \r"
     ]
    }
   ],
   "source": [
    "updatedDf = stockDf.select(stockDf.DAY,\"MONTH\", \"YEAR\", \"SYMBOL\", \"PRICEGAIN\", \"PRICEGAINP\", \"VOLUMEGAIN\", \"VOLUMEGAINP\")\\\n",
    "                    .sort(desc('PRICEGAINP'))\n",
    "\n",
    "updatedDf.show()"
   ]
  },
  {
   "cell_type": "code",
   "execution_count": 20,
   "id": "468223cb-8369-4368-9595-4615d7d76190",
   "metadata": {},
   "outputs": [
    {
     "name": "stderr",
     "output_type": "stream",
     "text": [
      "                                                                                \r"
     ]
    }
   ],
   "source": [
    "updatedDf.write.mode(\"overwrite\")\\\n",
    "                .json(\"hdfs://localhost:9000/stockupdated-json\")"
   ]
  },
  {
   "cell_type": "code",
   "execution_count": 21,
   "id": "4c42bf24-fafb-4a7a-9ddc-ab756ec3bb78",
   "metadata": {},
   "outputs": [
    {
     "name": "stderr",
     "output_type": "stream",
     "text": [
      "                                                                                \r"
     ]
    }
   ],
   "source": [
    "updatedDf.write.mode(\"overwrite\")\\\n",
    "                .parquet(\"hdfs://localhost:9000/stockupdated-parquet\")"
   ]
  },
  {
   "cell_type": "code",
   "execution_count": 22,
   "id": "f4a538d4-f71d-4655-b3a4-5857ccee95b9",
   "metadata": {},
   "outputs": [
    {
     "name": "stderr",
     "output_type": "stream",
     "text": [
      "                                                                                \r"
     ]
    }
   ],
   "source": [
    "updatedDf.write.mode(\"overwrite\")\\\n",
    "                .orc(\"hdfs://localhost:9000/stockupdated-orc\")"
   ]
  },
  {
   "cell_type": "code",
   "execution_count": 23,
   "id": "a72b2427-d227-41b6-8fc9-dd1b3436265f",
   "metadata": {},
   "outputs": [
    {
     "name": "stderr",
     "output_type": "stream",
     "text": [
      "                                                                                \r"
     ]
    }
   ],
   "source": [
    "updatedDf.write.mode(\"overwrite\")\\\n",
    "                .csv(\"hdfs://localhost:9000/stockupdated-csv\")"
   ]
  },
  {
   "cell_type": "code",
   "execution_count": 24,
   "id": "ada68bcf-d8b2-475b-885c-e4d01b0706f3",
   "metadata": {},
   "outputs": [
    {
     "name": "stdout",
     "output_type": "stream",
     "text": [
      "root\n",
      " |-- DAY: string (nullable = true)\n",
      " |-- MONTH: string (nullable = true)\n",
      " |-- YEAR: string (nullable = true)\n",
      " |-- SYMBOL: string (nullable = true)\n",
      " |-- PRICEGAIN: double (nullable = true)\n",
      " |-- PRICEGAINP: double (nullable = true)\n",
      " |-- VOLUMEGAIN: integer (nullable = true)\n",
      " |-- VOLUMEGAINP: double (nullable = true)\n",
      "\n",
      "+---+-----+----+------+--------------------+--------------------+----------+-----------------+\n",
      "|DAY|MONTH|YEAR|SYMBOL|           PRICEGAIN|          PRICEGAINP|VOLUMEGAIN|      VOLUMEGAINP|\n",
      "+---+-----+----+------+--------------------+--------------------+----------+-----------------+\n",
      "| 08|   03|2022|  ISEC|0.049999999999954525|0.008347245409007433|     62097|31.33600787222769|\n",
      "| 03|   03|2022|  NHAI| 0.09999999999990905| 0.00796876245118408|        46|29.11392405063291|\n",
      "+---+-----+----+------+--------------------+--------------------+----------+-----------------+\n",
      "only showing top 2 rows\n",
      "\n"
     ]
    }
   ],
   "source": [
    "stockparquetDf = spark.read.format(\"parquet\")\\\n",
    "                .load(\"hdfs://localhost:9000/stockupdated-parquet\")\n",
    "\n",
    "stockparquetDf.printSchema()\n",
    "stockparquetDf.show(2)"
   ]
  },
  {
   "cell_type": "markdown",
   "id": "f385bfe9-4157-4033-b712-47d86221686e",
   "metadata": {},
   "source": [
    "**3. Use the Intraday 1 Min data from parquet format, calculate Gain, GainP for every hourly window for each stock. The possible column output should be,\n",
    "“SYMBOL”, “DATEFROM”, “DATETO”, “GAINP” where are DATEFROM and DATETO are timestamp/date columns example, DATEFROM from Feb 01, 2022 10:00 AM to Feb 01, 2022 11:00**"
   ]
  },
  {
   "cell_type": "code",
   "execution_count": 20,
   "id": "5c44aef4-b0db-4b2c-87f7-ebb8852b6e22",
   "metadata": {},
   "outputs": [
    {
     "name": "stdout",
     "output_type": "stream",
     "text": [
      "root\n",
      " |-- Symbol: string (nullable = true)\n",
      " |-- Open: double (nullable = true)\n",
      " |-- High: double (nullable = true)\n",
      " |-- Low: double (nullable = true)\n",
      " |-- Close: double (nullable = true)\n",
      " |-- Volume: long (nullable = true)\n",
      " |-- OI: long (nullable = true)\n",
      " |-- DateTime: timestamp (nullable = true)\n",
      "\n",
      "+-------+------+------+-----+------+------+---------+-------------------+\n",
      "| Symbol|  Open|  High|  Low| Close|Volume|       OI|           DateTime|\n",
      "+-------+------+------+-----+------+------+---------+-------------------+\n",
      "| ITC_F1|225.55| 226.0|224.7| 225.0|124800|176377600|2022-02-10 09:16:00|\n",
      "|ZEEL_F1|270.55|270.75|270.4|270.65| 33000| 71523000|2022-02-10 09:16:00|\n",
      "| ITC_F1| 225.0|225.25|225.0|225.25| 54400|176377600|2022-02-10 09:17:00|\n",
      "|ZEEL_F1| 270.6| 270.6|270.0|270.25| 21000| 71523000|2022-02-10 09:17:00|\n",
      "| ITC_F1| 225.5|225.55|225.5|225.55|131200|176448000|2022-02-10 09:18:00|\n",
      "+-------+------+------+-----+------+------+---------+-------------------+\n",
      "only showing top 5 rows\n",
      "\n"
     ]
    }
   ],
   "source": [
    "dailyDf = spark.read.format(\"parquet\")\\\n",
    "                .option(\"header\", True)\\\n",
    "                .option(\"inferSchema\", True)\\\n",
    "                .option(\"timestampFormat\", \"dd-MMM-yyyy\")\\\n",
    "                .load(\"hdfs://localhost:9000/intraday/Year=2022/Month=02/Day=10\")\n",
    "\n",
    "dailyDf.printSchema()\n",
    "dailyDf.show(5)"
   ]
  },
  {
   "cell_type": "code",
   "execution_count": 14,
   "id": "3e902d7b-5182-4ed3-95e3-d3a86f798ee5",
   "metadata": {},
   "outputs": [
    {
     "data": {
      "text/plain": [
       "<pyspark.sql.group.GroupedData at 0x7fd64c5cd710>"
      ]
     },
     "execution_count": 14,
     "metadata": {},
     "output_type": "execute_result"
    }
   ],
   "source": [
    "dailyDf.groupBy(\"Symbol\", F.window(dailyDf.DateTime, \"60 minutes\", \"60 minutes\"))"
   ]
  },
  {
   "cell_type": "code",
   "execution_count": 15,
   "id": "9f6c60e3-3a21-41a0-a19f-0925b132d26f",
   "metadata": {},
   "outputs": [
    {
     "name": "stdout",
     "output_type": "stream",
     "text": [
      "+-------+------+------+------+------+------+---------+-------------------+\n",
      "| Symbol|  Open|  High|   Low| Close|Volume|       OI|           DateTime|\n",
      "+-------+------+------+------+------+------+---------+-------------------+\n",
      "| ITC_F1|225.55| 226.0| 224.7| 225.0|124800|176377600|2022-02-10 09:16:00|\n",
      "|ZEEL_F1|270.55|270.75| 270.4|270.65| 33000| 71523000|2022-02-10 09:16:00|\n",
      "| ITC_F1| 225.0|225.25| 225.0|225.25| 54400|176377600|2022-02-10 09:17:00|\n",
      "|ZEEL_F1| 270.6| 270.6| 270.0|270.25| 21000| 71523000|2022-02-10 09:17:00|\n",
      "| ITC_F1| 225.5|225.55| 225.5|225.55|131200|176448000|2022-02-10 09:18:00|\n",
      "|ZEEL_F1| 269.0|269.05| 267.8| 267.8| 36000| 71529000|2022-02-10 09:18:00|\n",
      "| ITC_F1| 225.4| 225.4| 225.3| 225.3| 64000|176448000|2022-02-10 09:19:00|\n",
      "|ZEEL_F1| 268.2|268.85| 268.2| 268.5| 51000| 71529000|2022-02-10 09:19:00|\n",
      "| ITC_F1| 225.3|225.35| 225.3| 225.3| 19200|176448000|2022-02-10 09:20:00|\n",
      "|ZEEL_F1| 268.5| 268.5| 267.9| 267.9| 63000| 71529000|2022-02-10 09:20:00|\n",
      "| ITC_F1| 225.3|225.45| 225.3|225.45| 76800|176460800|2022-02-10 09:21:00|\n",
      "|ZEEL_F1| 267.8|268.35|267.65|267.75| 45000| 71559000|2022-02-10 09:21:00|\n",
      "| ITC_F1| 225.4|225.45| 225.2| 225.2| 76800|176460800|2022-02-10 09:22:00|\n",
      "|ZEEL_F1| 267.7| 267.7| 267.1|267.25| 51000| 71559000|2022-02-10 09:22:00|\n",
      "| ITC_F1| 225.2|225.25| 225.2|225.25| 44800|176460800|2022-02-10 09:23:00|\n",
      "|ZEEL_F1| 267.2| 267.9| 267.1| 267.6|102000| 71559000|2022-02-10 09:23:00|\n",
      "| ITC_F1| 225.4|225.55| 225.3|225.55|102400|176460800|2022-02-10 09:24:00|\n",
      "|ZEEL_F1| 267.5|267.65| 266.2|267.65| 60000| 71559000|2022-02-10 09:24:00|\n",
      "| ITC_F1|225.75|226.05|225.65|225.65|211200|176483200|2022-02-10 09:25:00|\n",
      "|ZEEL_F1| 267.7|267.75| 267.5|267.65| 48000| 71610000|2022-02-10 09:25:00|\n",
      "+-------+------+------+------+------+------+---------+-------------------+\n",
      "only showing top 20 rows\n",
      "\n"
     ]
    }
   ],
   "source": [
    "dailyDf.show()"
   ]
  },
  {
   "cell_type": "code",
   "execution_count": 16,
   "id": "954e1dfc-6532-495b-b022-67f97af4b185",
   "metadata": {
    "tags": []
   },
   "outputs": [
    {
     "name": "stdout",
     "output_type": "stream",
     "text": [
      "root\n",
      " |-- Symbol: string (nullable = true)\n",
      " |-- Open: double (nullable = true)\n",
      " |-- High: double (nullable = true)\n",
      " |-- Low: double (nullable = true)\n",
      " |-- Close: double (nullable = true)\n",
      " |-- Volume: long (nullable = true)\n",
      " |-- OI: long (nullable = true)\n",
      " |-- DATETO: timestamp (nullable = true)\n",
      " |-- DATEFROM: timestamp (nullable = true)\n",
      " |-- GAIN: double (nullable = true)\n",
      " |-- GAINP: double (nullable = true)\n",
      "\n",
      "+-------+-------+-------+-------+-------+------+-----+-------------------+-------------------+----+-----+\n",
      "| Symbol|   Open|   High|    Low|  Close|Volume|   OI|             DATETO|           DATEFROM|GAIN|GAINP|\n",
      "+-------+-------+-------+-------+-------+------+-----+-------------------+-------------------+----+-----+\n",
      "|GOLD_F1|48743.0|48743.0|48743.0|48743.0|     1|11485|2022-02-10 00:00:00|               null| 0.0|  0.0|\n",
      "|GOLD_F1|48737.0|48737.0|48737.0|48737.0|     1|11485|2022-02-10 00:02:00|2022-02-10 00:00:00| 0.0|  0.0|\n",
      "|GOLD_F1|48743.0|48743.0|48743.0|48743.0|     1|11486|2022-02-10 00:04:00|2022-02-10 00:02:00| 0.0|  0.0|\n",
      "|GOLD_F1|48748.0|48748.0|48748.0|48748.0|     1|11487|2022-02-10 00:07:00|2022-02-10 00:04:00| 0.0|  0.0|\n",
      "|GOLD_F1|48740.0|48740.0|48740.0|48740.0|     1|11487|2022-02-10 00:08:00|2022-02-10 00:07:00| 0.0|  0.0|\n",
      "+-------+-------+-------+-------+-------+------+-----+-------------------+-------------------+----+-----+\n",
      "only showing top 5 rows\n",
      "\n"
     ]
    }
   ],
   "source": [
    "from pyspark.sql.window import Window\n",
    "from pyspark.sql.functions import lag\n",
    "\n",
    "windowSpec = Window.partitionBy('Symbol').orderBy('DateTime')\n",
    "\n",
    "dailyDf = dailyDf.withColumn('DATEFROM', lag('DateTime').over(windowSpec))\\\n",
    "                .withColumnRenamed(\"DateTime\", \"DATETO\")\\\n",
    "                .withColumn('GAIN', col('Close') -col('Open'))\\\n",
    "                .withColumn('GAINP', (col('GAIN') / col('Open')) *100)\n",
    "\n",
    "\n",
    "dailyDf.printSchema()\n",
    "dailyDf.show(5)"
   ]
  },
  {
   "cell_type": "code",
   "execution_count": 17,
   "id": "d8af5a5a-bdb6-4663-bcbe-99711066f667",
   "metadata": {},
   "outputs": [
    {
     "name": "stdout",
     "output_type": "stream",
     "text": [
      "+-------+-------------------+-------------------+--------------------+\n",
      "| Symbol|           DATEFROM|             DATETO|               GAINP|\n",
      "+-------+-------------------+-------------------+--------------------+\n",
      "|GOLD_F1|               null|2022-02-10 00:00:00|                 0.0|\n",
      "|GOLD_F1|2022-02-10 00:00:00|2022-02-10 00:02:00|                 0.0|\n",
      "|GOLD_F1|2022-02-10 00:02:00|2022-02-10 00:04:00|                 0.0|\n",
      "|GOLD_F1|2022-02-10 00:04:00|2022-02-10 00:07:00|                 0.0|\n",
      "|GOLD_F1|2022-02-10 00:07:00|2022-02-10 00:08:00|                 0.0|\n",
      "|GOLD_F1|2022-02-10 00:08:00|2022-02-10 00:09:00|                 0.0|\n",
      "|GOLD_F1|2022-02-10 00:09:00|2022-02-10 00:13:00|                 0.0|\n",
      "|GOLD_F1|2022-02-10 00:13:00|2022-02-10 00:14:00|0.004103574213139644|\n",
      "|GOLD_F1|2022-02-10 00:14:00|2022-02-10 00:16:00|0.014363393864778905|\n",
      "|GOLD_F1|2022-02-10 00:16:00|2022-02-10 00:17:00| 0.03076923076923077|\n",
      "|GOLD_F1|2022-02-10 00:17:00|2022-02-10 00:18:00|0.008201763379126512|\n",
      "|GOLD_F1|2022-02-10 00:18:00|2022-02-10 00:19:00|-0.04715723863613...|\n",
      "|GOLD_F1|2022-02-10 00:19:00|2022-02-10 00:20:00|0.006152710268873438|\n",
      "|GOLD_F1|2022-02-10 00:20:00|2022-02-10 00:21:00|-0.02666119770303...|\n",
      "|GOLD_F1|2022-02-10 00:21:00|2022-02-10 00:23:00| 0.01640823693494134|\n",
      "|GOLD_F1|2022-02-10 00:23:00|2022-02-10 00:27:00|                 0.0|\n",
      "|GOLD_F1|2022-02-10 00:27:00|2022-02-10 00:28:00|                 0.0|\n",
      "|GOLD_F1|2022-02-10 00:28:00|2022-02-10 00:29:00|-0.01025725187707...|\n",
      "|GOLD_F1|2022-02-10 00:29:00|2022-02-10 00:31:00|0.010257462303826032|\n",
      "|GOLD_F1|2022-02-10 00:31:00|2022-02-10 00:32:00|                 0.0|\n",
      "+-------+-------------------+-------------------+--------------------+\n",
      "only showing top 20 rows\n",
      "\n"
     ]
    }
   ],
   "source": [
    "import pyspark.sql.functions as F\n",
    "from pyspark.sql.functions import col\n",
    "\n",
    "HourDailyDf = dailyDf.select(dailyDf.Symbol, \"DATEFROM\", \"DATETO\" , \"GAINP\")\n",
    "\n",
    "\n",
    "#HourDailyDf.printSchema()\n",
    "HourDailyDf.show()"
   ]
  },
  {
   "cell_type": "code",
   "execution_count": null,
   "id": "7e897650-99e2-4b17-b9e1-b4666a1c03bc",
   "metadata": {},
   "outputs": [],
   "source": []
  }
 ],
 "metadata": {
  "kernelspec": {
   "display_name": "Python 3 (ipykernel)",
   "language": "python",
   "name": "python3"
  },
  "language_info": {
   "codemirror_mode": {
    "name": "ipython",
    "version": 3
   },
   "file_extension": ".py",
   "mimetype": "text/x-python",
   "name": "python",
   "nbconvert_exporter": "python",
   "pygments_lexer": "ipython3",
   "version": "3.7.12"
  }
 },
 "nbformat": 4,
 "nbformat_minor": 5
}
