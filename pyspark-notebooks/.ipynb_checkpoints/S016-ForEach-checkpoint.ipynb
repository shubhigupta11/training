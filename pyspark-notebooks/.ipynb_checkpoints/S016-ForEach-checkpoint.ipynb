{
 "cells": [
  {
   "cell_type": "code",
   "execution_count": 2,
   "id": "58d1059c-92d5-4919-a27d-bf6555c21fab",
   "metadata": {},
   "outputs": [],
   "source": [
    "import findspark\n",
    "findspark.init()"
   ]
  },
  {
   "cell_type": "code",
   "execution_count": 3,
   "id": "52609080-6f04-43e8-be72-6d3ed847708d",
   "metadata": {},
   "outputs": [
    {
     "name": "stderr",
     "output_type": "stream",
     "text": [
      "22/03/02 22:02:19 WARN Utils: Your hostname, ubuntu-virtual-machine resolves to a loopback address: 127.0.1.1; using 192.168.80.128 instead (on interface ens33)\n",
      "22/03/02 22:02:19 WARN Utils: Set SPARK_LOCAL_IP if you need to bind to another address\n",
      "22/03/02 22:02:19 WARN NativeCodeLoader: Unable to load native-hadoop library for your platform... using builtin-java classes where applicable\n",
      "Using Spark's default log4j profile: org/apache/spark/log4j-defaults.properties\n",
      "Setting default log level to \"WARN\".\n",
      "To adjust logging level use sc.setLogLevel(newLevel). For SparkR, use setLogLevel(newLevel).\n",
      "22/03/02 22:02:21 WARN Utils: Service 'SparkUI' could not bind on port 4040. Attempting port 4041.\n",
      "22/03/02 22:02:21 WARN Utils: Service 'SparkUI' could not bind on port 4041. Attempting port 4042.\n",
      "22/03/02 22:02:21 WARN Utils: Service 'SparkUI' could not bind on port 4042. Attempting port 4043.\n",
      "22/03/02 22:02:21 WARN Utils: Service 'SparkUI' could not bind on port 4043. Attempting port 4044.\n"
     ]
    }
   ],
   "source": [
    "from pyspark import SparkContext\n",
    "sc = SparkContext(\"local\", \"ForEach\")"
   ]
  },
  {
   "cell_type": "code",
   "execution_count": 6,
   "id": "247068f1-e2a7-473f-9a19-cdf253c0e59b",
   "metadata": {},
   "outputs": [
    {
     "name": "stderr",
     "output_type": "stream",
     "text": [
      "[Stage 0:>                                                          (0 + 1) / 2]acc 0 value 200 output 200\n",
      "acc 0 value 50 output 50\n",
      "[Stage 0:>                                                          (0 + 2) / 2]acc 0 value 20 output 20\n",
      "acc 0 value 100 output 100\n",
      "acc 0 value 25 output 25\n",
      "acc 200 value 100 output 300\n",
      "acc 50 value 25 output 75\n",
      "                                                                                \r"
     ]
    },
    {
     "data": {
      "text/plain": [
       "[('INFY', 300), ('EMR', 20), ('TSLA', 75)]"
      ]
     },
     "execution_count": 6,
     "metadata": {},
     "output_type": "execute_result"
    }
   ],
   "source": [
    "orders = [\n",
    "    # symbol, qty\n",
    "    ('INFY', 200),\n",
    "    ('TSLA', 50),\n",
    "    ('EMR', 20),\n",
    "    ('INFY', 100),\n",
    "    ('TSLA', 25)\n",
    "]\n",
    "\n",
    "def add(acc, value):\n",
    "    output = acc + value\n",
    "    print(\"acc\", acc, \"value\", value, \"output\", output)\n",
    "    return output\n",
    "\n",
    "orderRdd = sc.parallelize(orders, 2)\n",
    "resultRdd = orderRdd.foldByKey(0, add)\n",
    "resultRdd.collect()"
   ]
  },
  {
   "cell_type": "code",
   "execution_count": 7,
   "id": "4e9b5740-5a63-482c-87f9-a89bdc4fddde",
   "metadata": {},
   "outputs": [
    {
     "name": "stderr",
     "output_type": "stream",
     "text": [
      "acc 200 value 100 output 300\n",
      "Saving  ('INFY', 300)  to db \n",
      "Saving  ('EMR', 20)  to db \n",
      "acc 50 value 25 output 75\n",
      "Saving  ('TSLA', 75)  to db \n"
     ]
    }
   ],
   "source": [
    "def updateDB(stock):\n",
    "    #Todo, update, insert, delete record\n",
    "    print(\"Saving \", str(stock), \" to db \")\n",
    "    \n",
    "# foreach is ACTION method\n",
    "resultRdd.foreach(updateDB)"
   ]
  },
  {
   "cell_type": "code",
   "execution_count": 8,
   "id": "f9169374-9035-4d90-93ae-1602c5726fb1",
   "metadata": {},
   "outputs": [
    {
     "name": "stderr",
     "output_type": "stream",
     "text": [
      "acc 200 value 100 output 300\n",
      "Process data called \n",
      "Processing  ('INFY', 300)\n",
      "Processing  ('EMR', 20)\n",
      "------------------------------\n",
      "acc 50 value 25 output 75\n",
      "Process data called \n",
      "Processing  ('TSLA', 75)\n",
      "------------------------------\n"
     ]
    }
   ],
   "source": [
    "def processData(iterator):\n",
    "    print(\"Process data called \")\n",
    "    for record in iterator:\n",
    "        print (\"Processing \", str(record))\n",
    "        \n",
    "    print ('-' * 30)\n",
    "# Action method\n",
    "resultRdd.foreachPartition(processData)"
   ]
  },
  {
   "cell_type": "code",
   "execution_count": null,
   "id": "20f8ed28-c88a-476c-87fd-39fd003231ca",
   "metadata": {},
   "outputs": [],
   "source": []
  }
 ],
 "metadata": {
  "kernelspec": {
   "display_name": "Python 3 (ipykernel)",
   "language": "python",
   "name": "python3"
  },
  "language_info": {
   "codemirror_mode": {
    "name": "ipython",
    "version": 3
   },
   "file_extension": ".py",
   "mimetype": "text/x-python",
   "name": "python",
   "nbconvert_exporter": "python",
   "pygments_lexer": "ipython3",
   "version": "3.7.12"
  }
 },
 "nbformat": 4,
 "nbformat_minor": 5
}
