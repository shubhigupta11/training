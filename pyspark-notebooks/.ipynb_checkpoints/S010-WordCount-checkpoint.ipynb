{
 "cells": [
  {
   "cell_type": "code",
   "execution_count": 1,
   "id": "8a38ced7-4bbc-4881-8a5e-3c9229d4105b",
   "metadata": {},
   "outputs": [],
   "source": [
    "import findspark\n",
    "findspark.init()"
   ]
  },
  {
   "cell_type": "code",
   "execution_count": 2,
   "id": "bb170153-942f-42cd-a157-e8373ca0895a",
   "metadata": {},
   "outputs": [
    {
     "name": "stderr",
     "output_type": "stream",
     "text": [
      "22/03/27 23:00:08 WARN Utils: Your hostname, ubuntu-virtual-machine resolves to a loopback address: 127.0.1.1; using 192.168.80.128 instead (on interface ens33)\n",
      "22/03/27 23:00:08 WARN Utils: Set SPARK_LOCAL_IP if you need to bind to another address\n"
     ]
    },
    {
     "name": "stdout",
     "output_type": "stream",
     "text": [
      ":: loading settings :: url = jar:file:/opt/spark-3.1.3-bin-hadoop2.7/jars/ivy-2.4.0.jar!/org/apache/ivy/core/settings/ivysettings.xml\n"
     ]
    },
    {
     "name": "stderr",
     "output_type": "stream",
     "text": [
      "Ivy Default Cache set to: /home/ubuntu/.ivy2/cache\n",
      "The jars for the packages stored in: /home/ubuntu/.ivy2/jars\n",
      "org.apache.spark#spark-sql-kafka-0-10_2.12 added as a dependency\n",
      ":: resolving dependencies :: org.apache.spark#spark-submit-parent-63e34524-ec9c-4562-9278-13bffe70c6b5;1.0\n",
      "\tconfs: [default]\n",
      "\tfound org.apache.spark#spark-sql-kafka-0-10_2.12;3.1.3 in central\n",
      "\tfound org.apache.spark#spark-token-provider-kafka-0-10_2.12;3.1.3 in central\n",
      "\tfound org.apache.kafka#kafka-clients;2.6.0 in central\n",
      "\tfound com.github.luben#zstd-jni;1.4.8-1 in central\n",
      "\tfound org.lz4#lz4-java;1.7.1 in central\n",
      "\tfound org.xerial.snappy#snappy-java;1.1.8.2 in central\n",
      "\tfound org.slf4j#slf4j-api;1.7.30 in central\n",
      "\tfound org.spark-project.spark#unused;1.0.0 in central\n",
      "\tfound org.apache.commons#commons-pool2;2.6.2 in central\n",
      ":: resolution report :: resolve 577ms :: artifacts dl 14ms\n",
      "\t:: modules in use:\n",
      "\tcom.github.luben#zstd-jni;1.4.8-1 from central in [default]\n",
      "\torg.apache.commons#commons-pool2;2.6.2 from central in [default]\n",
      "\torg.apache.kafka#kafka-clients;2.6.0 from central in [default]\n",
      "\torg.apache.spark#spark-sql-kafka-0-10_2.12;3.1.3 from central in [default]\n",
      "\torg.apache.spark#spark-token-provider-kafka-0-10_2.12;3.1.3 from central in [default]\n",
      "\torg.lz4#lz4-java;1.7.1 from central in [default]\n",
      "\torg.slf4j#slf4j-api;1.7.30 from central in [default]\n",
      "\torg.spark-project.spark#unused;1.0.0 from central in [default]\n",
      "\torg.xerial.snappy#snappy-java;1.1.8.2 from central in [default]\n",
      "\t---------------------------------------------------------------------\n",
      "\t|                  |            modules            ||   artifacts   |\n",
      "\t|       conf       | number| search|dwnlded|evicted|| number|dwnlded|\n",
      "\t---------------------------------------------------------------------\n",
      "\t|      default     |   9   |   0   |   0   |   0   ||   9   |   0   |\n",
      "\t---------------------------------------------------------------------\n",
      ":: retrieving :: org.apache.spark#spark-submit-parent-63e34524-ec9c-4562-9278-13bffe70c6b5\n",
      "\tconfs: [default]\n",
      "\t0 artifacts copied, 9 already retrieved (0kB/11ms)\n",
      "22/03/27 23:00:09 WARN NativeCodeLoader: Unable to load native-hadoop library for your platform... using builtin-java classes where applicable\n",
      "Using Spark's default log4j profile: org/apache/spark/log4j-defaults.properties\n",
      "Setting default log level to \"WARN\".\n",
      "To adjust logging level use sc.setLogLevel(newLevel). For SparkR, use setLogLevel(newLevel).\n"
     ]
    }
   ],
   "source": [
    "from pyspark import SparkContext\n",
    "sc = SparkContext(\"local\", \"WordCount\")"
   ]
  },
  {
   "cell_type": "code",
   "execution_count": 3,
   "id": "40ed77b5-25f6-4a2c-b3b1-f50badfacfd3",
   "metadata": {},
   "outputs": [
    {
     "name": "stderr",
     "output_type": "stream",
     "text": [
      "                                                                                \r"
     ]
    },
    {
     "data": {
      "text/plain": [
       "6"
      ]
     },
     "execution_count": 3,
     "metadata": {},
     "output_type": "execute_result"
    }
   ],
   "source": [
    "fileRdd = sc.textFile(\"hdfs://localhost:9000/words.txt\")\n",
    "\n",
    "fileRdd.count()"
   ]
  },
  {
   "cell_type": "code",
   "execution_count": 4,
   "id": "339cadb4-6a85-4118-be32-0a53ab88189a",
   "metadata": {},
   "outputs": [
    {
     "data": {
      "text/plain": [
       "['   spark kafka  ',\n",
       " ' kafka   spark pyspark ',\n",
       " '                ',\n",
       " 'spark',\n",
       " '',\n",
       " 'APACHE Kafka APache SParK ']"
      ]
     },
     "execution_count": 4,
     "metadata": {},
     "output_type": "execute_result"
    }
   ],
   "source": [
    "fileRdd.collect()"
   ]
  },
  {
   "cell_type": "code",
   "execution_count": 5,
   "id": "e93afa6e-f749-4f5a-b61c-f7d447874ccf",
   "metadata": {},
   "outputs": [
    {
     "data": {
      "text/plain": [
       "['spark kafka',\n",
       " 'kafka   spark pyspark',\n",
       " '',\n",
       " 'spark',\n",
       " '',\n",
       " 'apache kafka apache spark']"
      ]
     },
     "execution_count": 5,
     "metadata": {},
     "output_type": "execute_result"
    }
   ],
   "source": [
    "lowerCaseRdd = fileRdd.map (lambda line: line.strip().lower())\n",
    "\n",
    "lowerCaseRdd.collect()"
   ]
  },
  {
   "cell_type": "code",
   "execution_count": 6,
   "id": "2cf094f0-1ae9-4e91-8896-df2428b369c9",
   "metadata": {},
   "outputs": [
    {
     "data": {
      "text/plain": [
       "[['spark', 'kafka'],\n",
       " ['kafka', '', '', 'spark', 'pyspark'],\n",
       " [''],\n",
       " ['spark'],\n",
       " [''],\n",
       " ['apache', 'kafka', 'apache', 'spark']]"
      ]
     },
     "execution_count": 6,
     "metadata": {},
     "output_type": "execute_result"
    }
   ],
   "source": [
    "wordListRdd = lowerCaseRdd.map (lambda line: line.split(\" \"))\n",
    "wordListRdd.collect()"
   ]
  },
  {
   "cell_type": "code",
   "execution_count": null,
   "id": "97322b14-35ef-4b18-b0cd-51f0774a3681",
   "metadata": {},
   "outputs": [],
   "source": []
  },
  {
   "cell_type": "code",
   "execution_count": 7,
   "id": "8da67abe-f400-44e2-b017-0f42d187b73e",
   "metadata": {},
   "outputs": [
    {
     "data": {
      "text/plain": [
       "['spark',\n",
       " 'kafka',\n",
       " 'kafka',\n",
       " '',\n",
       " '',\n",
       " 'spark',\n",
       " 'pyspark',\n",
       " '',\n",
       " 'spark',\n",
       " '',\n",
       " 'apache',\n",
       " 'kafka',\n",
       " 'apache',\n",
       " 'spark']"
      ]
     },
     "execution_count": 7,
     "metadata": {},
     "output_type": "execute_result"
    }
   ],
   "source": [
    "wordRdd = wordListRdd.flatMap(lambda elements: elements)\n",
    "wordRdd.collect()"
   ]
  },
  {
   "cell_type": "code",
   "execution_count": 8,
   "id": "8814cd5c-6d51-4584-a8a6-e34543fa21f2",
   "metadata": {},
   "outputs": [
    {
     "data": {
      "text/plain": [
       "['spark',\n",
       " 'kafka',\n",
       " 'kafka',\n",
       " 'spark',\n",
       " 'pyspark',\n",
       " 'spark',\n",
       " 'apache',\n",
       " 'kafka',\n",
       " 'apache',\n",
       " 'spark']"
      ]
     },
     "execution_count": 8,
     "metadata": {},
     "output_type": "execute_result"
    }
   ],
   "source": [
    "wordRdd =  wordRdd.filter (lambda word: word != \"\")\n",
    "wordRdd.collect()"
   ]
  },
  {
   "cell_type": "code",
   "execution_count": 9,
   "id": "4db871d1-4d3c-42b3-b4ee-9448b574fd3d",
   "metadata": {},
   "outputs": [
    {
     "data": {
      "text/plain": [
       "[('spark', 1),\n",
       " ('kafka', 1),\n",
       " ('kafka', 1),\n",
       " ('spark', 1),\n",
       " ('pyspark', 1),\n",
       " ('spark', 1),\n",
       " ('apache', 1),\n",
       " ('kafka', 1),\n",
       " ('apache', 1),\n",
       " ('spark', 1)]"
      ]
     },
     "execution_count": 9,
     "metadata": {},
     "output_type": "execute_result"
    }
   ],
   "source": [
    "pairRdd = wordRdd.map (lambda word: (word, 1))\n",
    "pairRdd.collect()"
   ]
  },
  {
   "cell_type": "code",
   "execution_count": 10,
   "id": "3192573d-fed3-47a3-8f72-ab0e6a1ddc29",
   "metadata": {},
   "outputs": [
    {
     "name": "stderr",
     "output_type": "stream",
     "text": [
      "                                                                                \r"
     ]
    },
    {
     "data": {
      "text/plain": [
       "[('spark', 4), ('kafka', 3), ('pyspark', 1), ('apache', 2)]"
      ]
     },
     "execution_count": 10,
     "metadata": {},
     "output_type": "execute_result"
    }
   ],
   "source": [
    "wordCountRdd = pairRdd.reduceByKey (lambda acc, value: acc +value)\n",
    "wordCountRdd.collect()"
   ]
  },
  {
   "cell_type": "code",
   "execution_count": 11,
   "id": "5d08acd6-cce7-4818-b18a-0fbed03093a2",
   "metadata": {},
   "outputs": [
    {
     "data": {
      "text/plain": [
       "1"
      ]
     },
     "execution_count": 11,
     "metadata": {},
     "output_type": "execute_result"
    }
   ],
   "source": [
    "wordCountRdd.getNumPartitions()"
   ]
  },
  {
   "cell_type": "code",
   "execution_count": 12,
   "id": "0995e4b9-6930-4629-92e1-90bf35fa1e56",
   "metadata": {},
   "outputs": [],
   "source": [
    "wordCountRdd.saveAsTextFile (\"hdfs://localhost:9000/word-count-result1\")"
   ]
  },
  {
   "cell_type": "code",
   "execution_count": 13,
   "id": "42cc865d-6aff-4fae-bb85-39a3c5ef48d5",
   "metadata": {},
   "outputs": [
    {
     "name": "stderr",
     "output_type": "stream",
     "text": [
      "                                                                                \r"
     ]
    }
   ],
   "source": [
    "wordCountRdd.repartition(2)\\\n",
    "            .saveAsTextFile(\"hdfs://localhost:9000/word-count-results2\")"
   ]
  },
  {
   "cell_type": "code",
   "execution_count": null,
   "id": "4a9181a5-4c71-4423-ad8e-4bbca625285f",
   "metadata": {},
   "outputs": [],
   "source": []
  }
 ],
 "metadata": {
  "kernelspec": {
   "display_name": "Python 3 (ipykernel)",
   "language": "python",
   "name": "python3"
  },
  "language_info": {
   "codemirror_mode": {
    "name": "ipython",
    "version": 3
   },
   "file_extension": ".py",
   "mimetype": "text/x-python",
   "name": "python",
   "nbconvert_exporter": "python",
   "pygments_lexer": "ipython3",
   "version": "3.7.12"
  }
 },
 "nbformat": 4,
 "nbformat_minor": 5
}
