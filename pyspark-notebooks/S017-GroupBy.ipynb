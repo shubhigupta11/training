{
 "cells": [
  {
   "cell_type": "code",
   "execution_count": 1,
   "id": "18c65945-0664-4cb5-84db-e159814596ba",
   "metadata": {},
   "outputs": [],
   "source": [
    "import findspark\n",
    "findspark.init()"
   ]
  },
  {
   "cell_type": "code",
   "execution_count": 2,
   "id": "218c1555-4298-48b2-af83-9e9fbf08b20c",
   "metadata": {},
   "outputs": [
    {
     "name": "stderr",
     "output_type": "stream",
     "text": [
      "22/03/02 03:15:01 WARN Utils: Your hostname, ubuntu-virtual-machine resolves to a loopback address: 127.0.1.1; using 192.168.80.128 instead (on interface ens33)\n",
      "22/03/02 03:15:01 WARN Utils: Set SPARK_LOCAL_IP if you need to bind to another address\n",
      "22/03/02 03:15:01 WARN NativeCodeLoader: Unable to load native-hadoop library for your platform... using builtin-java classes where applicable\n",
      "Using Spark's default log4j profile: org/apache/spark/log4j-defaults.properties\n",
      "Setting default log level to \"WARN\".\n",
      "To adjust logging level use sc.setLogLevel(newLevel). For SparkR, use setLogLevel(newLevel).\n",
      "22/03/02 03:15:03 WARN Utils: Service 'SparkUI' could not bind on port 4040. Attempting port 4041.\n",
      "22/03/02 03:15:03 WARN Utils: Service 'SparkUI' could not bind on port 4041. Attempting port 4042.\n",
      "22/03/02 03:15:03 WARN Utils: Service 'SparkUI' could not bind on port 4042. Attempting port 4043.\n",
      "22/03/02 03:15:03 WARN Utils: Service 'SparkUI' could not bind on port 4043. Attempting port 4044.\n",
      "22/03/02 03:15:03 WARN Utils: Service 'SparkUI' could not bind on port 4044. Attempting port 4045.\n",
      "22/03/02 03:15:03 WARN Utils: Service 'SparkUI' could not bind on port 4045. Attempting port 4046.\n",
      "22/03/02 03:15:03 WARN Utils: Service 'SparkUI' could not bind on port 4046. Attempting port 4047.\n",
      "22/03/02 03:15:03 WARN Utils: Service 'SparkUI' could not bind on port 4047. Attempting port 4048.\n"
     ]
    }
   ],
   "source": [
    "from pyspark import SparkContext\n",
    "sc = SparkContext(\"local\", \"GroupBy\")"
   ]
  },
  {
   "cell_type": "code",
   "execution_count": 6,
   "id": "57c51373-78d9-4aa1-b2e8-d59b2174a299",
   "metadata": {},
   "outputs": [
    {
     "name": "stdout",
     "output_type": "stream",
     "text": [
      "Group 1 <pyspark.resultiterable.ResultIterable object at 0x7f34f5b52c50>\n",
      "\tvalue 1\n",
      "\tvalue 3\n",
      "\tvalue 5\n",
      "\tvalue 7\n",
      "\tvalue 9\n",
      "Group 0 <pyspark.resultiterable.ResultIterable object at 0x7f34f5d9e690>\n",
      "\tvalue 2\n",
      "\tvalue 4\n",
      "\tvalue 6\n",
      "\tvalue 8\n"
     ]
    }
   ],
   "source": [
    "numbersRdd = sc.parallelize(range(1,10))\n",
    "resultRdd = numbersRdd.groupBy(lambda n: n % 2)\n",
    "results = resultRdd.collect()\n",
    "for Key, valueItr in results:\n",
    "    print(\"Group\", Key, valueItr)\n",
    "    for value in valueItr:\n",
    "        print(\"\\tvalue\", value)"
   ]
  },
  {
   "cell_type": "code",
   "execution_count": null,
   "id": "829c0a90-e346-48bc-a9d4-71bf87e1bb8e",
   "metadata": {},
   "outputs": [],
   "source": []
  }
 ],
 "metadata": {
  "kernelspec": {
   "display_name": "Python 3 (ipykernel)",
   "language": "python",
   "name": "python3"
  },
  "language_info": {
   "codemirror_mode": {
    "name": "ipython",
    "version": 3
   },
   "file_extension": ".py",
   "mimetype": "text/x-python",
   "name": "python",
   "nbconvert_exporter": "python",
   "pygments_lexer": "ipython3",
   "version": "3.7.12"
  }
 },
 "nbformat": 4,
 "nbformat_minor": 5
}
