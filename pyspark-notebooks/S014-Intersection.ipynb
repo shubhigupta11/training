{
 "cells": [
  {
   "cell_type": "code",
   "execution_count": 1,
   "id": "e85ab800-ad43-4e36-b656-e48772e04f11",
   "metadata": {},
   "outputs": [],
   "source": [
    "import findspark\n",
    "findspark.init()"
   ]
  },
  {
   "cell_type": "code",
   "execution_count": 2,
   "id": "5a84241e-ce0c-4057-a414-435fc4f47eb0",
   "metadata": {},
   "outputs": [
    {
     "name": "stderr",
     "output_type": "stream",
     "text": [
      "22/03/02 01:35:45 WARN Utils: Your hostname, ubuntu-virtual-machine resolves to a loopback address: 127.0.1.1; using 192.168.80.128 instead (on interface ens33)\n",
      "22/03/02 01:35:45 WARN Utils: Set SPARK_LOCAL_IP if you need to bind to another address\n",
      "22/03/02 01:35:45 WARN NativeCodeLoader: Unable to load native-hadoop library for your platform... using builtin-java classes where applicable\n",
      "Using Spark's default log4j profile: org/apache/spark/log4j-defaults.properties\n",
      "Setting default log level to \"WARN\".\n",
      "To adjust logging level use sc.setLogLevel(newLevel). For SparkR, use setLogLevel(newLevel).\n",
      "22/03/02 01:35:47 WARN Utils: Service 'SparkUI' could not bind on port 4040. Attempting port 4041.\n",
      "22/03/02 01:35:47 WARN Utils: Service 'SparkUI' could not bind on port 4041. Attempting port 4042.\n",
      "22/03/02 01:35:47 WARN Utils: Service 'SparkUI' could not bind on port 4042. Attempting port 4043.\n",
      "22/03/02 01:35:47 WARN Utils: Service 'SparkUI' could not bind on port 4043. Attempting port 4044.\n",
      "22/03/02 01:35:47 WARN Utils: Service 'SparkUI' could not bind on port 4044. Attempting port 4045.\n"
     ]
    }
   ],
   "source": [
    "from pyspark import SparkContext\n",
    "sc = SparkContext(\"local\", \"IntersectioUnion\")"
   ]
  },
  {
   "cell_type": "code",
   "execution_count": 4,
   "id": "82eef7b3-33dd-4a3d-b5ca-e77c9184a634",
   "metadata": {},
   "outputs": [],
   "source": [
    "dayTradeSymbols = sc.parallelize(['INFY', 'MINDTREE', 'TSLA'])\n",
    "swingTradeSymbols = sc.parallelize(['EMR', 'APPL', 'TSLA', 'INFY'])"
   ]
  },
  {
   "cell_type": "code",
   "execution_count": 5,
   "id": "bc3518e3-1945-4943-a686-ff6faa2a9053",
   "metadata": {},
   "outputs": [
    {
     "name": "stderr",
     "output_type": "stream",
     "text": [
      "                                                                                \r"
     ]
    },
    {
     "data": {
      "text/plain": [
       "['INFY', 'TSLA']"
      ]
     },
     "execution_count": 5,
     "metadata": {},
     "output_type": "execute_result"
    }
   ],
   "source": [
    "intersectionRdd = dayTradeSymbols.intersection(swingTradeSymbols)\n",
    "intersectionRdd.collect()"
   ]
  },
  {
   "cell_type": "code",
   "execution_count": 6,
   "id": "e4b96d58-f108-45bc-8d29-604c352bd8cd",
   "metadata": {},
   "outputs": [
    {
     "data": {
      "text/plain": [
       "['INFY', 'MINDTREE', 'TSLA', 'EMR', 'APPL', 'TSLA', 'INFY']"
      ]
     },
     "execution_count": 6,
     "metadata": {},
     "output_type": "execute_result"
    }
   ],
   "source": [
    "unionRdd = dayTradeSymbols.union(swingTradeSymbols)\n",
    "unionRdd.collect()"
   ]
  },
  {
   "cell_type": "code",
   "execution_count": 7,
   "id": "a304439a-3823-4205-8422-2c60ada39fe4",
   "metadata": {},
   "outputs": [
    {
     "data": {
      "text/plain": [
       "['INFY', 'EMR', 'APPL', 'MINDTREE', 'TSLA']"
      ]
     },
     "execution_count": 7,
     "metadata": {},
     "output_type": "execute_result"
    }
   ],
   "source": [
    "distinctRdd = unionRdd.distinct()\n",
    "distinctRdd.collect()"
   ]
  },
  {
   "cell_type": "code",
   "execution_count": null,
   "id": "05d8c605-00d9-490e-8aba-b5a1e5eabd61",
   "metadata": {},
   "outputs": [],
   "source": []
  }
 ],
 "metadata": {
  "kernelspec": {
   "display_name": "Python 3 (ipykernel)",
   "language": "python",
   "name": "python3"
  },
  "language_info": {
   "codemirror_mode": {
    "name": "ipython",
    "version": 3
   },
   "file_extension": ".py",
   "mimetype": "text/x-python",
   "name": "python",
   "nbconvert_exporter": "python",
   "pygments_lexer": "ipython3",
   "version": "3.7.12"
  }
 },
 "nbformat": 4,
 "nbformat_minor": 5
}
