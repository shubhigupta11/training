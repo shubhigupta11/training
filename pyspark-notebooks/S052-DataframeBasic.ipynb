{
 "cells": [
  {
   "cell_type": "code",
   "execution_count": 1,
   "id": "85fbde37-5073-487e-83f2-59ff52b75bb9",
   "metadata": {},
   "outputs": [],
   "source": [
    "import findspark\n",
    "findspark.init()"
   ]
  },
  {
   "cell_type": "code",
   "execution_count": 2,
   "id": "4202cf7d-500e-45c6-aaa5-31c7554e8128",
   "metadata": {
    "tags": []
   },
   "outputs": [
    {
     "name": "stderr",
     "output_type": "stream",
     "text": [
      "22/03/03 22:04:43 WARN Utils: Your hostname, ubuntu-virtual-machine resolves to a loopback address: 127.0.1.1; using 192.168.80.128 instead (on interface ens33)\n",
      "22/03/03 22:04:43 WARN Utils: Set SPARK_LOCAL_IP if you need to bind to another address\n",
      "22/03/03 22:04:43 WARN NativeCodeLoader: Unable to load native-hadoop library for your platform... using builtin-java classes where applicable\n",
      "Using Spark's default log4j profile: org/apache/spark/log4j-defaults.properties\n",
      "Setting default log level to \"WARN\".\n",
      "To adjust logging level use sc.setLogLevel(newLevel). For SparkR, use setLogLevel(newLevel).\n",
      "22/03/03 22:04:45 WARN Utils: Service 'SparkUI' could not bind on port 4040. Attempting port 4041.\n",
      "22/03/03 22:04:45 WARN Utils: Service 'SparkUI' could not bind on port 4041. Attempting port 4042.\n"
     ]
    }
   ],
   "source": [
    "from pyspark.conf import SparkConf\n",
    "config = SparkConf()\n",
    "# config.set(\"property\", \"value\")\n",
    "config.setMaster(\"local\").setAppName(\"DataFrameBasic\")\n",
    "\n",
    "from pyspark.sql import SparkSession\n",
    "spark =SparkSession.builder\\\n",
    "                    .config(conf=config)\\\n",
    "                    .getOrCreate()\n",
    "\n",
    "sc= spark.sparkContext"
   ]
  },
  {
   "cell_type": "code",
   "execution_count": 30,
   "id": "5a5ce046-dff1-4436-bbb8-54ec42d342b1",
   "metadata": {},
   "outputs": [
    {
     "name": "stdout",
     "output_type": "stream",
     "text": [
      "root\n",
      " |-- product_id: long (nullable = true)\n",
      " |-- product_name: string (nullable = true)\n",
      " |-- price: double (nullable = true)\n",
      " |-- brand_id: long (nullable = true)\n",
      " |-- offer: long (nullable = true)\n",
      "\n",
      "+----------+------------+------+--------+-----+\n",
      "|product_id|product_name| price|brand_id|offer|\n",
      "+----------+------------+------+--------+-----+\n",
      "|         1|      iphone|1000.0|     100|    0|\n",
      "|         2|      Galaxy| 545.5|     101| null|\n",
      "|         3|       Pixel|645.99|     101| null|\n",
      "+----------+------------+------+--------+-----+\n",
      "\n"
     ]
    }
   ],
   "source": [
    "products = [\n",
    "    (1, 'iphone', 1000.0, 100, 0),\n",
    "    (2, 'Galaxy', 545.50, 101, None),\n",
    "    (3, 'Pixel', 645.99, 101, None)\n",
    "]\n",
    "\n",
    "schema = ['product_id', 'product_name', 'price', 'brand_id', 'offer']\n",
    "\n",
    "productDf = spark.createDataFrame(data = products, schema = schema)\n",
    "productDf.printSchema()\n",
    "productDf.show()"
   ]
  },
  {
   "cell_type": "code",
   "execution_count": 5,
   "id": "7df859a4-761f-426d-a12f-fc25d65aebb2",
   "metadata": {},
   "outputs": [
    {
     "data": {
      "text/plain": [
       "1"
      ]
     },
     "execution_count": 5,
     "metadata": {},
     "output_type": "execute_result"
    }
   ],
   "source": [
    "productDf.rdd.getNumPartitions()"
   ]
  },
  {
   "cell_type": "code",
   "execution_count": 7,
   "id": "624e6806-4d2a-46cb-bd54-d520e5fa9d29",
   "metadata": {},
   "outputs": [],
   "source": [
    "df = productDf.filter (productDf['price'] <= 750)"
   ]
  },
  {
   "cell_type": "code",
   "execution_count": 8,
   "id": "474c0683-0a8c-49cb-93fc-ba3b4d89837b",
   "metadata": {},
   "outputs": [
    {
     "name": "stdout",
     "output_type": "stream",
     "text": [
      "+----------+------------+------+--------+\n",
      "|product_id|product_name| price|brand_id|\n",
      "+----------+------------+------+--------+\n",
      "|         2|      Galaxy| 545.5|     101|\n",
      "|         3|       Pixel|645.99|     101|\n",
      "+----------+------------+------+--------+\n",
      "\n"
     ]
    }
   ],
   "source": [
    "df.show()"
   ]
  },
  {
   "cell_type": "code",
   "execution_count": 9,
   "id": "3a450a7e-4cb7-469a-a1ab-26636edba281",
   "metadata": {},
   "outputs": [
    {
     "name": "stdout",
     "output_type": "stream",
     "text": [
      "root\n",
      " |-- product_name: string (nullable = true)\n",
      " |-- price: double (nullable = true)\n",
      "\n",
      "+------------+------+\n",
      "|product_name| price|\n",
      "+------------+------+\n",
      "|      iphone|1000.0|\n",
      "|      Galaxy| 545.5|\n",
      "|       Pixel|645.99|\n",
      "+------------+------+\n",
      "\n"
     ]
    }
   ],
   "source": [
    "df=productDf.select( \"product_name\", 'price')\n",
    "df.printSchema()\n",
    "df.show()"
   ]
  },
  {
   "cell_type": "code",
   "execution_count": 11,
   "id": "3f4cdb93-0f5b-44dd-a1d1-cb31f132d3f0",
   "metadata": {},
   "outputs": [
    {
     "name": "stdout",
     "output_type": "stream",
     "text": [
      "root\n",
      " |-- product_name: string (nullable = true)\n",
      " |-- upper(product_name): string (nullable = true)\n",
      " |-- price: double (nullable = true)\n",
      " |-- grand_total: double (nullable = true)\n",
      "\n",
      "+------------+-------------------+------+-----------------+\n",
      "|product_name|upper(product_name)| price|      grand_total|\n",
      "+------------+-------------------+------+-----------------+\n",
      "|      iphone|             IPHONE|1000.0|            900.0|\n",
      "|      Galaxy|             GALAXY| 545.5|           490.95|\n",
      "|       Pixel|              PIXEL|645.99|581.3910000000001|\n",
      "+------------+-------------------+------+-----------------+\n",
      "\n"
     ]
    }
   ],
   "source": [
    "df = productDf.selectExpr ('product_name', 'upper(product_name)',\n",
    "                           'price', 'price * .9 as grand_total')\n",
    "\n",
    "df.printSchema()\n",
    "df.show()"
   ]
  },
  {
   "cell_type": "code",
   "execution_count": 12,
   "id": "ef5415bf-a5a6-4d14-9a8e-cf368f760cd3",
   "metadata": {},
   "outputs": [
    {
     "name": "stdout",
     "output_type": "stream",
     "text": [
      "root\n",
      " |-- product_name: string (nullable = true)\n",
      " |-- title: string (nullable = true)\n",
      " |-- price: double (nullable = true)\n",
      " |-- grand_total: double (nullable = true)\n",
      "\n",
      "+------------+------+------+-----------------+\n",
      "|product_name| title| price|      grand_total|\n",
      "+------------+------+------+-----------------+\n",
      "|      iphone|IPHONE|1000.0|            900.0|\n",
      "|      Galaxy|GALAXY| 545.5|           490.95|\n",
      "|       Pixel| PIXEL|645.99|581.3910000000001|\n",
      "+------------+------+------+-----------------+\n",
      "\n"
     ]
    }
   ],
   "source": [
    "df = productDf.selectExpr ('product_name', 'upper(product_name) as title',\n",
    "                           'price', 'price * .9 as grand_total')\n",
    "\n",
    "df.printSchema()\n",
    "df.show()"
   ]
  },
  {
   "cell_type": "code",
   "execution_count": null,
   "id": "39a53ec5-cf42-4394-9fcc-442fe848a259",
   "metadata": {},
   "outputs": [],
   "source": [
    "df = productDf.withColumn('offer_price'"
   ]
  },
  {
   "cell_type": "code",
   "execution_count": 14,
   "id": "6723a255-a1f4-4de7-992f-302c3f32efa6",
   "metadata": {},
   "outputs": [
    {
     "name": "stdout",
     "output_type": "stream",
     "text": [
      "root\n",
      " |-- product_id: long (nullable = true)\n",
      " |-- product_name: string (nullable = true)\n",
      " |-- total: double (nullable = true)\n",
      " |-- brand_id: long (nullable = true)\n",
      "\n",
      "+----------+------------+------+--------+\n",
      "|product_id|product_name| total|brand_id|\n",
      "+----------+------------+------+--------+\n",
      "|         1|      iphone|1000.0|     100|\n",
      "|         2|      Galaxy| 545.5|     101|\n",
      "|         3|       Pixel|645.99|     101|\n",
      "+----------+------------+------+--------+\n",
      "\n"
     ]
    }
   ],
   "source": [
    "df = productDf.withColumnRenamed('price', 'total')\n",
    "df.printSchema()\n",
    "df.show()"
   ]
  },
  {
   "cell_type": "code",
   "execution_count": 16,
   "id": "0d2b093c-f575-4e2d-856c-45964a3f49e2",
   "metadata": {},
   "outputs": [
    {
     "name": "stdout",
     "output_type": "stream",
     "text": [
      "root\n",
      " |-- product_id: long (nullable = true)\n",
      " |-- product_name: string (nullable = true)\n",
      " |-- price: double (nullable = true)\n",
      "\n",
      "+----------+------------+------+\n",
      "|product_id|product_name| price|\n",
      "+----------+------------+------+\n",
      "|         1|      iphone|1000.0|\n",
      "|         2|      Galaxy| 545.5|\n",
      "|         3|       Pixel|645.99|\n",
      "+----------+------------+------+\n",
      "\n"
     ]
    }
   ],
   "source": [
    "df = productDf.drop('brand_id')\n",
    "df.printSchema()\n",
    "df.show()"
   ]
  },
  {
   "cell_type": "code",
   "execution_count": 21,
   "id": "8ee6fbdc-7faf-4f08-a18c-19cf6b70f774",
   "metadata": {},
   "outputs": [
    {
     "name": "stdout",
     "output_type": "stream",
     "text": [
      "root\n",
      " |-- product_id: long (nullable = true)\n",
      " |-- product_name: string (nullable = true)\n",
      " |-- price: double (nullable = true)\n",
      " |-- brand_id: long (nullable = true)\n",
      "\n",
      "+----------+------------+-----+--------+\n",
      "|product_id|product_name|price|brand_id|\n",
      "+----------+------------+-----+--------+\n",
      "|         2|      Galaxy|545.5|     101|\n",
      "+----------+------------+-----+--------+\n",
      "\n"
     ]
    }
   ],
   "source": [
    "df = productDf.filter (( productDf.price >= 500) & (productDf ['price'] <600))\n",
    "df.printSchema()\n",
    "df.show()"
   ]
  },
  {
   "cell_type": "code",
   "execution_count": 22,
   "id": "138aeb43-8054-442a-be71-99ca3b4324f7",
   "metadata": {},
   "outputs": [
    {
     "name": "stdout",
     "output_type": "stream",
     "text": [
      "root\n",
      " |-- product_id: long (nullable = true)\n",
      " |-- product_name: string (nullable = true)\n",
      " |-- price: double (nullable = true)\n",
      " |-- brand_id: long (nullable = true)\n",
      "\n",
      "+----------+------------+-----+--------+\n",
      "|product_id|product_name|price|brand_id|\n",
      "+----------+------------+-----+--------+\n",
      "|         2|      Galaxy|545.5|     101|\n",
      "+----------+------------+-----+--------+\n",
      "\n"
     ]
    }
   ],
   "source": [
    "df = productDf.where (( productDf.price >= 500) & (productDf ['price'] <600))\n",
    "df.printSchema()\n",
    "df.show()"
   ]
  },
  {
   "cell_type": "code",
   "execution_count": 23,
   "id": "c6401fa9-e9b2-463b-b299-1b5589b37c3e",
   "metadata": {},
   "outputs": [
    {
     "name": "stdout",
     "output_type": "stream",
     "text": [
      "root\n",
      " |-- product_id: long (nullable = true)\n",
      " |-- product_name: string (nullable = true)\n",
      " |-- price: double (nullable = true)\n",
      " |-- brand_id: long (nullable = true)\n",
      "\n",
      "+----------+------------+-----+--------+\n",
      "|product_id|product_name|price|brand_id|\n",
      "+----------+------------+-----+--------+\n",
      "|         2|      Galaxy|545.5|     101|\n",
      "+----------+------------+-----+--------+\n",
      "\n"
     ]
    }
   ],
   "source": [
    "df = productDf.where ('price >= 500 AND price <600')\n",
    "df.printSchema()\n",
    "df.show()"
   ]
  },
  {
   "cell_type": "code",
   "execution_count": 24,
   "id": "3119b2cc-4f46-42c1-91cd-69222af15264",
   "metadata": {},
   "outputs": [
    {
     "name": "stdout",
     "output_type": "stream",
     "text": [
      "Column<b'price'>\n",
      "Column<b'price'>\n",
      "Column<b'price'>\n"
     ]
    }
   ],
   "source": [
    "print(productDf.price)\n",
    "print(productDf['price'])\n",
    "\n",
    "from pyspark.sql.functions import col\n",
    "print(col('price'))"
   ]
  },
  {
   "cell_type": "code",
   "execution_count": 25,
   "id": "d880a82c-65d9-411f-bd61-0caad45711cf",
   "metadata": {},
   "outputs": [
    {
     "name": "stdout",
     "output_type": "stream",
     "text": [
      "root\n",
      " |-- product_id: long (nullable = true)\n",
      " |-- product_name: string (nullable = true)\n",
      " |-- price: double (nullable = true)\n",
      " |-- brand_id: long (nullable = true)\n",
      " |-- qty: integer (nullable = false)\n",
      " |-- amount: double (nullable = true)\n",
      "\n",
      "+----------+------------+------+--------+---+------+\n",
      "|product_id|product_name| price|brand_id|qty|amount|\n",
      "+----------+------------+------+--------+---+------+\n",
      "|         1|      iphone|1000.0|     100|  4|  null|\n",
      "|         2|      Galaxy| 545.5|     101|  4|  null|\n",
      "|         3|       Pixel|645.99|     101|  4|  null|\n",
      "+----------+------------+------+--------+---+------+\n",
      "\n"
     ]
    }
   ],
   "source": [
    "from pyspark.sql.functions import lit\n",
    "df = productDf.withColumn('qty', lit(4))\\\n",
    "            .withColumn('amount', col('qty') * ('price'))\n",
    "\n",
    "df.printSchema()\n",
    "df.show()"
   ]
  },
  {
   "cell_type": "code",
   "execution_count": 26,
   "id": "0ea4cf41-8192-4c33-b078-5fe5325f5f9c",
   "metadata": {},
   "outputs": [
    {
     "name": "stdout",
     "output_type": "stream",
     "text": [
      "+----------+------------+------+--------+\n",
      "|product_id|product_name| price|brand_id|\n",
      "+----------+------------+------+--------+\n",
      "|         2|      Galaxy| 545.5|     101|\n",
      "|         3|       Pixel|645.99|     101|\n",
      "|         1|      iphone|1000.0|     100|\n",
      "+----------+------------+------+--------+\n",
      "\n"
     ]
    }
   ],
   "source": [
    "df = productDf.sort('price')\n",
    "df.show() "
   ]
  },
  {
   "cell_type": "code",
   "execution_count": 28,
   "id": "b4de2ed3-0c93-47ea-81f8-d952e691e947",
   "metadata": {},
   "outputs": [
    {
     "name": "stdout",
     "output_type": "stream",
     "text": [
      "+----------+------------+------+--------+\n",
      "|product_id|product_name| price|brand_id|\n",
      "+----------+------------+------+--------+\n",
      "|         1|      iphone|1000.0|     100|\n",
      "|         3|       Pixel|645.99|     101|\n",
      "|         2|      Galaxy| 545.5|     101|\n",
      "+----------+------------+------+--------+\n",
      "\n"
     ]
    }
   ],
   "source": [
    "from pyspark.sql.functions import desc\n",
    "df = productDf.sort(desc('price'))\n",
    "df.show()                         "
   ]
  },
  {
   "cell_type": "code",
   "execution_count": 29,
   "id": "81076517-4026-4a34-9d67-0805da4f177c",
   "metadata": {},
   "outputs": [
    {
     "name": "stdout",
     "output_type": "stream",
     "text": [
      "+----------+------------+------+--------+\n",
      "|product_id|product_name| price|brand_id|\n",
      "+----------+------------+------+--------+\n",
      "|         2|      Galaxy| 545.5|     101|\n",
      "|         3|       Pixel|645.99|     101|\n",
      "|         1|      iphone|1000.0|     100|\n",
      "+----------+------------+------+--------+\n",
      "\n",
      "+----------+------------+------+--------+\n",
      "|product_id|product_name| price|brand_id|\n",
      "+----------+------------+------+--------+\n",
      "|         1|      iphone|1000.0|     100|\n",
      "|         3|       Pixel|645.99|     101|\n",
      "|         2|      Galaxy| 545.5|     101|\n",
      "+----------+------------+------+--------+\n",
      "\n"
     ]
    }
   ],
   "source": [
    "df = productDf.sort (productDf.price.asc())\n",
    "df.show()\n",
    "df = productDf.sort (productDf.price.desc())\n",
    "df.show()"
   ]
  },
  {
   "cell_type": "code",
   "execution_count": 33,
   "id": "f325d918-2e53-42bb-83cb-e0cc89b8fdaf",
   "metadata": {},
   "outputs": [
    {
     "name": "stdout",
     "output_type": "stream",
     "text": [
      "+----------+------------+------+--------+-----+\n",
      "|product_id|product_name| price|brand_id|offer|\n",
      "+----------+------------+------+--------+-----+\n",
      "|         1|      iphone|1000.0|     100|    0|\n",
      "|         2|      Galaxy| 545.5|     101| null|\n",
      "|         3|       Pixel|645.99|     101| null|\n",
      "+----------+------------+------+--------+-----+\n",
      "\n",
      "+----------+------------+------+--------+-----+\n",
      "|product_id|product_name| price|brand_id|offer|\n",
      "+----------+------------+------+--------+-----+\n",
      "|         1|      iphone|1000.0|     100|    0|\n",
      "|         2|      Galaxy| 545.5|     101|    0|\n",
      "|         3|       Pixel|645.99|     101|    0|\n",
      "+----------+------------+------+--------+-----+\n",
      "\n"
     ]
    }
   ],
   "source": [
    "productDf.show()\n",
    "df= productDf.fillna(value = 0, subset =['offer'])\n",
    "df.show()"
   ]
  },
  {
   "cell_type": "code",
   "execution_count": null,
   "id": "b24b898f-6ce9-4f84-a78d-451a11000298",
   "metadata": {},
   "outputs": [],
   "source": []
  }
 ],
 "metadata": {
  "kernelspec": {
   "display_name": "Python 3 (ipykernel)",
   "language": "python",
   "name": "python3"
  },
  "language_info": {
   "codemirror_mode": {
    "name": "ipython",
    "version": 3
   },
   "file_extension": ".py",
   "mimetype": "text/x-python",
   "name": "python",
   "nbconvert_exporter": "python",
   "pygments_lexer": "ipython3",
   "version": "3.7.12"
  }
 },
 "nbformat": 4,
 "nbformat_minor": 5
}
