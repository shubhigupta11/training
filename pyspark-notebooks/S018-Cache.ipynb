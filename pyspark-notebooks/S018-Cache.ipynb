{
 "cells": [
  {
   "cell_type": "code",
   "execution_count": 1,
   "id": "80979650-2f89-4132-a636-2fcaaab3d97f",
   "metadata": {},
   "outputs": [],
   "source": [
    "import findspark\n",
    "findspark.init()"
   ]
  },
  {
   "cell_type": "code",
   "execution_count": 2,
   "id": "a2db9425-e3da-4d36-9abe-33bc27b864ab",
   "metadata": {},
   "outputs": [
    {
     "name": "stderr",
     "output_type": "stream",
     "text": [
      "22/03/02 20:28:40 WARN Utils: Your hostname, ubuntu-virtual-machine resolves to a loopback address: 127.0.1.1; using 192.168.80.128 instead (on interface ens33)\n",
      "22/03/02 20:28:40 WARN Utils: Set SPARK_LOCAL_IP if you need to bind to another address\n",
      "22/03/02 20:28:41 WARN NativeCodeLoader: Unable to load native-hadoop library for your platform... using builtin-java classes where applicable\n",
      "Using Spark's default log4j profile: org/apache/spark/log4j-defaults.properties\n",
      "Setting default log level to \"WARN\".\n",
      "To adjust logging level use sc.setLogLevel(newLevel). For SparkR, use setLogLevel(newLevel).\n",
      "22/03/02 20:28:42 WARN Utils: Service 'SparkUI' could not bind on port 4040. Attempting port 4041.\n"
     ]
    }
   ],
   "source": [
    "from pyspark import SparkContext\n",
    "sc = SparkContext(\"local\", \"Cache\")"
   ]
  },
  {
   "cell_type": "code",
   "execution_count": 3,
   "id": "99d61c11-ea7f-4ee9-be77-217793571ff8",
   "metadata": {},
   "outputs": [],
   "source": [
    "from pyspark import StorageLevel"
   ]
  },
  {
   "cell_type": "code",
   "execution_count": 11,
   "id": "1fe157e4-a043-4894-9b39-6f310c98d263",
   "metadata": {},
   "outputs": [
    {
     "data": {
      "text/plain": [
       "'prince dont welcome'"
      ]
     },
     "execution_count": 11,
     "metadata": {},
     "output_type": "execute_result"
    }
   ],
   "source": [
    "def to_ascii(text):\n",
    "    import re\n",
    "    output = re.sub(r\"[^a-zA-Z0-9 ]\", \"\", text)\n",
    "    #print(output)\n",
    "    return output\n",
    "\n",
    "text = \"prince, don't; welcome\"\n",
    "to_ascii(text)"
   ]
  },
  {
   "cell_type": "code",
   "execution_count": 14,
   "id": "e59e3ef8-a08c-443a-8e6c-2caa2b07b07d",
   "metadata": {},
   "outputs": [],
   "source": [
    "wordCountRdd = sc.textFile(\"hdfs://localhost:9000/book-war-and-peace.txt\")\\\n",
    "                 .map (lambda line: line.strip().lower())\\\n",
    "                 .map (lambda line: line.split(\" \"))\\\n",
    "                 .flatMap(lambda elements: elements)\\\n",
    "                 .filter (lambda word: word != \"\")\\\n",
    "                 .map (lambda word: (word, 1))\\\n",
    "                 .reduceByKey(lambda acc, value: acc + value)"
   ]
  },
  {
   "cell_type": "code",
   "execution_count": 17,
   "id": "e0571e6e-c7de-4d1b-80b3-2bd3aff9fbf8",
   "metadata": {},
   "outputs": [
    {
     "data": {
      "text/plain": [
       "[('chapter', 366),\n",
       " ('i', 3209),\n",
       " ('\"well,', 262),\n",
       " ('prince,', 71),\n",
       " ('so', 1576),\n",
       " ('genoa', 3),\n",
       " ('and', 21327),\n",
       " ('lucca', 2),\n",
       " ('are', 1163),\n",
       " ('now', 957)]"
      ]
     },
     "execution_count": 17,
     "metadata": {},
     "output_type": "execute_result"
    }
   ],
   "source": [
    "wordCountRdd.cache() # , call persit internally with MEMORY_ONLY\n",
    "\n",
    "#wordCountRdd.persist(StorageLevel.MEMORY_AND_DISK) # we have many options\n",
    "#wordCountRdd.persist(StorageLevel.DISK_ONLY) # we have many options\n",
    "\n",
    "\n",
    "wordCountRdd.take(10)"
   ]
  },
  {
   "cell_type": "code",
   "execution_count": 20,
   "id": "aa2bb682-7e96-4e05-bc80-3e0e4ab9e040",
   "metadata": {},
   "outputs": [
    {
     "data": {
      "text/plain": [
       "[('buonapartes.', 1),\n",
       " ('infamies', 1),\n",
       " (\"'faithful\", 1),\n",
       " (\"slave,'\", 1),\n",
       " ('you--sit', 1),\n",
       " ('news.\"', 1),\n",
       " ('scherer,', 1),\n",
       " ('grippe;', 1),\n",
       " ('grippe', 1),\n",
       " ('elite.', 1)]"
      ]
     },
     "execution_count": 20,
     "metadata": {},
     "output_type": "execute_result"
    }
   ],
   "source": [
    "sortedRddAscending = wordCountRdd.sortBy(lambda kv: kv[1])\n",
    "\n",
    "sortedRddAscending.take(10)"
   ]
  },
  {
   "cell_type": "code",
   "execution_count": 21,
   "id": "edfb766a-6990-42f8-a2be-b25f8f5606c1",
   "metadata": {},
   "outputs": [
    {
     "name": "stdout",
     "output_type": "stream",
     "text": [
      "1\n"
     ]
    },
    {
     "data": {
      "text/plain": [
       "[('the', 34088),\n",
       " ('and', 21327),\n",
       " ('to', 16426),\n",
       " ('of', 14784),\n",
       " ('a', 10357),\n",
       " ('he', 9294),\n",
       " ('in', 8551),\n",
       " ('his', 7932),\n",
       " ('that', 7402),\n",
       " ('was', 7201)]"
      ]
     },
     "execution_count": 21,
     "metadata": {},
     "output_type": "execute_result"
    }
   ],
   "source": [
    "print(wordCountRdd.getNumPartitions())\n",
    "sortedRddDescending = wordCountRdd.sortBy(lambda kv: kv[1], ascending = False)\n",
    "\n",
    "sortedRddDescending.take(10)"
   ]
  },
  {
   "cell_type": "code",
   "execution_count": 22,
   "id": "8be13581-ad3c-491c-84a7-85203274524b",
   "metadata": {},
   "outputs": [],
   "source": [
    "wordCountRdd.saveAsTextFile(\"hdfs://localhost:9000/war-and-peace-1.txt\")"
   ]
  },
  {
   "cell_type": "code",
   "execution_count": 24,
   "id": "9dce5559-22c4-4d91-b63f-19fa7576885f",
   "metadata": {},
   "outputs": [],
   "source": [
    "sortedRddDescending.saveAsTextFile(\"hdfs://localhost:9000/war-and-peace-sorted-desc\")"
   ]
  },
  {
   "cell_type": "code",
   "execution_count": 25,
   "id": "3120c166-c3b7-49be-9815-b8e363112cba",
   "metadata": {},
   "outputs": [],
   "source": [
    "sortedRddAscending.saveAsTextFile(\"hdfs://localhost:9000/war-and-peace-sorted-asc\")"
   ]
  },
  {
   "cell_type": "code",
   "execution_count": null,
   "id": "621b6440-fa53-436f-9d0a-444e33d8ce03",
   "metadata": {},
   "outputs": [],
   "source": []
  }
 ],
 "metadata": {
  "kernelspec": {
   "display_name": "Python 3 (ipykernel)",
   "language": "python",
   "name": "python3"
  },
  "language_info": {
   "codemirror_mode": {
    "name": "ipython",
    "version": 3
   },
   "file_extension": ".py",
   "mimetype": "text/x-python",
   "name": "python",
   "nbconvert_exporter": "python",
   "pygments_lexer": "ipython3",
   "version": "3.7.12"
  }
 },
 "nbformat": 4,
 "nbformat_minor": 5
}
