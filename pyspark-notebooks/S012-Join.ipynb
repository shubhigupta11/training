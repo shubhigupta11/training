{
 "cells": [
  {
   "cell_type": "code",
   "execution_count": 1,
   "id": "d7e3ad50-b98c-43f7-8883-c4e60b35af78",
   "metadata": {},
   "outputs": [],
   "source": [
    "import findspark\n",
    "findspark.init()"
   ]
  },
  {
   "cell_type": "code",
   "execution_count": 2,
   "id": "6a3e7dd4-9b50-478c-b484-5479a049c4ac",
   "metadata": {
    "jupyter": {
     "source_hidden": true
    },
    "tags": []
   },
   "outputs": [
    {
     "name": "stderr",
     "output_type": "stream",
     "text": [
      "22/03/01 23:16:51 WARN Utils: Your hostname, ubuntu-virtual-machine resolves to a loopback address: 127.0.1.1; using 192.168.80.128 instead (on interface ens33)\n",
      "22/03/01 23:16:51 WARN Utils: Set SPARK_LOCAL_IP if you need to bind to another address\n",
      "22/03/01 23:16:52 WARN NativeCodeLoader: Unable to load native-hadoop library for your platform... using builtin-java classes where applicable\n",
      "Using Spark's default log4j profile: org/apache/spark/log4j-defaults.properties\n",
      "Setting default log level to \"WARN\".\n",
      "To adjust logging level use sc.setLogLevel(newLevel). For SparkR, use setLogLevel(newLevel).\n",
      "22/03/01 23:16:53 WARN Utils: Service 'SparkUI' could not bind on port 4040. Attempting port 4041.\n",
      "22/03/01 23:16:53 WARN Utils: Service 'SparkUI' could not bind on port 4041. Attempting port 4042.\n",
      "22/03/01 23:16:53 WARN Utils: Service 'SparkUI' could not bind on port 4042. Attempting port 4043.\n"
     ]
    }
   ],
   "source": [
    "from pyspark import SparkContext\n",
    "sc = SparkContext(\"local\", \"Join\")"
   ]
  },
  {
   "cell_type": "code",
   "execution_count": 7,
   "id": "e9e4442e-62bc-424a-a493-4d22efafa778",
   "metadata": {},
   "outputs": [
    {
     "name": "stderr",
     "output_type": "stream",
     "text": [
      "                                                                                \r"
     ]
    },
    {
     "data": {
      "text/plain": [
       "[(0, ('AUTOMATIVE', 'TSLA')),\n",
       " (0, ('AUTOMATIVE', 'GM')),\n",
       " (4, ('MANUFACTURING', 'SYM2')),\n",
       " (1, ('TEXTILE', 'SYM1'))]"
      ]
     },
     "execution_count": 7,
     "metadata": {},
     "output_type": "execute_result"
    }
   ],
   "source": [
    "sectors = [\n",
    "    # SECTOR ID, SECTOR NAME\n",
    "    (0, \"AUTOMATIVE\"),\n",
    "    (1, \"TEXTILE\"),\n",
    "    (2, \"IT\"),\n",
    "    (4, \"MANUFACTURING\")\n",
    "]\n",
    "\n",
    "stocks = [\n",
    "    # SECTOR ID, SYMBOL, PRICE\n",
    "    ( 0, \"TSLA\", 100),\n",
    "    (0, \"GM\", 40),\n",
    "    (1, \"SYM1\", 45),\n",
    "    (4, \"SYM2\", 67)\n",
    "]\n",
    "\n",
    "sectorRdd = sc.parallelize(sectors)\n",
    "stocksRdd = sc.parallelize(stocks)\n",
    "\n",
    "joinRdd = sectorRdd.join(stocksRdd)\n",
    "\n",
    "joinRdd.collect()"
   ]
  },
  {
   "cell_type": "code",
   "execution_count": 8,
   "id": "7163368e-708a-48ab-a590-ecc036379a2a",
   "metadata": {},
   "outputs": [
    {
     "data": {
      "text/plain": [
       "[(0, ('AUTOMATIVE', ('TSLA', 100))),\n",
       " (0, ('AUTOMATIVE', ('GM', 40))),\n",
       " (4, ('MANUFACTURING', ('SYM2', 67))),\n",
       " (1, ('TEXTILE', ('SYM1', 45)))]"
      ]
     },
     "execution_count": 8,
     "metadata": {},
     "output_type": "execute_result"
    }
   ],
   "source": [
    "sectors = [\n",
    "    # SECTOR ID, SECTOR NAME\n",
    "    (0, \"AUTOMATIVE\"),\n",
    "    (1, \"TEXTILE\"),\n",
    "    (2, \"IT\"),\n",
    "    (4, \"MANUFACTURING\")\n",
    "]\n",
    "\n",
    "stocks = [\n",
    "    # SECTOR ID, SYMBOL, PRICE\n",
    "    ( 0, (\"TSLA\", 100) ),\n",
    "    (0, (\"GM\", 40) ),\n",
    "    (1, (\"SYM1\", 45) ),\n",
    "    (4, (\"SYM2\", 67) )\n",
    "]\n",
    "\n",
    "sectorRdd = sc.parallelize(sectors)\n",
    "stocksRdd = sc.parallelize(stocks)\n",
    "\n",
    "joinRdd = sectorRdd.join(stocksRdd)\n",
    "\n",
    "joinRdd.collect()"
   ]
  },
  {
   "cell_type": "code",
   "execution_count": null,
   "id": "aa1e030b-6112-4ff9-9b45-58b8f5c6774f",
   "metadata": {},
   "outputs": [],
   "source": []
  }
 ],
 "metadata": {
  "kernelspec": {
   "display_name": "Python 3 (ipykernel)",
   "language": "python",
   "name": "python3"
  },
  "language_info": {
   "codemirror_mode": {
    "name": "ipython",
    "version": 3
   },
   "file_extension": ".py",
   "mimetype": "text/x-python",
   "name": "python",
   "nbconvert_exporter": "python",
   "pygments_lexer": "ipython3",
   "version": "3.7.12"
  }
 },
 "nbformat": 4,
 "nbformat_minor": 5
}
