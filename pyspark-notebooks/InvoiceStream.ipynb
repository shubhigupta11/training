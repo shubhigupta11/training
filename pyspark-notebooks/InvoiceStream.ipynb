{
 "cells": [
  {
   "cell_type": "code",
   "execution_count": null,
   "id": "b355f10f-b95d-4d16-9687-47709a0a2c64",
   "metadata": {},
   "outputs": [],
   "source": [
    "import os\n",
    "\n",
    "SCALA_VERSION = '2.12'\n",
    "SPARK_VERSION = '3.1.3'\n",
    "\n",
    "os.environ['PYSPARK_SUBMIT_ARGS'] = f'--packages org.apache.spark:spark-sql-kafka-0-10_{SCALA_VERSION}:{SPARK_VERSION} pyspark-shell'"
   ]
  },
  {
   "cell_type": "code",
   "execution_count": null,
   "id": "f7391fa6-8c65-49a9-a216-df3dea020a83",
   "metadata": {},
   "outputs": [],
   "source": [
    "import findspark\n",
    "findspark.init()"
   ]
  },
  {
   "cell_type": "code",
   "execution_count": null,
   "id": "af224df8-e87c-4bad-8a1c-f16bc73320b7",
   "metadata": {},
   "outputs": [],
   "source": [
    "import pyspark\n",
    "\n",
    "\n",
    "from pyspark.sql import SparkSession\n",
    "spark = SparkSession.builder.master(\"local[1]\")\\\n",
    "                            .appName(\"SparkStreamingKafkaBasic\").getOrCreate()"
   ]
  },
  {
   "cell_type": "code",
   "execution_count": null,
   "id": "f6bfe668-23d1-43da-909f-0f077ffb8186",
   "metadata": {},
   "outputs": [],
   "source": [
    "kafkaDf = spark.readStream.format(\"kafka\")\\\n",
    "              .option(\"kafka.bootstrap.servers\", \"localhost:9092\")\\\n",
    "              .option(\"subscribe\", \"orders\")\\\n",
    "              .load()"
   ]
  },
  {
   "cell_type": "code",
   "execution_count": null,
   "id": "eff1f9a2-d35f-4dd6-9d5a-8500135c3ed0",
   "metadata": {},
   "outputs": [],
   "source": [
    "kafkaDf.printSchema()"
   ]
  },
  {
   "cell_type": "code",
   "execution_count": null,
   "id": "d0cd8ada-e1ec-4117-b3a2-33a07bc74ba8",
   "metadata": {},
   "outputs": [],
   "source": [
    "orderRawDf = kafkaDf.selectExpr(\"CAST(value AS STRING)\", \"timestamp\")\n",
    "orderRawDf.printSchema()"
   ]
  },
  {
   "cell_type": "code",
   "execution_count": null,
   "id": "db55afdd-ba29-4b4a-a890-6d70854811cf",
   "metadata": {},
   "outputs": [],
   "source": [
    "import pyspark.sql.functions as F\n",
    "from pyspark.sql.types import StructField, StructType, IntegerType, StringType, DoubleType, DateType, LongType\n",
    "\n",
    "schema = StructType([\n",
    "            StructField(\"order_id\", IntegerType(), True),\n",
    "            StructField(\"item_id\", StringType(), True),\n",
    "            StructField(\"price\", IntegerType(), True),\n",
    "            StructField(\"qty\", IntegerType(), True),\n",
    "            StructField(\"order_date\", LongType(), True),\n",
    "            StructField(\"state\", StringType(), True),\n",
    "        ])"
   ]
  },
  {
   "cell_type": "code",
   "execution_count": null,
   "id": "745593e1-8b6c-4701-aefa-651a59fd1256",
   "metadata": {},
   "outputs": [],
   "source": [
    "jsonDf = orderRawDf.withColumn(\"value\", F.from_json(\"value\", schema))\n",
    "jsonDf.printSchema()"
   ]
  },
  {
   "cell_type": "code",
   "execution_count": null,
   "id": "77389cb3-d6e2-4132-9984-609c17fa3d1b",
   "metadata": {},
   "outputs": [],
   "source": [
    "orderDf = jsonDf.select(F.col(\"value.*\"))\n",
    "orderDf.printSchema()"
   ]
  },
  {
   "cell_type": "code",
   "execution_count": null,
   "id": "b490640b-f023-4607-b9f5-617c54550b2e",
   "metadata": {},
   "outputs": [],
   "source": [
    "orderDf = orderDf\\\n",
    "                .withColumn(\"timestampTemp\", (F.col(\"order_date\") / 1000).cast(\"timestamp\"))\\\n",
    "                .withColumn(\"order_time\", F.date_trunc(\"minute\", F.col(\"timestampTemp\")))\\\n",
    "                .drop(\"order_date\")\\\n",
    "                .drop(\"timestampTemp\")\\\n",
    "                .withColumnRenamed(\"order_time\", \"timestamp\")\n",
    "\n",
    "orderDf.printSchema()"
   ]
  },
  {
   "cell_type": "code",
   "execution_count": null,
   "id": "1d26d176-9945-4eb9-97ac-77f518b37121",
   "metadata": {
    "tags": []
   },
   "outputs": [],
   "source": [
    "orderDf5min= orderDf.withColumn(\"amount\", (F.col(\"price\") * F.col(\"qty\")))\\\n",
    "                    .withWatermark(\"timestamp\", \"1 minutes\")\\\n",
    "                    .groupBy(\"state\", F.window(\"timestamp\", \"5 minutes\"))\\\n",
    "                    .agg( F.sum(\"amount\").alias(\"amount\"))\n",
    "\n",
    "orderDf5min.printSchema()                            "
   ]
  },
  {
   "cell_type": "code",
   "execution_count": null,
   "id": "ff5d1102-023f-4c35-8b38-6e63a83b4591",
   "metadata": {},
   "outputs": [],
   "source": [
    "# echoOnconsole = orderDf5min\\\n",
    "#                  .writeStream\\\n",
    "#                 .outputMode(\"update\")\\\n",
    "#                 .format(\"console\")\\\n",
    "#                 .option(\"truncate\", False)\\\n",
    "#                 .start() # start the query. spark will subscribe for data"
   ]
  },
  {
   "cell_type": "code",
   "execution_count": null,
   "id": "fbb458e1-1702-4f10-b385-aa873714a292",
   "metadata": {},
   "outputs": [],
   "source": [
    "orderDf5minKafka = orderDf5min\\\n",
    "                            .selectExpr(\"to_json(struct(*)) AS value\")\n",
    "\n",
    "orderDf5minKafka\\\n",
    "            .writeStream\\\n",
    "             .format(\"kafka\")\\\n",
    "            .outputMode(\"update\")\\\n",
    "             .option(\"kafka.bootstrap.servers\", \"localhost:9092\")\\\n",
    "            .option(\"topic\", \"statewise-earning\")\\\n",
    "            .option(\"checkpointLocation\", \"file:///tmp/spark31\")\\\n",
    "            .start()"
   ]
  },
  {
   "cell_type": "code",
   "execution_count": null,
   "id": "9ce9f978-694d-4dd9-84c3-d9f1fee724c6",
   "metadata": {},
   "outputs": [
    {
     "name": "stderr",
     "output_type": "stream",
     "text": [
      "                                                                                \r"
     ]
    },
    {
     "name": "stdout",
     "output_type": "stream",
     "text": [
      "process batch called 48 writing  0\n"
     ]
    },
    {
     "name": "stderr",
     "output_type": "stream",
     "text": [
      "                                                                                \r"
     ]
    },
    {
     "name": "stdout",
     "output_type": "stream",
     "text": [
      "process batch called 49 writing  18\n"
     ]
    },
    {
     "name": "stderr",
     "output_type": "stream",
     "text": [
      "                                                                                \r"
     ]
    },
    {
     "name": "stdout",
     "output_type": "stream",
     "text": [
      "process batch called 50 writing  0\n"
     ]
    },
    {
     "name": "stderr",
     "output_type": "stream",
     "text": [
      "                                                                                \r"
     ]
    },
    {
     "name": "stdout",
     "output_type": "stream",
     "text": [
      "process batch called 51 writing  0\n"
     ]
    },
    {
     "name": "stderr",
     "output_type": "stream",
     "text": [
      "                                                                                \r"
     ]
    },
    {
     "name": "stdout",
     "output_type": "stream",
     "text": [
      "process batch called 52 writing  1\n"
     ]
    },
    {
     "name": "stderr",
     "output_type": "stream",
     "text": [
      "                                                                                \r"
     ]
    },
    {
     "name": "stdout",
     "output_type": "stream",
     "text": [
      "process batch called 53 writing  0\n"
     ]
    },
    {
     "name": "stderr",
     "output_type": "stream",
     "text": [
      "                                                                                \r"
     ]
    },
    {
     "name": "stdout",
     "output_type": "stream",
     "text": [
      "process batch called 54 writing  0\n"
     ]
    },
    {
     "name": "stderr",
     "output_type": "stream",
     "text": [
      "                                                                                \r"
     ]
    },
    {
     "name": "stdout",
     "output_type": "stream",
     "text": [
      "process batch called 55 writing  0\n"
     ]
    },
    {
     "name": "stderr",
     "output_type": "stream",
     "text": [
      "                                                                                \r"
     ]
    },
    {
     "name": "stdout",
     "output_type": "stream",
     "text": [
      "process batch called 56 writing  0\n"
     ]
    },
    {
     "name": "stderr",
     "output_type": "stream",
     "text": [
      "                                                                                \r"
     ]
    },
    {
     "name": "stdout",
     "output_type": "stream",
     "text": [
      "process batch called 57 writing  0\n"
     ]
    },
    {
     "name": "stderr",
     "output_type": "stream",
     "text": [
      "                                                                                \r"
     ]
    },
    {
     "name": "stdout",
     "output_type": "stream",
     "text": [
      "process batch called 58 writing  0\n"
     ]
    },
    {
     "name": "stderr",
     "output_type": "stream",
     "text": [
      "                                                                                \r"
     ]
    },
    {
     "name": "stdout",
     "output_type": "stream",
     "text": [
      "process batch called 59 writing  0\n"
     ]
    },
    {
     "name": "stderr",
     "output_type": "stream",
     "text": [
      "                                                                                \r"
     ]
    },
    {
     "name": "stdout",
     "output_type": "stream",
     "text": [
      "process batch called 60 writing  0\n"
     ]
    },
    {
     "name": "stderr",
     "output_type": "stream",
     "text": [
      "                                                                                \r"
     ]
    },
    {
     "name": "stdout",
     "output_type": "stream",
     "text": [
      "process batch called 61 writing  0\n"
     ]
    },
    {
     "name": "stderr",
     "output_type": "stream",
     "text": [
      "                                                                                \r"
     ]
    },
    {
     "name": "stdout",
     "output_type": "stream",
     "text": [
      "process batch called 62 writing  0\n"
     ]
    },
    {
     "name": "stderr",
     "output_type": "stream",
     "text": [
      "                                                                                \r"
     ]
    },
    {
     "name": "stdout",
     "output_type": "stream",
     "text": [
      "process batch called 63 writing  0\n"
     ]
    },
    {
     "name": "stderr",
     "output_type": "stream",
     "text": [
      "[Stage 577:============>(192 + 2) / 200][Stage 579:>                (0 + 0) / 1]\r"
     ]
    },
    {
     "name": "stdout",
     "output_type": "stream",
     "text": [
      "process batch called 64 writing  0\n"
     ]
    },
    {
     "name": "stderr",
     "output_type": "stream",
     "text": [
      "                                                                                \r"
     ]
    },
    {
     "name": "stdout",
     "output_type": "stream",
     "text": [
      "process batch called 65 writing  23\n"
     ]
    },
    {
     "name": "stderr",
     "output_type": "stream",
     "text": [
      "                                                                                \r"
     ]
    },
    {
     "name": "stdout",
     "output_type": "stream",
     "text": [
      "process batch called 66 writing  0\n"
     ]
    },
    {
     "name": "stderr",
     "output_type": "stream",
     "text": [
      "                                                                                \r"
     ]
    },
    {
     "name": "stdout",
     "output_type": "stream",
     "text": [
      "process batch called 67 writing  0\n"
     ]
    },
    {
     "name": "stderr",
     "output_type": "stream",
     "text": [
      "                                                                                \r"
     ]
    },
    {
     "name": "stdout",
     "output_type": "stream",
     "text": [
      "process batch called 68 writing  0\n"
     ]
    },
    {
     "name": "stderr",
     "output_type": "stream",
     "text": [
      "                                                                                \r"
     ]
    },
    {
     "name": "stdout",
     "output_type": "stream",
     "text": [
      "process batch called 69 writing  0\n"
     ]
    },
    {
     "name": "stderr",
     "output_type": "stream",
     "text": [
      "                                                                                \r"
     ]
    },
    {
     "name": "stdout",
     "output_type": "stream",
     "text": [
      "process batch called 70 writing  0\n"
     ]
    },
    {
     "name": "stderr",
     "output_type": "stream",
     "text": [
      "                                                                                \r"
     ]
    },
    {
     "name": "stdout",
     "output_type": "stream",
     "text": [
      "process batch called 71 writing  0\n"
     ]
    },
    {
     "name": "stderr",
     "output_type": "stream",
     "text": [
      "                                                                                \r"
     ]
    },
    {
     "name": "stdout",
     "output_type": "stream",
     "text": [
      "process batch called 72 writing  0\n"
     ]
    },
    {
     "name": "stderr",
     "output_type": "stream",
     "text": [
      "                                                                                \r"
     ]
    },
    {
     "name": "stdout",
     "output_type": "stream",
     "text": [
      "process batch called 73 writing  0\n"
     ]
    },
    {
     "name": "stderr",
     "output_type": "stream",
     "text": [
      "                                                                                \r"
     ]
    },
    {
     "name": "stdout",
     "output_type": "stream",
     "text": [
      "process batch called 74 writing  0\n"
     ]
    },
    {
     "name": "stderr",
     "output_type": "stream",
     "text": [
      "                                                                                \r"
     ]
    },
    {
     "name": "stdout",
     "output_type": "stream",
     "text": [
      "process batch called 75 writing  0\n"
     ]
    },
    {
     "name": "stderr",
     "output_type": "stream",
     "text": [
      "                                                                                \r"
     ]
    },
    {
     "name": "stdout",
     "output_type": "stream",
     "text": [
      "process batch called 76 writing  0\n"
     ]
    },
    {
     "name": "stderr",
     "output_type": "stream",
     "text": [
      "                                                                                \r"
     ]
    },
    {
     "name": "stdout",
     "output_type": "stream",
     "text": [
      "process batch called 77 writing  0\n"
     ]
    },
    {
     "name": "stderr",
     "output_type": "stream",
     "text": [
      "                                                                                \r"
     ]
    },
    {
     "name": "stdout",
     "output_type": "stream",
     "text": [
      "process batch called 78 writing  0\n"
     ]
    },
    {
     "name": "stderr",
     "output_type": "stream",
     "text": [
      "                                                                                \r"
     ]
    },
    {
     "name": "stdout",
     "output_type": "stream",
     "text": [
      "process batch called 79 writing  19\n"
     ]
    },
    {
     "name": "stderr",
     "output_type": "stream",
     "text": [
      "                                                                                \r"
     ]
    },
    {
     "name": "stdout",
     "output_type": "stream",
     "text": [
      "process batch called 80 writing  0\n"
     ]
    },
    {
     "name": "stderr",
     "output_type": "stream",
     "text": [
      "                                                                                \r"
     ]
    },
    {
     "name": "stdout",
     "output_type": "stream",
     "text": [
      "process batch called 81 writing  0\n"
     ]
    },
    {
     "name": "stderr",
     "output_type": "stream",
     "text": [
      "                                                                                \r"
     ]
    },
    {
     "name": "stdout",
     "output_type": "stream",
     "text": [
      "process batch called 82 writing  0\n"
     ]
    },
    {
     "name": "stderr",
     "output_type": "stream",
     "text": [
      "                                                                                \r"
     ]
    },
    {
     "name": "stdout",
     "output_type": "stream",
     "text": [
      "process batch called 83 writing  0\n"
     ]
    },
    {
     "name": "stderr",
     "output_type": "stream",
     "text": [
      "                                                                                \r"
     ]
    },
    {
     "name": "stdout",
     "output_type": "stream",
     "text": [
      "process batch called 84 writing  0\n"
     ]
    },
    {
     "name": "stderr",
     "output_type": "stream",
     "text": [
      "[Stage 766:============>(190 + 1) / 200][Stage 768:>                (0 + 0) / 1]\r"
     ]
    },
    {
     "name": "stdout",
     "output_type": "stream",
     "text": [
      "process batch called 85 writing  0\n"
     ]
    },
    {
     "name": "stderr",
     "output_type": "stream",
     "text": [
      "                                                                                \r"
     ]
    },
    {
     "name": "stdout",
     "output_type": "stream",
     "text": [
      "process batch called 86 writing  0\n"
     ]
    },
    {
     "name": "stderr",
     "output_type": "stream",
     "text": [
      "                                                                                \r"
     ]
    },
    {
     "name": "stdout",
     "output_type": "stream",
     "text": [
      "process batch called 87 writing  0\n"
     ]
    },
    {
     "name": "stderr",
     "output_type": "stream",
     "text": [
      "[Stage 793:============>(193 + 2) / 200][Stage 795:>                (0 + 0) / 1]\r"
     ]
    },
    {
     "name": "stdout",
     "output_type": "stream",
     "text": [
      "process batch called 88 writing  0\n"
     ]
    },
    {
     "name": "stderr",
     "output_type": "stream",
     "text": [
      "[Stage 804:>                                                        (0 + 1) / 1]\r"
     ]
    },
    {
     "name": "stdout",
     "output_type": "stream",
     "text": [
      "process batch called 89 writing  0\n"
     ]
    },
    {
     "name": "stderr",
     "output_type": "stream",
     "text": [
      "                                                                                \r"
     ]
    },
    {
     "name": "stdout",
     "output_type": "stream",
     "text": [
      "process batch called 90 writing  0\n"
     ]
    },
    {
     "name": "stderr",
     "output_type": "stream",
     "text": [
      "                                                                                \r"
     ]
    },
    {
     "name": "stdout",
     "output_type": "stream",
     "text": [
      "process batch called 91 writing  0\n"
     ]
    },
    {
     "name": "stderr",
     "output_type": "stream",
     "text": [
      "                                                                                \r"
     ]
    },
    {
     "name": "stdout",
     "output_type": "stream",
     "text": [
      "process batch called 92 writing  23\n"
     ]
    },
    {
     "name": "stderr",
     "output_type": "stream",
     "text": [
      "                                                                                \r"
     ]
    }
   ],
   "source": [
    "def processBatchData(candleBatchDf, batch_id):\n",
    "    print (\"process batch called\", batch_id, \"writing \", candleBatchDf.count())\n",
    "    \n",
    "    (\n",
    "     candleBatchDf\n",
    "        .select('*', F.col(\"window.*\"))\n",
    "        .withColumnRenamed(\"start\", \"start_time\")\n",
    "        .withColumnRenamed(\"end\", \"end_time\")\n",
    "        .drop(\"window\")\n",
    "        .write\n",
    "        .format(\"jdbc\")\n",
    "        .mode(\"append\")\n",
    "        .option(\"url\", \"jdbc:mysql://localhost:3306/stockdb?allowPublicKeyRetrieval=true&useSSL=false\")\n",
    "        .option(\"driver\", \"com.mysql.jdbc.Driver\")\n",
    "        .option(\"user\", \"team\")\n",
    "        .option(\"password\", \"Team1234!\")\n",
    "        .option(\"dbtable\", \"StatewiseEarning\")\n",
    "         .save()\n",
    "    )\n",
    "    \n",
    "orderDf5min.writeStream.outputMode(\"append\").foreachBatch(processBatchData).start()"
   ]
  },
  {
   "cell_type": "code",
   "execution_count": null,
   "id": "75eb981b-7e46-4521-b0ef-60e9470e763c",
   "metadata": {},
   "outputs": [],
   "source": []
  }
 ],
 "metadata": {
  "kernelspec": {
   "display_name": "Python 3 (ipykernel)",
   "language": "python",
   "name": "python3"
  },
  "language_info": {
   "codemirror_mode": {
    "name": "ipython",
    "version": 3
   },
   "file_extension": ".py",
   "mimetype": "text/x-python",
   "name": "python",
   "nbconvert_exporter": "python",
   "pygments_lexer": "ipython3",
   "version": "3.7.12"
  }
 },
 "nbformat": 4,
 "nbformat_minor": 5
}
