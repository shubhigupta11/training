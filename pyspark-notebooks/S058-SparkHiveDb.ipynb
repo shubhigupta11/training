{
 "cells": [
  {
   "cell_type": "code",
   "execution_count": 1,
   "id": "585be0b2-d9bc-4ad3-b510-f533388756bc",
   "metadata": {},
   "outputs": [],
   "source": [
    "import findspark\n",
    "findspark.init()"
   ]
  },
  {
   "cell_type": "code",
   "execution_count": 2,
   "id": "20bd4891-a1c0-485f-b3c4-6f54c80fd92c",
   "metadata": {},
   "outputs": [
    {
     "name": "stderr",
     "output_type": "stream",
     "text": [
      "Warning: Ignoring non-Spark config property: hive.metastore.uris\n",
      "Warning: Ignoring non-Spark config property: hive.metastore.warehouse.dir\n",
      "22/03/07 23:15:41 WARN Utils: Your hostname, ubuntu-virtual-machine resolves to a loopback address: 127.0.1.1; using 192.168.80.128 instead (on interface ens33)\n",
      "22/03/07 23:15:41 WARN Utils: Set SPARK_LOCAL_IP if you need to bind to another address\n",
      "22/03/07 23:15:42 WARN NativeCodeLoader: Unable to load native-hadoop library for your platform... using builtin-java classes where applicable\n",
      "Using Spark's default log4j profile: org/apache/spark/log4j-defaults.properties\n",
      "Setting default log level to \"WARN\".\n",
      "To adjust logging level use sc.setLogLevel(newLevel). For SparkR, use setLogLevel(newLevel).\n",
      "22/03/07 23:15:42 WARN SparkConf: Note that spark.local.dir will be overridden by the value set by the cluster manager (via SPARK_LOCAL_DIRS in mesos/standalone/kubernetes and LOCAL_DIRS in YARN).\n",
      "22/03/07 23:15:43 WARN Utils: Service 'SparkUI' could not bind on port 4040. Attempting port 4041.\n",
      "22/03/07 23:15:43 WARN Utils: Service 'SparkUI' could not bind on port 4041. Attempting port 4042.\n"
     ]
    }
   ],
   "source": [
    "from pyspark.conf import SparkConf\n",
    "config = SparkConf()\n",
    "# config.set(\"property\", \"value\")\n",
    "config.setMaster(\"local\").setAppName(\"SparkDatabase\")\n",
    "\n",
    "config.set(\"spark.local.dir\", \"home/ubuntu/spark-temp\")\n",
    "\n",
    "config.set(\"hive.metastore.uris\", \"thrift://localhost:9083\")\n",
    "config.set(\"hive.metastore.warehouse.dir\", \"hdfs://localhost:9000/user/hive/warehouse\")\n",
    "\n",
    "from pyspark.sql import SparkSession\n",
    "spark =SparkSession.builder\\\n",
    "                    .config(conf=config)\\\n",
    "                    .enableHiveSupport()\\\n",
    "                    .getOrCreate()\n",
    "\n",
    "sc= spark.sparkContext"
   ]
  },
  {
   "cell_type": "code",
   "execution_count": 3,
   "id": "4e2aecda-abd5-4f90-9e13-4c9535391565",
   "metadata": {},
   "outputs": [
    {
     "name": "stdout",
     "output_type": "stream",
     "text": [
      "+------------+\n",
      "|databaseName|\n",
      "+------------+\n",
      "|     default|\n",
      "|     moviedb|\n",
      "|    moviesdb|\n",
      "|  productsdb|\n",
      "|    sampledb|\n",
      "|      testdb|\n",
      "+------------+\n",
      "\n"
     ]
    }
   ],
   "source": [
    "spark.sql(\"SHOW DATABASES\").show()"
   ]
  },
  {
   "cell_type": "code",
   "execution_count": 6,
   "id": "743fca48-393a-4f5b-a405-8c79d45562d0",
   "metadata": {},
   "outputs": [
    {
     "name": "stdout",
     "output_type": "stream",
     "text": [
      "+--------+---------+-----------+\n",
      "|database|tableName|isTemporary|\n",
      "+--------+---------+-----------+\n",
      "| moviedb|    links|      false|\n",
      "| moviedb|   movies|      false|\n",
      "| moviedb|  ratings|      false|\n",
      "| moviedb|     tags|      false|\n",
      "+--------+---------+-----------+\n",
      "\n"
     ]
    }
   ],
   "source": [
    "spark.sql(\"SHOW TABLES in moviedb\").show()"
   ]
  },
  {
   "cell_type": "code",
   "execution_count": 7,
   "id": "dbf34411-902f-4b86-8793-f8e2ac3ae777",
   "metadata": {},
   "outputs": [
    {
     "data": {
      "text/plain": [
       "DataFrame[]"
      ]
     },
     "execution_count": 7,
     "metadata": {},
     "output_type": "execute_result"
    }
   ],
   "source": [
    "spark.sql(\"\"\"\n",
    "CREATE Table moviedb.reviews(user_id int, movie_id int, comment string)\n",
    "\"\"\"\n",
    "         )"
   ]
  },
  {
   "cell_type": "code",
   "execution_count": 8,
   "id": "d0b6a5d7-2d3f-4430-87b5-0bdec2422b51",
   "metadata": {},
   "outputs": [
    {
     "name": "stdout",
     "output_type": "stream",
     "text": [
      "+--------+---------+-----------+\n",
      "|database|tableName|isTemporary|\n",
      "+--------+---------+-----------+\n",
      "| moviedb|    links|      false|\n",
      "| moviedb|   movies|      false|\n",
      "| moviedb|  ratings|      false|\n",
      "| moviedb|  reviews|      false|\n",
      "| moviedb|     tags|      false|\n",
      "+--------+---------+-----------+\n",
      "\n"
     ]
    }
   ],
   "source": [
    "# location is /hive/user/warehouse/\n",
    "spark.sql (\"SHOW TABLES in moviedb\").show()"
   ]
  },
  {
   "cell_type": "code",
   "execution_count": 10,
   "id": "bb99906d-2a3a-43dc-b23d-c87ee3c39fba",
   "metadata": {},
   "outputs": [
    {
     "name": "stderr",
     "output_type": "stream",
     "text": [
      "                                                                                \r"
     ]
    },
    {
     "data": {
      "text/plain": [
       "DataFrame[]"
      ]
     },
     "execution_count": 10,
     "metadata": {},
     "output_type": "execute_result"
    }
   ],
   "source": [
    "spark.sql(\"\"\"\n",
    "INSERT INTO moviedb.reviews VALUES (1, 2, 'nice movie')\n",
    "\"\"\"\n",
    "         )"
   ]
  },
  {
   "cell_type": "code",
   "execution_count": 11,
   "id": "b8bc0230-490b-4316-9f34-35d6e1af1377",
   "metadata": {},
   "outputs": [
    {
     "name": "stdout",
     "output_type": "stream",
     "text": [
      "+-------+--------+----------+\n",
      "|user_id|movie_id|   comment|\n",
      "+-------+--------+----------+\n",
      "|      1|       2|nice movie|\n",
      "+-------+--------+----------+\n",
      "\n"
     ]
    }
   ],
   "source": [
    "spark.sql(\"SELECT * FROM moviedb.reviews\").show()"
   ]
  },
  {
   "cell_type": "code",
   "execution_count": null,
   "id": "e45996a3-c423-43c9-bd06-ec6c07f2aa19",
   "metadata": {},
   "outputs": [],
   "source": []
  }
 ],
 "metadata": {
  "kernelspec": {
   "display_name": "Python 3 (ipykernel)",
   "language": "python",
   "name": "python3"
  },
  "language_info": {
   "codemirror_mode": {
    "name": "ipython",
    "version": 3
   },
   "file_extension": ".py",
   "mimetype": "text/x-python",
   "name": "python",
   "nbconvert_exporter": "python",
   "pygments_lexer": "ipython3",
   "version": "3.7.12"
  }
 },
 "nbformat": 4,
 "nbformat_minor": 5
}
