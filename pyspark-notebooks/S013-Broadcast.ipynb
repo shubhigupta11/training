{
 "cells": [
  {
   "cell_type": "code",
   "execution_count": 1,
   "id": "25e0eaee-b16e-4b2f-8f6f-d1202a4441d2",
   "metadata": {},
   "outputs": [],
   "source": [
    "import findspark\n",
    "findspark.init()"
   ]
  },
  {
   "cell_type": "code",
   "execution_count": 2,
   "id": "b272116b-52b1-4c5f-afe5-b827d5df3203",
   "metadata": {},
   "outputs": [
    {
     "name": "stderr",
     "output_type": "stream",
     "text": [
      "22/03/02 20:31:26 WARN Utils: Your hostname, ubuntu-virtual-machine resolves to a loopback address: 127.0.1.1; using 192.168.80.128 instead (on interface ens33)\n",
      "22/03/02 20:31:26 WARN Utils: Set SPARK_LOCAL_IP if you need to bind to another address\n",
      "22/03/02 20:31:26 WARN NativeCodeLoader: Unable to load native-hadoop library for your platform... using builtin-java classes where applicable\n",
      "Using Spark's default log4j profile: org/apache/spark/log4j-defaults.properties\n",
      "Setting default log level to \"WARN\".\n",
      "To adjust logging level use sc.setLogLevel(newLevel). For SparkR, use setLogLevel(newLevel).\n",
      "22/03/02 20:31:28 WARN Utils: Service 'SparkUI' could not bind on port 4040. Attempting port 4041.\n",
      "22/03/02 20:31:28 WARN Utils: Service 'SparkUI' could not bind on port 4041. Attempting port 4042.\n"
     ]
    }
   ],
   "source": [
    "from pyspark import SparkContext\n",
    "sc = SparkContext(\"local\", \"BroadCast\")"
   ]
  },
  {
   "cell_type": "code",
   "execution_count": 3,
   "id": "10f97c95-25bd-4093-bd93-86b1d501013f",
   "metadata": {},
   "outputs": [],
   "source": [
    "sector_dict = {\n",
    "    \"MSFT\": \"TECH\",\n",
    "    \"TSLA\" : \"AUTO\",\n",
    "    \"EMR\" : \"INDUSTRIAL\"\n",
    "}\n",
    "\n",
    "stocks =[\n",
    "    (\"MSFT\", 100.0),\n",
    "    (\"EMR\", 52.0),\n",
    "    (\"TSLA\", 300.0)\n",
    "]   "
   ]
  },
  {
   "cell_type": "code",
   "execution_count": 4,
   "id": "424ac31c-9f18-47d2-a8f5-20f9b8dde978",
   "metadata": {},
   "outputs": [],
   "source": [
    "broadCastSectorDict = sc.broadcast(sector_dict)"
   ]
  },
  {
   "cell_type": "code",
   "execution_count": 5,
   "id": "91b41547-ff26-4306-9b9a-35a2e9301b70",
   "metadata": {},
   "outputs": [],
   "source": [
    "stocksRdd = sc.parallelize(stocks)"
   ]
  },
  {
   "cell_type": "code",
   "execution_count": 6,
   "id": "3c273e76-79f2-41d0-b225-042c17c70aae",
   "metadata": {},
   "outputs": [],
   "source": [
    "def enrichStockWithSector(stock):\n",
    "    return stock + (broadCastSectorDict.value[stock[0]] ,)"
   ]
  },
  {
   "cell_type": "code",
   "execution_count": 7,
   "id": "0469179d-1531-435c-9de2-46a0ad0ea369",
   "metadata": {},
   "outputs": [],
   "source": [
    "enrichedRdd = stocksRdd.map (lambda stock: enrichStockWithSector(stock))"
   ]
  },
  {
   "cell_type": "code",
   "execution_count": 8,
   "id": "ee7d879d-0c48-48f1-9ef6-2b88d81070e9",
   "metadata": {},
   "outputs": [
    {
     "name": "stderr",
     "output_type": "stream",
     "text": [
      "                                                                                \r"
     ]
    },
    {
     "data": {
      "text/plain": [
       "[('MSFT', 100.0, 'TECH'), ('EMR', 52.0, 'INDUSTRIAL'), ('TSLA', 300.0, 'AUTO')]"
      ]
     },
     "execution_count": 8,
     "metadata": {},
     "output_type": "execute_result"
    }
   ],
   "source": [
    "enrichedRdd.collect()"
   ]
  },
  {
   "cell_type": "code",
   "execution_count": 9,
   "id": "d191f8f0-94a4-42f6-b9ed-05d6f139d1d2",
   "metadata": {},
   "outputs": [
    {
     "data": {
      "text/plain": [
       "False"
      ]
     },
     "execution_count": 9,
     "metadata": {},
     "output_type": "execute_result"
    }
   ],
   "source": [
    "enrichedRdd.isEmpty()"
   ]
  },
  {
   "cell_type": "code",
   "execution_count": 10,
   "id": "889dd7ff-8273-4e7d-b0f4-1c1becb4ce7c",
   "metadata": {},
   "outputs": [
    {
     "data": {
      "text/plain": [
       "True"
      ]
     },
     "execution_count": 10,
     "metadata": {},
     "output_type": "execute_result"
    }
   ],
   "source": [
    "eRdd = sc.parallelize([])\n",
    "eRdd.isEmpty()"
   ]
  },
  {
   "cell_type": "code",
   "execution_count": null,
   "id": "3a29173a-cb10-4335-a862-e6574e76e64c",
   "metadata": {},
   "outputs": [],
   "source": []
  }
 ],
 "metadata": {
  "kernelspec": {
   "display_name": "Python 3 (ipykernel)",
   "language": "python",
   "name": "python3"
  },
  "language_info": {
   "codemirror_mode": {
    "name": "ipython",
    "version": 3
   },
   "file_extension": ".py",
   "mimetype": "text/x-python",
   "name": "python",
   "nbconvert_exporter": "python",
   "pygments_lexer": "ipython3",
   "version": "3.7.12"
  }
 },
 "nbformat": 4,
 "nbformat_minor": 5
}
