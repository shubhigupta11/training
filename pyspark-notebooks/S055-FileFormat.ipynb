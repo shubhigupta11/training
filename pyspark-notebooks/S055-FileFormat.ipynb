{
 "cells": [
  {
   "cell_type": "code",
   "execution_count": 1,
   "id": "6788d0dc-f0ef-45d2-8bec-20d0532a604b",
   "metadata": {},
   "outputs": [],
   "source": [
    "import findspark\n",
    "findspark.init()"
   ]
  },
  {
   "cell_type": "code",
   "execution_count": 2,
   "id": "7b6aac0a-8cde-49bf-baf3-25c7109cbacd",
   "metadata": {},
   "outputs": [
    {
     "name": "stderr",
     "output_type": "stream",
     "text": [
      "22/03/27 21:47:21 WARN Utils: Your hostname, ubuntu-virtual-machine resolves to a loopback address: 127.0.1.1; using 192.168.80.128 instead (on interface ens33)\n",
      "22/03/27 21:47:21 WARN Utils: Set SPARK_LOCAL_IP if you need to bind to another address\n"
     ]
    },
    {
     "name": "stdout",
     "output_type": "stream",
     "text": [
      ":: loading settings :: url = jar:file:/opt/spark-3.1.3-bin-hadoop2.7/jars/ivy-2.4.0.jar!/org/apache/ivy/core/settings/ivysettings.xml\n"
     ]
    },
    {
     "name": "stderr",
     "output_type": "stream",
     "text": [
      "Ivy Default Cache set to: /home/ubuntu/.ivy2/cache\n",
      "The jars for the packages stored in: /home/ubuntu/.ivy2/jars\n",
      "org.apache.spark#spark-sql-kafka-0-10_2.12 added as a dependency\n",
      ":: resolving dependencies :: org.apache.spark#spark-submit-parent-ce44b806-202d-4278-93f8-e011bc0946fa;1.0\n",
      "\tconfs: [default]\n",
      "\tfound org.apache.spark#spark-sql-kafka-0-10_2.12;3.1.3 in central\n",
      "\tfound org.apache.spark#spark-token-provider-kafka-0-10_2.12;3.1.3 in central\n",
      "\tfound org.apache.kafka#kafka-clients;2.6.0 in central\n",
      "\tfound com.github.luben#zstd-jni;1.4.8-1 in central\n",
      "\tfound org.lz4#lz4-java;1.7.1 in central\n",
      "\tfound org.xerial.snappy#snappy-java;1.1.8.2 in central\n",
      "\tfound org.slf4j#slf4j-api;1.7.30 in central\n",
      "\tfound org.spark-project.spark#unused;1.0.0 in central\n",
      "\tfound org.apache.commons#commons-pool2;2.6.2 in central\n",
      ":: resolution report :: resolve 595ms :: artifacts dl 10ms\n",
      "\t:: modules in use:\n",
      "\tcom.github.luben#zstd-jni;1.4.8-1 from central in [default]\n",
      "\torg.apache.commons#commons-pool2;2.6.2 from central in [default]\n",
      "\torg.apache.kafka#kafka-clients;2.6.0 from central in [default]\n",
      "\torg.apache.spark#spark-sql-kafka-0-10_2.12;3.1.3 from central in [default]\n",
      "\torg.apache.spark#spark-token-provider-kafka-0-10_2.12;3.1.3 from central in [default]\n",
      "\torg.lz4#lz4-java;1.7.1 from central in [default]\n",
      "\torg.slf4j#slf4j-api;1.7.30 from central in [default]\n",
      "\torg.spark-project.spark#unused;1.0.0 from central in [default]\n",
      "\torg.xerial.snappy#snappy-java;1.1.8.2 from central in [default]\n",
      "\t---------------------------------------------------------------------\n",
      "\t|                  |            modules            ||   artifacts   |\n",
      "\t|       conf       | number| search|dwnlded|evicted|| number|dwnlded|\n",
      "\t---------------------------------------------------------------------\n",
      "\t|      default     |   9   |   0   |   0   |   0   ||   9   |   0   |\n",
      "\t---------------------------------------------------------------------\n",
      ":: retrieving :: org.apache.spark#spark-submit-parent-ce44b806-202d-4278-93f8-e011bc0946fa\n",
      "\tconfs: [default]\n",
      "\t0 artifacts copied, 9 already retrieved (0kB/11ms)\n",
      "22/03/27 21:47:22 WARN NativeCodeLoader: Unable to load native-hadoop library for your platform... using builtin-java classes where applicable\n",
      "Using Spark's default log4j profile: org/apache/spark/log4j-defaults.properties\n",
      "Setting default log level to \"WARN\".\n",
      "To adjust logging level use sc.setLogLevel(newLevel). For SparkR, use setLogLevel(newLevel).\n",
      "22/03/27 21:47:24 WARN Utils: Service 'SparkUI' could not bind on port 4040. Attempting port 4041.\n",
      "22/03/27 21:47:24 WARN Utils: Service 'SparkUI' could not bind on port 4041. Attempting port 4042.\n",
      "22/03/27 21:47:24 WARN Utils: Service 'SparkUI' could not bind on port 4042. Attempting port 4043.\n",
      "22/03/27 21:47:24 WARN Utils: Service 'SparkUI' could not bind on port 4043. Attempting port 4044.\n",
      "22/03/27 21:47:24 WARN Utils: Service 'SparkUI' could not bind on port 4044. Attempting port 4045.\n",
      "22/03/27 21:47:24 WARN Utils: Service 'SparkUI' could not bind on port 4045. Attempting port 4046.\n",
      "22/03/27 21:47:24 WARN Utils: Service 'SparkUI' could not bind on port 4046. Attempting port 4047.\n"
     ]
    }
   ],
   "source": [
    "from pyspark.conf import SparkConf\n",
    "config = SparkConf()\n",
    "# config.set(\"property\", \"value\")\n",
    "config.setMaster(\"local\").setAppName(\"FileFormat\")\n",
    "\n",
    "from pyspark.sql import SparkSession\n",
    "spark =SparkSession.builder\\\n",
    "                    .config(conf=config)\\\n",
    "                    .getOrCreate()\n",
    "\n",
    "sc= spark.sparkContext"
   ]
  },
  {
   "cell_type": "code",
   "execution_count": 3,
   "id": "65944f4b-a5ed-45ae-b4de-ca7002b38879",
   "metadata": {},
   "outputs": [
    {
     "name": "stderr",
     "output_type": "stream",
     "text": [
      "                                                                                \r"
     ]
    }
   ],
   "source": [
    "movieDf = spark.read.format(\"csv\")\\\n",
    "                    .option(\"header\", True)\\\n",
    "                    .option(\"inferSchema\", True)\\\n",
    "                    .load(\"hdfs://localhost:9000/movies\")"
   ]
  },
  {
   "cell_type": "code",
   "execution_count": 4,
   "id": "09449278-757d-4a6b-ac86-0d168857cde3",
   "metadata": {},
   "outputs": [],
   "source": [
    "ratingDf = spark.read.format(\"csv\")\\\n",
    "                    .option(\"header\", True)\\\n",
    "                    .option(\"inferSchema\", True)\\\n",
    "                    .load(\"hdfs://localhost:9000/ratings\")"
   ]
  },
  {
   "cell_type": "code",
   "execution_count": 5,
   "id": "93ea47f9-7bb9-49cb-a45c-83b954e58ed1",
   "metadata": {},
   "outputs": [],
   "source": [
    "movieDf.write.mode(\"overwrite\")\\\n",
    "            .json(\"hdfs://localhost:9000/movies-json\")\n",
    "                    "
   ]
  },
  {
   "cell_type": "code",
   "execution_count": 6,
   "id": "2ea74b0d-ca03-49ca-81de-76d30a12afa6",
   "metadata": {},
   "outputs": [],
   "source": [
    "ratingDf.write.mode(\"overwrite\")\\\n",
    "            .json(\"hdfs://localhost:9000/ratings-json\")"
   ]
  },
  {
   "cell_type": "code",
   "execution_count": 7,
   "id": "78da0dee-a3b3-4e80-b8a3-875fbe41fd0c",
   "metadata": {},
   "outputs": [
    {
     "name": "stdout",
     "output_type": "stream",
     "text": [
      "root\n",
      " |-- genres: string (nullable = true)\n",
      " |-- movieId: long (nullable = true)\n",
      " |-- title: string (nullable = true)\n",
      "\n",
      "+--------------------+-------+--------------------+\n",
      "|              genres|movieId|               title|\n",
      "+--------------------+-------+--------------------+\n",
      "|Adventure|Animati...|      1|    Toy Story (1995)|\n",
      "|Adventure|Childre...|      2|      Jumanji (1995)|\n",
      "|      Comedy|Romance|      3|Grumpier Old Men ...|\n",
      "|Comedy|Drama|Romance|      4|Waiting to Exhale...|\n",
      "|              Comedy|      5|Father of the Bri...|\n",
      "+--------------------+-------+--------------------+\n",
      "only showing top 5 rows\n",
      "\n"
     ]
    }
   ],
   "source": [
    "movieJsonDf = spark.read.format(\"json\")\\\n",
    "                .option(\"inferSchema\", True)\\\n",
    "                .load(\"hdfs://localhost:9000/movies-json\")\n",
    "\n",
    "movieJsonDf.printSchema()\n",
    "movieJsonDf.show(5)"
   ]
  },
  {
   "cell_type": "code",
   "execution_count": 8,
   "id": "31e56da5-8d0a-42ca-bb98-dc8ddc599614",
   "metadata": {},
   "outputs": [
    {
     "name": "stdout",
     "output_type": "stream",
     "text": [
      "root\n",
      " |-- movieId: long (nullable = true)\n",
      " |-- rating: double (nullable = true)\n",
      " |-- timestamp: long (nullable = true)\n",
      " |-- userId: long (nullable = true)\n",
      "\n",
      "+-------+------+---------+------+\n",
      "|movieId|rating|timestamp|userId|\n",
      "+-------+------+---------+------+\n",
      "|      1|   4.0|964982703|     1|\n",
      "|      3|   4.0|964981247|     1|\n",
      "|      6|   4.0|964982224|     1|\n",
      "|     47|   5.0|964983815|     1|\n",
      "|     50|   5.0|964982931|     1|\n",
      "+-------+------+---------+------+\n",
      "only showing top 5 rows\n",
      "\n"
     ]
    }
   ],
   "source": [
    "ratingJsonDf = spark.read.format(\"json\")\\\n",
    "                .option(\"inferSchema\", True)\\\n",
    "                .load(\"hdfs://localhost:9000/ratings-json\")\n",
    "\n",
    "ratingJsonDf.printSchema()\n",
    "ratingJsonDf.show(5)"
   ]
  },
  {
   "cell_type": "code",
   "execution_count": 9,
   "id": "ade62237-9a6f-4cf4-8357-0d2f329361ca",
   "metadata": {},
   "outputs": [
    {
     "name": "stderr",
     "output_type": "stream",
     "text": [
      "                                                                                \r"
     ]
    }
   ],
   "source": [
    "movieDf.write.mode(\"overwrite\")\\\n",
    "            .parquet(\"hdfs://localhost:9000/movies-parquet\")\n",
    "\n",
    "ratingDf.write.mode(\"overwrite\")\\\n",
    "            .parquet(\"hdfs://localhost:9000/ratings-parquet\")"
   ]
  },
  {
   "cell_type": "code",
   "execution_count": 10,
   "id": "1fffef5f-7327-46d2-a3e3-320624e897b2",
   "metadata": {},
   "outputs": [
    {
     "name": "stdout",
     "output_type": "stream",
     "text": [
      "root\n",
      " |-- movieId: integer (nullable = true)\n",
      " |-- title: string (nullable = true)\n",
      " |-- genres: string (nullable = true)\n",
      "\n",
      "+-------+--------------------+--------------------+\n",
      "|movieId|               title|              genres|\n",
      "+-------+--------------------+--------------------+\n",
      "|      1|    Toy Story (1995)|Adventure|Animati...|\n",
      "|      2|      Jumanji (1995)|Adventure|Childre...|\n",
      "|      3|Grumpier Old Men ...|      Comedy|Romance|\n",
      "|      4|Waiting to Exhale...|Comedy|Drama|Romance|\n",
      "|      5|Father of the Bri...|              Comedy|\n",
      "+-------+--------------------+--------------------+\n",
      "only showing top 5 rows\n",
      "\n"
     ]
    }
   ],
   "source": [
    "movieParquetDf = spark.read.format(\"parquet\")\\\n",
    "                .load(\"hdfs://localhost:9000/movies-parquet\")\n",
    "\n",
    "movieParquetDf.printSchema()\n",
    "movieParquetDf.show(5)"
   ]
  },
  {
   "cell_type": "code",
   "execution_count": 11,
   "id": "c003b84d-96e4-47b2-81d1-ef74b31f9063",
   "metadata": {},
   "outputs": [
    {
     "name": "stdout",
     "output_type": "stream",
     "text": [
      "root\n",
      " |-- userId: integer (nullable = true)\n",
      " |-- movieId: integer (nullable = true)\n",
      " |-- rating: double (nullable = true)\n",
      " |-- timestamp: integer (nullable = true)\n",
      "\n",
      "+------+-------+------+---------+\n",
      "|userId|movieId|rating|timestamp|\n",
      "+------+-------+------+---------+\n",
      "|     1|      1|   4.0|964982703|\n",
      "|     1|      3|   4.0|964981247|\n",
      "|     1|      6|   4.0|964982224|\n",
      "|     1|     47|   5.0|964983815|\n",
      "|     1|     50|   5.0|964982931|\n",
      "+------+-------+------+---------+\n",
      "only showing top 5 rows\n",
      "\n"
     ]
    }
   ],
   "source": [
    "ratingParquetDf = spark.read.format(\"parquet\")\\\n",
    "                .load(\"hdfs://localhost:9000/ratings-parquet\")\n",
    "\n",
    "ratingParquetDf.printSchema()\n",
    "ratingParquetDf.show(5)"
   ]
  },
  {
   "cell_type": "code",
   "execution_count": 12,
   "id": "e64f50bb-dfd1-4bb9-93c6-2f2a67fb08e9",
   "metadata": {},
   "outputs": [],
   "source": [
    "movieDf.write.mode(\"overwrite\")\\\n",
    "            .orc(\"hdfs://localhost:9000/movies-orc\")\n",
    "\n",
    "ratingDf.write.mode(\"overwrite\")\\\n",
    "            .orc(\"hdfs://localhost:9000/ratings-orc\")"
   ]
  },
  {
   "cell_type": "code",
   "execution_count": 13,
   "id": "27539703-40da-41b0-a9ff-3a278c67f205",
   "metadata": {},
   "outputs": [
    {
     "name": "stdout",
     "output_type": "stream",
     "text": [
      "root\n",
      " |-- movieId: integer (nullable = true)\n",
      " |-- title: string (nullable = true)\n",
      " |-- genres: string (nullable = true)\n",
      "\n",
      "+-------+--------------------+--------------------+\n",
      "|movieId|               title|              genres|\n",
      "+-------+--------------------+--------------------+\n",
      "|      1|    Toy Story (1995)|Adventure|Animati...|\n",
      "|      2|      Jumanji (1995)|Adventure|Childre...|\n",
      "|      3|Grumpier Old Men ...|      Comedy|Romance|\n",
      "|      4|Waiting to Exhale...|Comedy|Drama|Romance|\n",
      "|      5|Father of the Bri...|              Comedy|\n",
      "+-------+--------------------+--------------------+\n",
      "only showing top 5 rows\n",
      "\n"
     ]
    }
   ],
   "source": [
    "movieOrcDf = spark.read.format(\"orc\")\\\n",
    "                .load(\"hdfs://localhost:9000/movies-orc\")\n",
    "\n",
    "movieOrcDf.printSchema()\n",
    "movieOrcDf.show(5)"
   ]
  },
  {
   "cell_type": "code",
   "execution_count": 14,
   "id": "77d6ae56-b9ef-4e59-8fa5-d146b72cb54b",
   "metadata": {},
   "outputs": [
    {
     "name": "stdout",
     "output_type": "stream",
     "text": [
      "root\n",
      " |-- userId: integer (nullable = true)\n",
      " |-- movieId: integer (nullable = true)\n",
      " |-- rating: double (nullable = true)\n",
      " |-- timestamp: integer (nullable = true)\n",
      "\n",
      "+------+-------+------+---------+\n",
      "|userId|movieId|rating|timestamp|\n",
      "+------+-------+------+---------+\n",
      "|     1|      1|   4.0|964982703|\n",
      "|     1|      3|   4.0|964981247|\n",
      "|     1|      6|   4.0|964982224|\n",
      "|     1|     47|   5.0|964983815|\n",
      "|     1|     50|   5.0|964982931|\n",
      "+------+-------+------+---------+\n",
      "only showing top 5 rows\n",
      "\n"
     ]
    }
   ],
   "source": [
    "ratingOrcDf = spark.read.format(\"orc\")\\\n",
    "                .load(\"hdfs://localhost:9000/ratings-orc\")\n",
    "\n",
    "ratingOrcDf.printSchema()\n",
    "ratingOrcDf.show(5)"
   ]
  },
  {
   "cell_type": "code",
   "execution_count": null,
   "id": "05729034-940e-42f3-97d6-d32daef676fb",
   "metadata": {},
   "outputs": [],
   "source": []
  }
 ],
 "metadata": {
  "kernelspec": {
   "display_name": "Python 3 (ipykernel)",
   "language": "python",
   "name": "python3"
  },
  "language_info": {
   "codemirror_mode": {
    "name": "ipython",
    "version": 3
   },
   "file_extension": ".py",
   "mimetype": "text/x-python",
   "name": "python",
   "nbconvert_exporter": "python",
   "pygments_lexer": "ipython3",
   "version": "3.7.12"
  }
 },
 "nbformat": 4,
 "nbformat_minor": 5
}
